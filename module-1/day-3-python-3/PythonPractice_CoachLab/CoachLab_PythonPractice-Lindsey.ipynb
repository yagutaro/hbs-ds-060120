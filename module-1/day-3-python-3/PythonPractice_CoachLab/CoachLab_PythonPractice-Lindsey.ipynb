{
 "cells": [
  {
   "cell_type": "markdown",
   "metadata": {},
   "source": [
    "# Python Practice\n",
    "\n",
    "![boston city image, from the boston herald](bostoncity_source-bostonherald.jpg)\n",
    "\n",
    "I don't know about you all, but I miss traveling right now! Maybe looking at some details about cities around the world will sate my travel urges for now - so let's use a dictionary of cities to practice variable types, lists,  dictionaries and for-loops.\n",
    "\n",
    "This cities dictionary may look familiar to some of you - it was also used in your Prework, in the [Looping Over Collections Lab](https://learn.co/tracks/data-science-enterprise-harvard-business-school-summer-bootcamp/optional-prework-python/introduction-to-python/looping-over-collections-lab)"
   ]
  },
  {
   "cell_type": "code",
   "execution_count": 2,
   "metadata": {},
   "outputs": [],
   "source": [
    "# Here's a list of city dictionaries\n",
    "cities_dict_list = [\n",
    "    {'City': 'Buenos Aires',\n",
    "     'Country': 'Argentina',\n",
    "     'Population': 2891000,\n",
    "     'Area': 4758},\n",
    "    {'City': 'Toronto',\n",
    "     'Country': 'Canada',\n",
    "     'Population': 2800000,\n",
    "     'Area': 2731},\n",
    "    {'City': 'Pyeongchang',\n",
    "     'Country': 'South Korea',\n",
    "     'Population': 2581000,\n",
    "     'Area': 3194},\n",
    "    {'City': 'Marrakesh',\n",
    "     'Country': 'Morocco',\n",
    "     'Population': 928850,\n",
    "     'Area': 200},\n",
    "    {'City': 'Albuquerque',\n",
    "     'Country': 'USA',\n",
    "     'Population': 559277,\n",
    "     'Area': 491},\n",
    "    {'City': 'Los Cabos',\n",
    "     'Country': 'Mexico',\n",
    "     'Population': 287671,\n",
    "     'Area': 3750},\n",
    "    {'City': 'Greenville',\n",
    "     'Country': 'USA',\n",
    "     'Population': 84554,\n",
    "     'Area': 68},\n",
    "    {'City': 'Archipelago Sea',\n",
    "     'Country': 'Finland',\n",
    "     'Population': 60000,\n",
    "     'Area': 8300},\n",
    "    {'City': 'Walla Walla Valley',\n",
    "     'Country': 'Oregon',\n",
    "     'Population': 32237,\n",
    "     'Area': 33},\n",
    "    {'City': 'Salina Island',\n",
    "     'Country': 'Italy',\n",
    "     'Population': 4000,\n",
    "     'Area': 27},\n",
    "    {'City': 'Solta',\n",
    "     'Country': 'Croatia',\n",
    "     'Population': 1700,\n",
    "     'Area': 59},\n",
    "    {'City': 'Iguazu Falls',\n",
    "     'Country': 'Argentina',\n",
    "     'Population': 0,\n",
    "     'Area': 672}\n",
    "]"
   ]
  },
  {
   "cell_type": "markdown",
   "metadata": {},
   "source": [
    "Let's look at the first city in the list of city dictionaries, Buenos Aires:"
   ]
  },
  {
   "cell_type": "code",
   "execution_count": 4,
   "metadata": {},
   "outputs": [
    {
     "data": {
      "text/plain": [
       "{'City': 'Buenos Aires',\n",
       " 'Country': 'Argentina',\n",
       " 'Population': 2891000,\n",
       " 'Area': 4758}"
      ]
     },
     "execution_count": 4,
     "metadata": {},
     "output_type": "execute_result"
    }
   ],
   "source": [
    "cities_dict_list[0]"
   ]
  },
  {
   "cell_type": "markdown",
   "metadata": {},
   "source": [
    "Save it into a new variable, `first_city`:"
   ]
  },
  {
   "cell_type": "code",
   "execution_count": 5,
   "metadata": {},
   "outputs": [],
   "source": [
    "first_city = cities_dict_list[0]"
   ]
  },
  {
   "cell_type": "markdown",
   "metadata": {},
   "source": [
    "Let's say I want to print all of the details about Buenos Aires nicely? How can we use `f-string` or `format` to do that?"
   ]
  },
  {
   "cell_type": "code",
   "execution_count": 18,
   "metadata": {},
   "outputs": [
    {
     "name": "stdout",
     "output_type": "stream",
     "text": [
      "Buenos Aires is in Argentina, with a population of 2891000 and area of 4758\n"
     ]
    }
   ],
   "source": [
    "print(f\"{first_city['City']} is in {first_city['Country']}, with a population of {first_city['Population']} and area of {first_city['Area']}\")"
   ]
  },
  {
   "cell_type": "code",
   "execution_count": 10,
   "metadata": {},
   "outputs": [
    {
     "name": "stdout",
     "output_type": "stream",
     "text": [
      "Buenos Aires is in Argentina, with a population of 2891000 and area of 4758\n"
     ]
    }
   ],
   "source": [
    "print(\"{} is in {}, with a population of {} and area of {}\".format(first_city['City'],\n",
    "                                                                  first_city['Country'],\n",
    "                                                                  first_city['Population'],\n",
    "                                                                  first_city['Area']))"
   ]
  },
  {
   "cell_type": "markdown",
   "metadata": {},
   "source": [
    "Let's use a for-loop and do the same thing for each city in `cities_dict_list`:"
   ]
  },
  {
   "cell_type": "code",
   "execution_count": 24,
   "metadata": {},
   "outputs": [
    {
     "data": {
      "text/plain": [
       "{'City': 'Buenos Aires',\n",
       " 'Country': 'Argentina',\n",
       " 'Population': 2891000,\n",
       " 'Area': 4758}"
      ]
     },
     "execution_count": 24,
     "metadata": {},
     "output_type": "execute_result"
    }
   ],
   "source": [
    "cities_dict_list[0]"
   ]
  },
  {
   "cell_type": "code",
   "execution_count": 20,
   "metadata": {
    "scrolled": false
   },
   "outputs": [
    {
     "name": "stdout",
     "output_type": "stream",
     "text": [
      "Buenos Aires is in Argentina, with a population of 2891000 and area of 4758\n",
      "----\n",
      "Toronto is in Canada, with a population of 2800000 and area of 2731\n",
      "----\n",
      "Pyeongchang is in South Korea, with a population of 2581000 and area of 3194\n",
      "----\n",
      "Marrakesh is in Morocco, with a population of 928850 and area of 200\n",
      "----\n",
      "Albuquerque is in USA, with a population of 559277 and area of 491\n",
      "----\n",
      "Los Cabos is in Mexico, with a population of 287671 and area of 3750\n",
      "----\n",
      "Greenville is in USA, with a population of 84554 and area of 68\n",
      "----\n",
      "Archipelago Sea is in Finland, with a population of 60000 and area of 8300\n",
      "----\n",
      "Walla Walla Valley is in Oregon, with a population of 32237 and area of 33\n",
      "----\n",
      "Salina Island is in Italy, with a population of 4000 and area of 27\n",
      "----\n",
      "Solta is in Croatia, with a population of 1700 and area of 59\n",
      "----\n",
      "Iguazu Falls is in Argentina, with a population of 0 and area of 672\n",
      "----\n"
     ]
    }
   ],
   "source": [
    "for city in cities_dict_list:\n",
    "    print(\"{} is in {}, with a population of {} and area of {}\".format(city['City'],\n",
    "                                                                       city['Country'],\n",
    "                                                                       city['Population'],\n",
    "                                                                       city['Area']))\n",
    "    print(\"----\")"
   ]
  },
  {
   "cell_type": "markdown",
   "metadata": {},
   "source": [
    "Sweet!\n",
    "\n",
    "Now, let's see if we can find out what the total population is across all of our cities:"
   ]
  },
  {
   "cell_type": "code",
   "execution_count": 26,
   "metadata": {},
   "outputs": [],
   "source": [
    "total_population = 0\n",
    "for city in cities_dict_list:\n",
    "    total_population += city['Population']\n",
    "#     total_population = total_population + city['Population']"
   ]
  },
  {
   "cell_type": "code",
   "execution_count": 27,
   "metadata": {},
   "outputs": [
    {
     "data": {
      "text/plain": [
       "10230289"
      ]
     },
     "execution_count": 27,
     "metadata": {},
     "output_type": "execute_result"
    }
   ],
   "source": [
    "total_population"
   ]
  },
  {
   "cell_type": "markdown",
   "metadata": {},
   "source": [
    "Note: you can use `f-string`s or `.format` to make that string look nicer.\n",
    "\n",
    "Start with this example: \" `print(f'{value:,}')` \" and see if you can get it to work with the total population we calculated above:"
   ]
  },
  {
   "cell_type": "code",
   "execution_count": 30,
   "metadata": {},
   "outputs": [
    {
     "name": "stdout",
     "output_type": "stream",
     "text": [
      "10,230,289\n"
     ]
    }
   ],
   "source": [
    "print(f'{total_population:,}')"
   ]
  },
  {
   "cell_type": "markdown",
   "metadata": {},
   "source": [
    "Unfortunately, and you may have already seen this by now, but it says that `Walla Walla Valley` is in `Country: Oregon` - and Oregon is not a country! Let's update that value to say `USA`:"
   ]
  },
  {
   "cell_type": "code",
   "execution_count": 31,
   "metadata": {},
   "outputs": [],
   "source": [
    "for city in cities_dict_list:\n",
    "    if city['Country'] == 'Oregon':\n",
    "        city['Country'] = 'USA'"
   ]
  },
  {
   "cell_type": "code",
   "execution_count": 38,
   "metadata": {},
   "outputs": [],
   "source": [
    "# cities_dict_list[-4]['Country'] = 'USA'"
   ]
  },
  {
   "cell_type": "markdown",
   "metadata": {},
   "source": [
    "Now let's use a for loop and an `if` statement to print out all the cities that are in `Country: USA`:"
   ]
  },
  {
   "cell_type": "code",
   "execution_count": 44,
   "metadata": {},
   "outputs": [
    {
     "name": "stdout",
     "output_type": "stream",
     "text": [
      "{'City': 'Albuquerque', 'Country': 'USA', 'Population': 559277, 'Area': 491}\n",
      "Albuquerque\n",
      "{'City': 'Greenville', 'Country': 'USA', 'Population': 84554, 'Area': 68}\n",
      "Greenville\n",
      "{'City': 'Walla Walla Valley', 'Country': 'USA', 'Population': 32237, 'Area': 33}\n",
      "Walla Walla Valley\n"
     ]
    }
   ],
   "source": [
    "for city in cities_dict_list:\n",
    "    if city['Country'] == 'USA':\n",
    "        print(city['City'])"
   ]
  },
  {
   "cell_type": "markdown",
   "metadata": {},
   "source": [
    "Now let's say we want to only grab cities where the population is more than 100,000 people. Write a for loop that does so:"
   ]
  },
  {
   "cell_type": "code",
   "execution_count": 59,
   "metadata": {},
   "outputs": [
    {
     "name": "stdout",
     "output_type": "stream",
     "text": [
      "('City', 'Buenos Aires')\n",
      "('Country', 'Argentina')\n",
      "('Population', 2891000)\n",
      "('Area', 4758)\n"
     ]
    }
   ],
   "source": [
    "for item in first_city.items():\n",
    "    print(item)"
   ]
  },
  {
   "cell_type": "code",
   "execution_count": 58,
   "metadata": {
    "scrolled": true
   },
   "outputs": [
    {
     "name": "stdout",
     "output_type": "stream",
     "text": [
      "City\n",
      "Buenos Aires\n",
      "Country\n",
      "Argentina\n",
      "Population\n",
      "2891000\n",
      "Area\n",
      "4758\n"
     ]
    }
   ],
   "source": [
    "for key, value in first_city.items():\n",
    "    print(key)\n",
    "    print(value)"
   ]
  },
  {
   "cell_type": "code",
   "execution_count": 61,
   "metadata": {},
   "outputs": [
    {
     "data": {
      "text/plain": [
       "dict"
      ]
     },
     "execution_count": 61,
     "metadata": {},
     "output_type": "execute_result"
    }
   ],
   "source": [
    "type(first_city)"
   ]
  },
  {
   "cell_type": "code",
   "execution_count": 62,
   "metadata": {
    "scrolled": true
   },
   "outputs": [
    {
     "name": "stdout",
     "output_type": "stream",
     "text": [
      "City\n",
      "Country\n",
      "Population\n",
      "Area\n"
     ]
    }
   ],
   "source": [
    "for detail in first_city.keys():\n",
    "    print(detail)"
   ]
  },
  {
   "cell_type": "code",
   "execution_count": 50,
   "metadata": {},
   "outputs": [
    {
     "name": "stdout",
     "output_type": "stream",
     "text": [
      "I want to go to Argentina\n",
      "Albuquerque\n",
      "Albuquerque 559277\n",
      "Greenville\n",
      "Walla Walla Valley\n",
      "I want to go to Argentina\n"
     ]
    }
   ],
   "source": [
    "for city in cities_dict_list:\n",
    "    if city['Country'] == 'USA':\n",
    "        print(city['City'])\n",
    "        if city['Population'] > 100000:\n",
    "            print(city['City'], city['Population'])\n",
    "    elif city['Country'] == 'Argentina':\n",
    "        print(\"I want to go to Argentina\")\n",
    "    else:\n",
    "        continue"
   ]
  },
  {
   "cell_type": "markdown",
   "metadata": {},
   "source": [
    "## Level Up!\n",
    "\n",
    "Below, I have defined a dictionary matching each country to its continent:"
   ]
  },
  {
   "cell_type": "code",
   "execution_count": 64,
   "metadata": {},
   "outputs": [
    {
     "data": {
      "text/plain": [
       "[{'City': 'Buenos Aires',\n",
       "  'Country': 'Argentina',\n",
       "  'Population': 2891000,\n",
       "  'Area': 4758},\n",
       " {'City': 'Toronto', 'Country': 'Canada', 'Population': 2800000, 'Area': 2731},\n",
       " {'City': 'Pyeongchang',\n",
       "  'Country': 'South Korea',\n",
       "  'Population': 2581000,\n",
       "  'Area': 3194},\n",
       " {'City': 'Marrakesh',\n",
       "  'Country': 'Morocco',\n",
       "  'Population': 928850,\n",
       "  'Area': 200},\n",
       " {'City': 'Albuquerque', 'Country': 'USA', 'Population': 559277, 'Area': 491},\n",
       " {'City': 'Los Cabos',\n",
       "  'Country': 'Mexico',\n",
       "  'Population': 287671,\n",
       "  'Area': 3750},\n",
       " {'City': 'Greenville', 'Country': 'USA', 'Population': 84554, 'Area': 68},\n",
       " {'City': 'Archipelago Sea',\n",
       "  'Country': 'Finland',\n",
       "  'Population': 60000,\n",
       "  'Area': 8300},\n",
       " {'City': 'Walla Walla Valley',\n",
       "  'Country': 'USA',\n",
       "  'Population': 32237,\n",
       "  'Area': 33},\n",
       " {'City': 'Salina Island', 'Country': 'Italy', 'Population': 4000, 'Area': 27},\n",
       " {'City': 'Solta', 'Country': 'Croatia', 'Population': 1700, 'Area': 59},\n",
       " {'City': 'Iguazu Falls',\n",
       "  'Country': 'Argentina',\n",
       "  'Population': 0,\n",
       "  'Area': 672}]"
      ]
     },
     "execution_count": 64,
     "metadata": {},
     "output_type": "execute_result"
    }
   ],
   "source": [
    "cities_dict_list"
   ]
  },
  {
   "cell_type": "code",
   "execution_count": 63,
   "metadata": {},
   "outputs": [],
   "source": [
    "continents_dict = {\n",
    "    'Argentina': 'South America',\n",
    "    'Canada': 'North America',\n",
    "    'South Korea': 'Asia',\n",
    "    'Morocco': 'Africa',\n",
    "    'USA': 'North America',\n",
    "    'Mexico': 'North America',\n",
    "    'Finland': 'Europe',\n",
    "    'Italy': 'Europe',\n",
    "    'Croatia': 'Europe'\n",
    "}"
   ]
  },
  {
   "cell_type": "markdown",
   "metadata": {},
   "source": [
    "How can we add each of these continents into our earlier dictionary, `cities_dict_list`?"
   ]
  },
  {
   "cell_type": "code",
   "execution_count": 65,
   "metadata": {},
   "outputs": [
    {
     "name": "stdout",
     "output_type": "stream",
     "text": [
      "Argentina\n",
      "South America\n",
      "Canada\n",
      "North America\n",
      "South Korea\n",
      "Asia\n",
      "Morocco\n",
      "Africa\n",
      "USA\n",
      "North America\n",
      "Mexico\n",
      "North America\n",
      "USA\n",
      "North America\n",
      "Finland\n",
      "Europe\n",
      "USA\n",
      "North America\n",
      "Italy\n",
      "Europe\n",
      "Croatia\n",
      "Europe\n",
      "Argentina\n",
      "South America\n"
     ]
    }
   ],
   "source": [
    "for city in cities_dict_list:\n",
    "#     print(city['Country'])\n",
    "#     print(continents_dict[city['Country']])\n",
    "    city['Continent'] = continents_dict[city['Country']]"
   ]
  },
  {
   "cell_type": "code",
   "execution_count": 72,
   "metadata": {},
   "outputs": [
    {
     "data": {
      "text/plain": [
       "[{'City': 'Buenos Aires',\n",
       "  'Country': 'Argentina',\n",
       "  'Population': 2891000,\n",
       "  'Area': 4758,\n",
       "  'Continent': 'South America'},\n",
       " {'City': 'Toronto',\n",
       "  'Country': 'Canada',\n",
       "  'Population': 2800000,\n",
       "  'Area': 2731,\n",
       "  'Continent': 'North America'},\n",
       " {'City': 'Pyeongchang',\n",
       "  'Country': 'South Korea',\n",
       "  'Population': 2581000,\n",
       "  'Area': 3194,\n",
       "  'Continent': 'Asia'},\n",
       " {'City': 'Marrakesh',\n",
       "  'Country': 'Morocco',\n",
       "  'Population': 928850,\n",
       "  'Area': 200,\n",
       "  'Continent': 'Africa'},\n",
       " {'City': 'Albuquerque',\n",
       "  'Country': 'USA',\n",
       "  'Population': 559277,\n",
       "  'Area': 491,\n",
       "  'Continent': 'North America'},\n",
       " {'City': 'Los Cabos',\n",
       "  'Country': 'Mexico',\n",
       "  'Population': 287671,\n",
       "  'Area': 3750,\n",
       "  'Continent': 'North America'},\n",
       " {'City': 'Greenville',\n",
       "  'Country': 'USA',\n",
       "  'Population': 84554,\n",
       "  'Area': 68,\n",
       "  'Continent': 'North America'},\n",
       " {'City': 'Archipelago Sea',\n",
       "  'Country': 'Finland',\n",
       "  'Population': 60000,\n",
       "  'Area': 8300,\n",
       "  'Continent': 'Europe'},\n",
       " {'City': 'Walla Walla Valley',\n",
       "  'Country': 'USA',\n",
       "  'Population': 32237,\n",
       "  'Area': 33,\n",
       "  'Continent': 'North America'},\n",
       " {'City': 'Salina Island',\n",
       "  'Country': 'Italy',\n",
       "  'Population': 4000,\n",
       "  'Area': 27,\n",
       "  'Continent': 'Europe'},\n",
       " {'City': 'Solta',\n",
       "  'Country': 'Croatia',\n",
       "  'Population': 1700,\n",
       "  'Area': 59,\n",
       "  'Continent': 'Europe'},\n",
       " {'City': 'Iguazu Falls',\n",
       "  'Country': 'Argentina',\n",
       "  'Population': 0,\n",
       "  'Area': 672,\n",
       "  'Continent': 'South America'}]"
      ]
     },
     "execution_count": 72,
     "metadata": {},
     "output_type": "execute_result"
    }
   ],
   "source": [
    "cities_dict_list"
   ]
  },
  {
   "cell_type": "code",
   "execution_count": 68,
   "metadata": {},
   "outputs": [],
   "source": [
    "for city in cities_dict_list:\n",
    "    for country, cont in continents_dict.items():\n",
    "        if city['Country'] == country:\n",
    "            city['Continent'] = cont"
   ]
  }
 ],
 "metadata": {
  "kernelspec": {
   "display_name": "Python [conda env:learn-env] *",
   "language": "python",
   "name": "conda-env-learn-env-py"
  },
  "language_info": {
   "codemirror_mode": {
    "name": "ipython",
    "version": 3
   },
   "file_extension": ".py",
   "mimetype": "text/x-python",
   "name": "python",
   "nbconvert_exporter": "python",
   "pygments_lexer": "ipython3",
   "version": "3.6.9"
  }
 },
 "nbformat": 4,
 "nbformat_minor": 2
}
