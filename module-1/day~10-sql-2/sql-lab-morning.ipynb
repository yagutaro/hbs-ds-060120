{
 "cells": [
  {
   "cell_type": "markdown",
   "metadata": {},
   "source": [
    "# SQL Lab\n",
    "\n",
    "Congratulations! We've been hired as analysts at Classic Model Car Company, and you've been handed keys to the Data Warehouse.  They want you to hit the ground running with analysis! We have lots of questions to answer.  First, let's connect to the database.\n",
    "\n",
    "1. Connect via MySQL Credentials\n",
    "  - hostname: `hbs-ds-060120.c1doesqrid0e.us-east-1.rds.amazonaws.com`\n",
    "  - username: `hbs-student`\n",
    "  - password: (distributed via slack)\n",
    "  - port: 3306 (default)\n",
    "  - database: `classicmodels`"
   ]
  },
  {
   "cell_type": "markdown",
   "metadata": {},
   "source": [
    "2. Take a moment to study the schema, noting the keys. Browse the data in each relation if you wish. Answer the following queries. I've given you the expected results below each query.\n",
    "\n",
    "3. Answer the following questions! Do them in your MySQL client first, most likely, then bring them into Pandas here in this notebook."
   ]
  },
  {
   "cell_type": "code",
   "execution_count": 4,
   "metadata": {},
   "outputs": [
    {
     "name": "stdout",
     "output_type": "stream",
     "text": [
      "Collecting mysql-connector-python\n",
      "\u001b[?25l  Downloading https://files.pythonhosted.org/packages/3f/72/abf04bb96a3feaf79587daf158ad7ee1f88f202ff4e90b5e8c7f67f74556/mysql_connector_python-8.0.20-cp37-cp37m-macosx_10_14_x86_64.whl (4.8MB)\n",
      "\u001b[K     |████████████████████████████████| 4.8MB 2.2MB/s eta 0:00:01\n",
      "\u001b[?25hRequirement already satisfied: protobuf>=3.0.0 in /opt/anaconda3/lib/python3.7/site-packages (from mysql-connector-python) (3.11.3)\n",
      "Requirement already satisfied: six>=1.9 in /opt/anaconda3/lib/python3.7/site-packages (from protobuf>=3.0.0->mysql-connector-python) (1.12.0)\n",
      "Requirement already satisfied: setuptools in /opt/anaconda3/lib/python3.7/site-packages (from protobuf>=3.0.0->mysql-connector-python) (41.4.0)\n",
      "Installing collected packages: mysql-connector-python\n",
      "Successfully installed mysql-connector-python-8.0.20\n"
     ]
    }
   ],
   "source": [
    "!pip install mysql-connector-python"
   ]
  },
  {
   "cell_type": "code",
   "execution_count": 9,
   "metadata": {},
   "outputs": [],
   "source": [
    "import pandas as pd\n",
    "import mysql.connector\n",
    "\n",
    "con = mysql.connector.connect(user='hbs-student', password='super-secure-password?',\n",
    "                              host='hbs-ds-060120.c1doesqrid0e.us-east-1.rds.amazonaws.com',\n",
    "                              database='classicmodels')"
   ]
  },
  {
   "cell_type": "markdown",
   "metadata": {},
   "source": [
    "1. List all customer names and their addresses who don't have a specified sales rep. Order by customer name."
   ]
  },
  {
   "cell_type": "code",
   "execution_count": 10,
   "metadata": {},
   "outputs": [
    {
     "data": {
      "text/html": [
       "<div>\n",
       "<style scoped>\n",
       "    .dataframe tbody tr th:only-of-type {\n",
       "        vertical-align: middle;\n",
       "    }\n",
       "\n",
       "    .dataframe tbody tr th {\n",
       "        vertical-align: top;\n",
       "    }\n",
       "\n",
       "    .dataframe thead th {\n",
       "        text-align: right;\n",
       "    }\n",
       "</style>\n",
       "<table border=\"1\" class=\"dataframe\">\n",
       "  <thead>\n",
       "    <tr style=\"text-align: right;\">\n",
       "      <th></th>\n",
       "      <th>contactLastName</th>\n",
       "      <th>contactFirstName</th>\n",
       "      <th>addressLine1</th>\n",
       "      <th>addressLine2</th>\n",
       "      <th>city</th>\n",
       "      <th>state</th>\n",
       "      <th>postalCode</th>\n",
       "      <th>country</th>\n",
       "    </tr>\n",
       "  </thead>\n",
       "  <tbody>\n",
       "    <tr>\n",
       "      <td>0</td>\n",
       "      <td>Altagar,G M</td>\n",
       "      <td>Raanan</td>\n",
       "      <td>3 Hagalim Blv.</td>\n",
       "      <td>None</td>\n",
       "      <td>Herzlia</td>\n",
       "      <td>None</td>\n",
       "      <td>47625</td>\n",
       "      <td>Israel</td>\n",
       "    </tr>\n",
       "    <tr>\n",
       "      <td>1</td>\n",
       "      <td>Andersen</td>\n",
       "      <td>Mel</td>\n",
       "      <td>Obere Str. 57</td>\n",
       "      <td>None</td>\n",
       "      <td>Berlin</td>\n",
       "      <td>None</td>\n",
       "      <td>12209</td>\n",
       "      <td>Germany</td>\n",
       "    </tr>\n",
       "    <tr>\n",
       "      <td>2</td>\n",
       "      <td>Anton</td>\n",
       "      <td>Carmen</td>\n",
       "      <td>c/ Gobelas, 19-1 Urb. La Florida</td>\n",
       "      <td>None</td>\n",
       "      <td>Madrid</td>\n",
       "      <td>None</td>\n",
       "      <td>28023</td>\n",
       "      <td>Spain</td>\n",
       "    </tr>\n",
       "    <tr>\n",
       "      <td>3</td>\n",
       "      <td>Camino</td>\n",
       "      <td>Alejandra</td>\n",
       "      <td>Gran Vía, 1</td>\n",
       "      <td>None</td>\n",
       "      <td>Madrid</td>\n",
       "      <td>None</td>\n",
       "      <td>28001</td>\n",
       "      <td>Spain</td>\n",
       "    </tr>\n",
       "    <tr>\n",
       "      <td>4</td>\n",
       "      <td>Cramer</td>\n",
       "      <td>Philip</td>\n",
       "      <td>Maubelstr. 90</td>\n",
       "      <td>None</td>\n",
       "      <td>Brandenburg</td>\n",
       "      <td>None</td>\n",
       "      <td>14776</td>\n",
       "      <td>Germany</td>\n",
       "    </tr>\n",
       "    <tr>\n",
       "      <td>5</td>\n",
       "      <td>de Castro</td>\n",
       "      <td>Isabel</td>\n",
       "      <td>Estrada da saúde n. 58</td>\n",
       "      <td>None</td>\n",
       "      <td>Lisboa</td>\n",
       "      <td>None</td>\n",
       "      <td>1756</td>\n",
       "      <td>Portugal</td>\n",
       "    </tr>\n",
       "    <tr>\n",
       "      <td>6</td>\n",
       "      <td>Feuer</td>\n",
       "      <td>Alexander</td>\n",
       "      <td>Heerstr. 22</td>\n",
       "      <td>None</td>\n",
       "      <td>Leipzig</td>\n",
       "      <td>None</td>\n",
       "      <td>04179</td>\n",
       "      <td>Germany</td>\n",
       "    </tr>\n",
       "    <tr>\n",
       "      <td>7</td>\n",
       "      <td>Franken</td>\n",
       "      <td>Peter</td>\n",
       "      <td>Berliner Platz 43</td>\n",
       "      <td>None</td>\n",
       "      <td>München</td>\n",
       "      <td>None</td>\n",
       "      <td>80805</td>\n",
       "      <td>Germany</td>\n",
       "    </tr>\n",
       "    <tr>\n",
       "      <td>8</td>\n",
       "      <td>Harrison</td>\n",
       "      <td>Ed</td>\n",
       "      <td>Rte des Arsenaux 41</td>\n",
       "      <td>None</td>\n",
       "      <td>Fribourg</td>\n",
       "      <td>None</td>\n",
       "      <td>1700</td>\n",
       "      <td>Switzerland</td>\n",
       "    </tr>\n",
       "    <tr>\n",
       "      <td>9</td>\n",
       "      <td>Josephs</td>\n",
       "      <td>Karin</td>\n",
       "      <td>Luisenstr. 48</td>\n",
       "      <td>None</td>\n",
       "      <td>Münster</td>\n",
       "      <td>None</td>\n",
       "      <td>44087</td>\n",
       "      <td>Germany</td>\n",
       "    </tr>\n",
       "    <tr>\n",
       "      <td>10</td>\n",
       "      <td>Kloss</td>\n",
       "      <td>Horst</td>\n",
       "      <td>Taucherstraße 10</td>\n",
       "      <td>None</td>\n",
       "      <td>Cunewalde</td>\n",
       "      <td>None</td>\n",
       "      <td>01307</td>\n",
       "      <td>Germany</td>\n",
       "    </tr>\n",
       "    <tr>\n",
       "      <td>11</td>\n",
       "      <td>Kuger</td>\n",
       "      <td>Armand</td>\n",
       "      <td>1250 Pretorius Street</td>\n",
       "      <td>None</td>\n",
       "      <td>Hatfield</td>\n",
       "      <td>Pretoria</td>\n",
       "      <td>0028</td>\n",
       "      <td>South Africa</td>\n",
       "    </tr>\n",
       "    <tr>\n",
       "      <td>12</td>\n",
       "      <td>McKenna</td>\n",
       "      <td>Patricia</td>\n",
       "      <td>8 Johnstown Road</td>\n",
       "      <td>None</td>\n",
       "      <td>Cork</td>\n",
       "      <td>Co. Cork</td>\n",
       "      <td>None</td>\n",
       "      <td>Ireland</td>\n",
       "    </tr>\n",
       "    <tr>\n",
       "      <td>13</td>\n",
       "      <td>Messner</td>\n",
       "      <td>Renate</td>\n",
       "      <td>Magazinweg 7</td>\n",
       "      <td>None</td>\n",
       "      <td>Frankfurt</td>\n",
       "      <td>None</td>\n",
       "      <td>60528</td>\n",
       "      <td>Germany</td>\n",
       "    </tr>\n",
       "    <tr>\n",
       "      <td>14</td>\n",
       "      <td>Moos</td>\n",
       "      <td>Hanna</td>\n",
       "      <td>Forsterstr. 57</td>\n",
       "      <td>None</td>\n",
       "      <td>Mannheim</td>\n",
       "      <td>None</td>\n",
       "      <td>68306</td>\n",
       "      <td>Germany</td>\n",
       "    </tr>\n",
       "    <tr>\n",
       "      <td>15</td>\n",
       "      <td>Müller</td>\n",
       "      <td>Rita</td>\n",
       "      <td>Adenauerallee 900</td>\n",
       "      <td>None</td>\n",
       "      <td>Stuttgart</td>\n",
       "      <td>None</td>\n",
       "      <td>70563</td>\n",
       "      <td>Germany</td>\n",
       "    </tr>\n",
       "    <tr>\n",
       "      <td>16</td>\n",
       "      <td>Ottlieb</td>\n",
       "      <td>Sven</td>\n",
       "      <td>Walserweg 21</td>\n",
       "      <td>None</td>\n",
       "      <td>Aachen</td>\n",
       "      <td>None</td>\n",
       "      <td>52066</td>\n",
       "      <td>Germany</td>\n",
       "    </tr>\n",
       "    <tr>\n",
       "      <td>17</td>\n",
       "      <td>Piestrzeniewicz</td>\n",
       "      <td>Zbyszek</td>\n",
       "      <td>ul. Filtrowa 68</td>\n",
       "      <td>None</td>\n",
       "      <td>Warszawa</td>\n",
       "      <td>None</td>\n",
       "      <td>01-012</td>\n",
       "      <td>Poland</td>\n",
       "    </tr>\n",
       "    <tr>\n",
       "      <td>18</td>\n",
       "      <td>Rodriguez</td>\n",
       "      <td>Lino</td>\n",
       "      <td>Jardim das rosas n. 32</td>\n",
       "      <td>None</td>\n",
       "      <td>Lisboa</td>\n",
       "      <td>None</td>\n",
       "      <td>1675</td>\n",
       "      <td>Portugal</td>\n",
       "    </tr>\n",
       "    <tr>\n",
       "      <td>19</td>\n",
       "      <td>Schuyler</td>\n",
       "      <td>Bradley</td>\n",
       "      <td>Kingsfordweg 151</td>\n",
       "      <td>None</td>\n",
       "      <td>Amsterdam</td>\n",
       "      <td>None</td>\n",
       "      <td>1043 GR</td>\n",
       "      <td>Netherlands</td>\n",
       "    </tr>\n",
       "    <tr>\n",
       "      <td>20</td>\n",
       "      <td>Semenov</td>\n",
       "      <td>Alexander</td>\n",
       "      <td>2 Pobedy Square</td>\n",
       "      <td>None</td>\n",
       "      <td>Saint Petersburg</td>\n",
       "      <td>None</td>\n",
       "      <td>196143</td>\n",
       "      <td>Russia</td>\n",
       "    </tr>\n",
       "    <tr>\n",
       "      <td>21</td>\n",
       "      <td>Walker</td>\n",
       "      <td>Brydey</td>\n",
       "      <td>Suntec Tower Three</td>\n",
       "      <td>8 Temasek</td>\n",
       "      <td>Singapore</td>\n",
       "      <td>None</td>\n",
       "      <td>038988</td>\n",
       "      <td>Singapore</td>\n",
       "    </tr>\n",
       "  </tbody>\n",
       "</table>\n",
       "</div>"
      ],
      "text/plain": [
       "    contactLastName contactFirstName                      addressLine1  \\\n",
       "0       Altagar,G M           Raanan                    3 Hagalim Blv.   \n",
       "1          Andersen              Mel                     Obere Str. 57   \n",
       "2             Anton           Carmen  c/ Gobelas, 19-1 Urb. La Florida   \n",
       "3            Camino       Alejandra                        Gran Vía, 1   \n",
       "4            Cramer          Philip                      Maubelstr. 90   \n",
       "5         de Castro          Isabel             Estrada da saúde n. 58   \n",
       "6             Feuer       Alexander                        Heerstr. 22   \n",
       "7           Franken           Peter                  Berliner Platz 43   \n",
       "8          Harrison               Ed              Rte des Arsenaux 41    \n",
       "9           Josephs            Karin                     Luisenstr. 48   \n",
       "10            Kloss           Horst                   Taucherstraße 10   \n",
       "11            Kuger           Armand             1250 Pretorius Street   \n",
       "12          McKenna        Patricia                   8 Johnstown Road   \n",
       "13          Messner          Renate                       Magazinweg 7   \n",
       "14             Moos           Hanna                     Forsterstr. 57   \n",
       "15           Müller            Rita                  Adenauerallee 900   \n",
       "16          Ottlieb            Sven                       Walserweg 21   \n",
       "17  Piestrzeniewicz         Zbyszek                    ul. Filtrowa 68   \n",
       "18        Rodriguez            Lino             Jardim das rosas n. 32   \n",
       "19         Schuyler          Bradley                  Kingsfordweg 151   \n",
       "20          Semenov       Alexander                    2 Pobedy Square   \n",
       "21           Walker           Brydey                Suntec Tower Three   \n",
       "\n",
       "   addressLine2              city     state postalCode       country  \n",
       "0          None           Herzlia      None      47625        Israel  \n",
       "1          None            Berlin      None      12209       Germany  \n",
       "2          None            Madrid      None      28023         Spain  \n",
       "3          None            Madrid      None      28001         Spain  \n",
       "4          None       Brandenburg      None      14776       Germany  \n",
       "5          None            Lisboa      None       1756      Portugal  \n",
       "6          None           Leipzig      None      04179       Germany  \n",
       "7          None           München      None      80805       Germany  \n",
       "8          None          Fribourg      None       1700   Switzerland  \n",
       "9          None           Münster      None      44087       Germany  \n",
       "10         None         Cunewalde      None      01307       Germany  \n",
       "11         None          Hatfield  Pretoria       0028  South Africa  \n",
       "12         None              Cork  Co. Cork       None       Ireland  \n",
       "13         None         Frankfurt      None      60528       Germany  \n",
       "14         None          Mannheim      None      68306       Germany  \n",
       "15         None         Stuttgart      None      70563       Germany  \n",
       "16         None            Aachen      None      52066       Germany  \n",
       "17         None          Warszawa      None     01-012        Poland  \n",
       "18         None            Lisboa      None       1675      Portugal  \n",
       "19         None         Amsterdam      None    1043 GR   Netherlands  \n",
       "20         None  Saint Petersburg      None     196143        Russia  \n",
       "21    8 Temasek         Singapore      None     038988     Singapore  "
      ]
     },
     "execution_count": 10,
     "metadata": {},
     "output_type": "execute_result"
    }
   ],
   "source": [
    "pd.read_sql_query(\"\"\"\n",
    "-- List all customer names and their addresses who don't have a specified sales rep. Order by customer name. \n",
    "SELECT contactLastName,\n",
    "       contactFirstName,\n",
    "       addressLine1,\n",
    "       addressLine2,\n",
    "       city,\n",
    "       state,\n",
    "       postalCode,\n",
    "       country\n",
    "FROM classicmodels.customers\n",
    "WHERE salesRepEmployeeNumber IS NULL\n",
    "ORDER BY 1;\n",
    "\"\"\", con)"
   ]
  },
  {
   "cell_type": "markdown",
   "metadata": {},
   "source": [
    "2. List the names of all customers that have a creditLimit between 100,000 and 200,000 inclusively. Order by customer name."
   ]
  },
  {
   "cell_type": "code",
   "execution_count": null,
   "metadata": {},
   "outputs": [],
   "source": []
  },
  {
   "cell_type": "markdown",
   "metadata": {},
   "source": [
    "\n",
    "3. List all employees who have the initials of M.P. or P.M., by name. Order by last name."
   ]
  },
  {
   "cell_type": "code",
   "execution_count": null,
   "metadata": {},
   "outputs": [],
   "source": []
  },
  {
   "cell_type": "markdown",
   "metadata": {},
   "source": [
    "4. List all the products' productNames purchased by Mini Wheels Co. Order the list by product line."
   ]
  },
  {
   "cell_type": "code",
   "execution_count": null,
   "metadata": {},
   "outputs": [],
   "source": []
  },
  {
   "cell_type": "markdown",
   "metadata": {},
   "source": [
    "5. List the customers by customerName whose contact person shares either a first name or last name with any of the company's employees Order by customerName"
   ]
  },
  {
   "cell_type": "code",
   "execution_count": null,
   "metadata": {},
   "outputs": [],
   "source": []
  },
  {
   "cell_type": "markdown",
   "metadata": {},
   "source": [
    "7. List the customers (by name) that are based in the country which is first in the lexicographic order of customer countries. Order by customerName"
   ]
  },
  {
   "cell_type": "code",
   "execution_count": null,
   "metadata": {},
   "outputs": [],
   "source": []
  },
  {
   "cell_type": "markdown",
   "metadata": {},
   "source": [
    "8. Identify the product(s) by productCode and productName that the company has the least stock of. Order by product code."
   ]
  },
  {
   "cell_type": "code",
   "execution_count": null,
   "metadata": {},
   "outputs": [],
   "source": []
  },
  {
   "cell_type": "markdown",
   "metadata": {},
   "source": [
    "9. Identify the offices (by city) that have the least employees and the most employees (answer should include city, numEmps)"
   ]
  },
  {
   "cell_type": "code",
   "execution_count": null,
   "metadata": {},
   "outputs": [],
   "source": []
  },
  {
   "cell_type": "markdown",
   "metadata": {},
   "source": [
    "10. For all Sales Reps list their names (first and last) and the name of the office they work out of and the number of clients they represent. Order by reverse order of numClients"
   ]
  },
  {
   "cell_type": "code",
   "execution_count": null,
   "metadata": {},
   "outputs": [],
   "source": []
  },
  {
   "cell_type": "markdown",
   "metadata": {},
   "source": [
    "11. List the customer(s) and their total payments (answer should include customerNumber, customerName, totalPayment where totalPayment is the total amount of dollars the customer has paid). Order by totalPayment."
   ]
  },
  {
   "cell_type": "code",
   "execution_count": null,
   "metadata": {},
   "outputs": [],
   "source": []
  },
  {
   "cell_type": "markdown",
   "metadata": {},
   "source": [
    "12. List the product number, product name, and customer name such that the customer has never ordered that product. Order by customerName, productCode."
   ]
  },
  {
   "cell_type": "code",
   "execution_count": null,
   "metadata": {},
   "outputs": [],
   "source": []
  },
  {
   "cell_type": "markdown",
   "metadata": {},
   "source": [
    "13. List the profit per product that the company would make if it were able to sell all of that product at MSRP (answer should include productName, profit). Order by profit."
   ]
  },
  {
   "cell_type": "code",
   "execution_count": null,
   "metadata": {},
   "outputs": [],
   "source": []
  },
  {
   "cell_type": "markdown",
   "metadata": {},
   "source": [
    "14. List the average order size for each customer (answer should include customerName, avgQuantity) Order by customer name."
   ]
  },
  {
   "cell_type": "code",
   "execution_count": null,
   "metadata": {},
   "outputs": [],
   "source": []
  }
 ],
 "metadata": {
  "kernelspec": {
   "display_name": "Python 3",
   "language": "python",
   "name": "python3"
  },
  "language_info": {
   "codemirror_mode": {
    "name": "ipython",
    "version": 3
   },
   "file_extension": ".py",
   "mimetype": "text/x-python",
   "name": "python",
   "nbconvert_exporter": "python",
   "pygments_lexer": "ipython3",
   "version": "3.7.4"
  }
 },
 "nbformat": 4,
 "nbformat_minor": 2
}
