{
 "cells": [
  {
   "cell_type": "markdown",
   "metadata": {
    "slideshow": {
     "slide_type": "slide"
    }
   },
   "source": [
    "![sql](img/sql-logo.jpg)\n",
    "\n",
    "# A beginner's guide to databases, SQL, & using them with `pandas`"
   ]
  },
  {
   "cell_type": "markdown",
   "metadata": {
    "slideshow": {
     "slide_type": "slide"
    }
   },
   "source": [
    "**Scenario:** You are a data analyst for the Homeland Security, trying to create reports on the active airports world wide. The data you need to access is in a SQL database. YOu need to be able to query for the data in a database!"
   ]
  },
  {
   "cell_type": "markdown",
   "metadata": {
    "slideshow": {
     "slide_type": "slide"
    }
   },
   "source": [
    "## Learning goals:\n",
    "- Goal 1: Summarize the use case for sql in the data science skill set\n",
    "- Goal 2: Define key sql terminology\n",
    "- Goal 3: Get information about DB schema and table structure\n",
    "- Goal 4: Use basic SQL commands:\n",
    "    - Construct SQL queries\n",
    "    - Use `JOIN` to merge tables along logical columns\n",
    "    - Grouping Data with SQL, inlcuding `HAVING`\n",
    "- Goal 5: Convert SQL to pandas"
   ]
  },
  {
   "cell_type": "markdown",
   "metadata": {
    "slideshow": {
     "slide_type": "slide"
    }
   },
   "source": [
    "## Goal 1: Summarize\n",
    "\n",
    "To date the data we've seen has looked like [this.](https://data.austintexas.gov/Health-and-Community-Services/Austin-Animal-Center-Intakes/wter-evkm)\n",
    "\n",
    "That is how we need data to look to run analysis and build models.<br>\n",
    "But it doesn't _live_ there in it's native state."
   ]
  },
  {
   "cell_type": "markdown",
   "metadata": {
    "slideshow": {
     "slide_type": "slide"
    }
   },
   "source": [
    "[Netflix has a great article](https://medium.com/netflix-techblog/notebook-innovation-591ee3221233) describing three different data roles at their company, their different needs, and their toolsets.\n",
    "\n",
    "![netflix](img/netflix-data-roles.jpeg)\n",
    "\n",
    "Examining that graphic, SQL shows up as one of the tools of the _Data Engineer_ "
   ]
  },
  {
   "cell_type": "markdown",
   "metadata": {
    "slideshow": {
     "slide_type": "slide"
    }
   },
   "source": [
    "Data Engineers provide the essential data architecture services that make data science possible.\n",
    "\n",
    "![hierarchy](img/ai-hierachy.png)\n",
    "\n",
    "[Source: Monica Rogati’s fantastic Medium post “The AI Hierarchy of Needs”\n",
    "](https://hackernoon.com/the-ai-hierarchy-of-needs-18f111fcc007)"
   ]
  },
  {
   "cell_type": "markdown",
   "metadata": {},
   "source": [
    "## What does it mean to **Engineer Data**?\n",
    "\n",
    "Let's start with a basic scenario:<br>\n",
    "You are HR. You have *no* current database. \n",
    "How would you set it up?\n",
    "\n",
    "Data needs considerations:\n",
    "- What you want to store\n",
    "- What \"views\" you anticipate wanting in the future\n",
    "\n",
    "Structure considerations:\n",
    "- Speed of retrieval\n",
    "- How much data you are accessing\n",
    "- How much you are storing"
   ]
  },
  {
   "cell_type": "markdown",
   "metadata": {
    "slideshow": {
     "slide_type": "slide"
    }
   },
   "source": [
    "![etl](img/etl.png)\n",
    "\n",
    "[img source: Jeff Hammerbacher’s slide from UC Berkeley CS 194 course ](https://bcourses.berkeley.edu/courses/1377158/pages/cs-194-16-introduction-to-data-science-fall-2015)"
   ]
  },
  {
   "cell_type": "markdown",
   "metadata": {
    "slideshow": {
     "slide_type": "slide"
    }
   },
   "source": [
    "### What is a Relational Database? \n",
    "\n",
    "![rdb](img/relational-dbms-model.png)\n",
    "[reference for image ](https://www.studytonight.com/dbms/database-model.php)"
   ]
  },
  {
   "cell_type": "markdown",
   "metadata": {
    "slideshow": {
     "slide_type": "slide"
    }
   },
   "source": [
    "### POPULAR RDBMS\n",
    "\n",
    "- SQLite\n",
    "- MySQL\n",
    "- PostgreSql\n",
    "- Oracle DB\n",
    "- SQL Server"
   ]
  },
  {
   "cell_type": "markdown",
   "metadata": {},
   "source": [
    "***\n",
    "### SQL Readings\n",
    "\n",
    "[History of SQL](https://www.businessnewsdaily.com/5804-what-is-sql.html)\n",
    "\n",
    "[The original SQL paper from the 1970s.](https://www.seas.upenn.edu/~zives/03f/cis550/codd.pdf)"
   ]
  },
  {
   "cell_type": "markdown",
   "metadata": {
    "slideshow": {
     "slide_type": "slide"
    }
   },
   "source": [
    "***\n",
    "## Goal 2: Database terminology\n",
    "\n",
    "### Relational Database Schema\n",
    "\n",
    "![schema](img/MySQL_Schema_Music_Example.png)\n",
    "\n",
    "[source of image](https://database.guide/what-is-a-database-schema/)"
   ]
  },
  {
   "cell_type": "markdown",
   "metadata": {
    "slideshow": {
     "slide_type": "slide"
    }
   },
   "source": [
    "***\n",
    "### SQLite\n",
    "\n",
    "<img src=\"img/SQLite-Python.jpg\" width=500>\n",
    "\n",
    "- C library (fast)\n",
    "- lightweight disk-based database\n",
    "- that doesn’t require a separate server process\n",
    "- nonstandard variant of the SQL query language\n",
    "- applications can use SQLite for internal data storage\n",
    "- use case: prototype an application using SQLite and then port the code to a larger database such as PostgreSQL or Oracle\n",
    "\n",
    "[sqlite documentation](https://docs.python.org/2/library/sqlite3.html)\n",
    "\n"
   ]
  },
  {
   "cell_type": "markdown",
   "metadata": {
    "slideshow": {
     "slide_type": "slide"
    }
   },
   "source": [
    "## But what about connecting to database servers?\n",
    "\n",
    "To connect to other database types there are many different libraries:\n",
    "- Oracle: [cx_Oracle](https://oracle.github.io/python-cx_Oracle/)\n",
    "- MySQL: [MySQL-python](https://github.com/farcepest/MySQLdb1)\n",
    "- PostgreSQL: [Psycopg2](http://initd.org/psycopg/docs/)\n",
    "- Microsoft SQL Server: [pymssql](http://www.pymssql.org/en/stable/)\n",
    "\n",
    "These all implement [PEP 249: DB API v2](https://www.python.org/dev/peps/pep-0249/)"
   ]
  },
  {
   "cell_type": "markdown",
   "metadata": {
    "slideshow": {
     "slide_type": "slide"
    }
   },
   "source": [
    "## Goal 3: Get going with sqlite!"
   ]
  },
  {
   "cell_type": "code",
   "execution_count": 1,
   "metadata": {
    "slideshow": {
     "slide_type": "fragment"
    }
   },
   "outputs": [],
   "source": [
    "import sqlite3"
   ]
  },
  {
   "cell_type": "markdown",
   "metadata": {
    "slideshow": {
     "slide_type": "slide"
    }
   },
   "source": [
    "#### Load a DB object with `connect` and `cursor`"
   ]
  },
  {
   "cell_type": "code",
   "execution_count": 2,
   "metadata": {},
   "outputs": [
    {
     "name": "stdout",
     "output_type": "stream",
     "text": [
      "flights.db\r\n"
     ]
    }
   ],
   "source": [
    "!ls data"
   ]
  },
  {
   "cell_type": "code",
   "execution_count": 3,
   "metadata": {
    "slideshow": {
     "slide_type": "fragment"
    }
   },
   "outputs": [],
   "source": [
    "con = sqlite3.connect('data/flights.db')\n",
    "cursor = con.cursor()"
   ]
  },
  {
   "cell_type": "markdown",
   "metadata": {
    "slideshow": {
     "slide_type": "slide"
    }
   },
   "source": [
    "#### Use sqlite_master to find all the tables in the schema\n",
    "Get the schema of a database from a db in sqlite"
   ]
  },
  {
   "cell_type": "code",
   "execution_count": 6,
   "metadata": {},
   "outputs": [
    {
     "name": "stdout",
     "output_type": "stream",
     "text": [
      "He said, \"Hello, world!\" The end\n"
     ]
    }
   ],
   "source": [
    "print(\"\"\"He said, \"Hello, world!\" The end\"\"\")"
   ]
  },
  {
   "cell_type": "code",
   "execution_count": 7,
   "metadata": {},
   "outputs": [
    {
     "name": "stdout",
     "output_type": "stream",
     "text": [
      "He said, \"Hello, world!\" The end\n"
     ]
    }
   ],
   "source": [
    "print('''He said, \"Hello, world!\" The end''')"
   ]
  },
  {
   "cell_type": "code",
   "execution_count": 11,
   "metadata": {},
   "outputs": [
    {
     "name": "stdout",
     "output_type": "stream",
     "text": [
      "[('airports', 'table'), ('airlines', 'table'), ('routes', 'table')]\n"
     ]
    }
   ],
   "source": [
    "cursor.execute(\"\"\"SELECT name, type FROM sqlite_master WHERE type='table';\"\"\")\n",
    "print(cursor.fetchall())"
   ]
  },
  {
   "cell_type": "code",
   "execution_count": 12,
   "metadata": {},
   "outputs": [
    {
     "data": {
      "text/plain": [
       "(('name', None, None, None, None, None, None),\n",
       " ('type', None, None, None, None, None, None))"
      ]
     },
     "execution_count": 12,
     "metadata": {},
     "output_type": "execute_result"
    }
   ],
   "source": [
    "cursor.description"
   ]
  },
  {
   "cell_type": "code",
   "execution_count": 20,
   "metadata": {},
   "outputs": [
    {
     "name": "stdout",
     "output_type": "stream",
     "text": [
      "[('airports', 'table'), ('ix_airports_index', 'index'), ('airlines', 'table'), ('ix_airlines_index', 'index'), ('routes', 'table'), ('ix_routes_index', 'index')]\n"
     ]
    }
   ],
   "source": [
    "cursor.execute(\"SELECT name, type FROM sqlite_master\")\n",
    "#SAME AS\n",
    "cursor.execute(\"select NAME, TYPE from SQLITE_MASTER\")\n",
    "print(cursor.fetchall())"
   ]
  },
  {
   "cell_type": "code",
   "execution_count": 19,
   "metadata": {},
   "outputs": [
    {
     "name": "stdout",
     "output_type": "stream",
     "text": [
      "('table', 'airports', 2)\n",
      "('index', 'airports', 3)\n",
      "('table', 'airlines', 945)\n",
      "('index', 'airlines', 946)\n",
      "('table', 'routes', 1393)\n",
      "('index', 'routes', 1394)\n"
     ]
    }
   ],
   "source": [
    "cursor.execute(\"SELECT type, tbl_name, rootpage FROM sqlite_master;\")\n",
    "results = cursor.fetchall()\n",
    "for res in results:\n",
    "    print(res)"
   ]
  },
  {
   "cell_type": "code",
   "execution_count": 18,
   "metadata": {},
   "outputs": [
    {
     "data": {
      "text/plain": [
       "(('type', None, None, None, None, None, None),\n",
       " ('name', None, None, None, None, None, None),\n",
       " ('tbl_name', None, None, None, None, None, None),\n",
       " ('rootpage', None, None, None, None, None, None),\n",
       " ('sql', None, None, None, None, None, None))"
      ]
     },
     "execution_count": 18,
     "metadata": {},
     "output_type": "execute_result"
    }
   ],
   "source": [
    "cursor.description"
   ]
  },
  {
   "cell_type": "markdown",
   "metadata": {
    "slideshow": {
     "slide_type": "slide"
    }
   },
   "source": [
    "#### Get information about one table\n",
    "\n",
    "**A note about** `execute`<br>\n",
    "Each time you use it, you reset the value of cursor"
   ]
  },
  {
   "cell_type": "code",
   "execution_count": 34,
   "metadata": {},
   "outputs": [
    {
     "data": {
      "text/plain": [
       "(0,\n",
       " '1',\n",
       " 'Goroka',\n",
       " 'Goroka',\n",
       " 'Papua New Guinea',\n",
       " 'GKA',\n",
       " 'AYGA',\n",
       " '-6.081689',\n",
       " '145.391881',\n",
       " '5282',\n",
       " '10',\n",
       " 'U',\n",
       " 'Pacific/Port_Moresby')"
      ]
     },
     "execution_count": 34,
     "metadata": {},
     "output_type": "execute_result"
    }
   ],
   "source": [
    "cursor.execute(\"SELECT * FROM airports\").fetchone()"
   ]
  },
  {
   "cell_type": "code",
   "execution_count": 40,
   "metadata": {},
   "outputs": [
    {
     "data": {
      "text/plain": [
       "(6,\n",
       " '7',\n",
       " 'Narsarsuaq',\n",
       " 'Narssarssuaq',\n",
       " 'Greenland',\n",
       " 'UAK',\n",
       " 'BGBW',\n",
       " '61.160517',\n",
       " '-45.425978',\n",
       " '112',\n",
       " '-3',\n",
       " 'E',\n",
       " 'America/Godthab')"
      ]
     },
     "execution_count": 40,
     "metadata": {},
     "output_type": "execute_result"
    }
   ],
   "source": [
    "cursor.fetchone()"
   ]
  },
  {
   "cell_type": "code",
   "execution_count": 49,
   "metadata": {},
   "outputs": [
    {
     "name": "stdout",
     "output_type": "stream",
     "text": [
      "39~~|~~40~~|~~Clyde River~~|~~Clyde River~~|~~Canada~~|~~YCY~~|~~CYCY~~|~~70.486111~~|~~-68.516667~~|~~87~~|~~-5~~|~~A~~|~~America/Toronto\n",
      "40~~|~~41~~|~~Fairmont Hot Springs~~|~~Coral Harbour~~|~~Canada~~|~~YZS~~|~~CYCZ~~|~~64.193333~~|~~-83.359444~~|~~2661~~|~~-5~~|~~A~~|~~America/Coral_Harbour\n",
      "41~~|~~42~~|~~Dawson City~~|~~Dawson~~|~~Canada~~|~~YDA~~|~~CYDA~~|~~64.043056~~|~~-139.127778~~|~~1215~~|~~-8~~|~~A~~|~~America/Vancouver\n",
      "42~~|~~43~~|~~Burwash~~|~~Burwash~~|~~Canada~~|~~YDB~~|~~CYDB~~|~~61.371111~~|~~-139.040556~~|~~2647~~|~~-8~~|~~A~~|~~America/Vancouver\n",
      "43~~|~~44~~|~~Princeton~~|~~Princeton~~|~~Canada~~|~~YDC~~|~~CYDC~~|~~49.468056~~|~~-120.511389~~|~~2298~~|~~-8~~|~~A~~|~~America/Vancouver\n",
      "44~~|~~45~~|~~Deer Lake~~|~~Deer Lake~~|~~Canada~~|~~YDF~~|~~CYDF~~|~~49.210833~~|~~-57.391388~~|~~72~~|~~-3.5~~|~~A~~|~~America/St_Johns\n",
      "45~~|~~46~~|~~Dease Lake~~|~~Dease Lake~~|~~Canada~~|~~YDL~~|~~CYDL~~|~~58.422222~~|~~-130.032222~~|~~2600~~|~~-8~~|~~A~~|~~America/Vancouver\n",
      "46~~|~~47~~|~~Dauphin Barker~~|~~Dauphin~~|~~Canada~~|~~YDN~~|~~CYDN~~|~~51.100834~~|~~-100.0525~~|~~999~~|~~-6~~|~~A~~|~~America/Winnipeg\n",
      "47~~|~~48~~|~~Dawson Creek~~|~~Dawson Creek~~|~~Canada~~|~~YDQ~~|~~CYDQ~~|~~55.742333~~|~~-120.183~~|~~2148~~|~~-7~~|~~A~~|~~America/Dawson_Creek\n",
      "48~~|~~49~~|~~Edmonton Intl~~|~~Edmonton~~|~~Canada~~|~~YEG~~|~~CYEG~~|~~53.309723~~|~~-113.579722~~|~~2373~~|~~-7~~|~~A~~|~~America/Edmonton\n"
     ]
    }
   ],
   "source": [
    "for row in cursor.fetchmany(10):\n",
    "    print('~~|~~'.join([str(x) for x in row]))"
   ]
  },
  {
   "cell_type": "markdown",
   "metadata": {
    "slideshow": {
     "slide_type": "slide"
    }
   },
   "source": [
    "#### Use description"
   ]
  },
  {
   "cell_type": "code",
   "execution_count": 24,
   "metadata": {
    "slideshow": {
     "slide_type": "fragment"
    }
   },
   "outputs": [
    {
     "data": {
      "text/plain": [
       "(('index', None, None, None, None, None, None),\n",
       " ('id', None, None, None, None, None, None),\n",
       " ('name', None, None, None, None, None, None),\n",
       " ('city', None, None, None, None, None, None),\n",
       " ('country', None, None, None, None, None, None),\n",
       " ('code', None, None, None, None, None, None),\n",
       " ('icao', None, None, None, None, None, None),\n",
       " ('latitude', None, None, None, None, None, None),\n",
       " ('longitude', None, None, None, None, None, None),\n",
       " ('altitude', None, None, None, None, None, None),\n",
       " ('offset', None, None, None, None, None, None),\n",
       " ('dst', None, None, None, None, None, None),\n",
       " ('timezone', None, None, None, None, None, None))"
      ]
     },
     "execution_count": 24,
     "metadata": {},
     "output_type": "execute_result"
    }
   ],
   "source": [
    "cursor.description"
   ]
  },
  {
   "cell_type": "markdown",
   "metadata": {
    "slideshow": {
     "slide_type": "slide"
    }
   },
   "source": [
    "#### Or use `Pragma`\n",
    "`Pragma` tool [link here](https://www.sqlite.org/pragma.html#pragma_table_info)\n",
    "\n",
    "**output**<br>\n",
    "`(column id, column name, data type, whether or not the column can be NULL, and the default value for the column)`"
   ]
  },
  {
   "cell_type": "code",
   "execution_count": 50,
   "metadata": {
    "slideshow": {
     "slide_type": "slide"
    }
   },
   "outputs": [
    {
     "name": "stdout",
     "output_type": "stream",
     "text": [
      "(0, 'index', 'INTEGER', 0, None, 0)\n",
      "(1, 'id', 'TEXT', 0, None, 0)\n",
      "(2, 'name', 'TEXT', 0, None, 0)\n",
      "(3, 'city', 'TEXT', 0, None, 0)\n",
      "(4, 'country', 'TEXT', 0, None, 0)\n",
      "(5, 'code', 'TEXT', 0, None, 0)\n",
      "(6, 'icao', 'TEXT', 0, None, 0)\n",
      "(7, 'latitude', 'TEXT', 0, None, 0)\n",
      "(8, 'longitude', 'TEXT', 0, None, 0)\n",
      "(9, 'altitude', 'TEXT', 0, None, 0)\n",
      "(10, 'offset', 'TEXT', 0, None, 0)\n",
      "(11, 'dst', 'TEXT', 0, None, 0)\n",
      "(12, 'timezone', 'TEXT', 0, None, 0)\n"
     ]
    }
   ],
   "source": [
    "cursor.execute(\"PRAGMA table_info(airports)\")\n",
    "info = cursor.fetchall()\n",
    "print(*info, sep = \"\\n\") "
   ]
  },
  {
   "cell_type": "markdown",
   "metadata": {
    "slideshow": {
     "slide_type": "slide"
    }
   },
   "source": [
    "#### Making fetch happen\n",
    "\n",
    "`.fetchall()` is how you get the query results out of the object.\n",
    "\n",
    "You can also `.fetchone()` or `.fetchmany()`"
   ]
  },
  {
   "cell_type": "markdown",
   "metadata": {
    "slideshow": {
     "slide_type": "slide"
    }
   },
   "source": [
    "**Task:** Get the descriptive data for airlines and routes tables"
   ]
  },
  {
   "cell_type": "code",
   "execution_count": 54,
   "metadata": {},
   "outputs": [],
   "source": [
    "z = (1, 2)"
   ]
  },
  {
   "cell_type": "code",
   "execution_count": 53,
   "metadata": {},
   "outputs": [
    {
     "data": {
      "text/plain": [
       "int"
      ]
     },
     "execution_count": 53,
     "metadata": {},
     "output_type": "execute_result"
    }
   ],
   "source": [
    "x, y = (1, 2)\n",
    "type(x)"
   ]
  },
  {
   "cell_type": "code",
   "execution_count": 58,
   "metadata": {},
   "outputs": [
    {
     "name": "stdout",
     "output_type": "stream",
     "text": [
      "1 2\n"
     ]
    }
   ],
   "source": [
    "print(z[0], z[1])"
   ]
  },
  {
   "cell_type": "code",
   "execution_count": 59,
   "metadata": {},
   "outputs": [
    {
     "name": "stdout",
     "output_type": "stream",
     "text": [
      "1 2\n"
     ]
    }
   ],
   "source": [
    "# same as\n",
    "print(*z)"
   ]
  },
  {
   "cell_type": "code",
   "execution_count": 61,
   "metadata": {},
   "outputs": [
    {
     "name": "stdout",
     "output_type": "stream",
     "text": [
      "(0, 'index', 'INTEGER', 0, None, 0)\n",
      "~~~~~~~~~~~~~~~\n",
      "(1, 'id', 'TEXT', 0, None, 0)\n",
      "~~~~~~~~~~~~~~~\n",
      "(2, 'name', 'TEXT', 0, None, 0)\n",
      "~~~~~~~~~~~~~~~\n",
      "(3, 'alias', 'TEXT', 0, None, 0)\n",
      "~~~~~~~~~~~~~~~\n",
      "(4, 'iata', 'TEXT', 0, None, 0)\n",
      "~~~~~~~~~~~~~~~\n",
      "(5, 'icao', 'TEXT', 0, None, 0)\n",
      "~~~~~~~~~~~~~~~\n",
      "(6, 'callsign', 'TEXT', 0, None, 0)\n",
      "~~~~~~~~~~~~~~~\n",
      "(7, 'country', 'TEXT', 0, None, 0)\n",
      "~~~~~~~~~~~~~~~\n",
      "(8, 'active', 'TEXT', 0, None, 0)\n"
     ]
    }
   ],
   "source": [
    "cursor.execute(\"PRAGMA table_info(airlines)\")\n",
    "info = cursor.fetchall()\n",
    "print(*info, sep=\"\\n\"+'~'*15+'\\n')"
   ]
  },
  {
   "cell_type": "code",
   "execution_count": 27,
   "metadata": {},
   "outputs": [
    {
     "name": "stdout",
     "output_type": "stream",
     "text": [
      "(0, 'index', 'INTEGER', 0, None, 0)\n",
      "(1, 'airline', 'TEXT', 0, None, 0)\n",
      "(2, 'airline_id', 'TEXT', 0, None, 0)\n",
      "(3, 'source', 'TEXT', 0, None, 0)\n",
      "(4, 'source_id', 'TEXT', 0, None, 0)\n",
      "(5, 'dest', 'TEXT', 0, None, 0)\n",
      "(6, 'dest_id', 'TEXT', 0, None, 0)\n",
      "(7, 'codeshare', 'TEXT', 0, None, 0)\n",
      "(8, 'stops', 'TEXT', 0, None, 0)\n",
      "(9, 'equipment', 'TEXT', 0, None, 0)\n"
     ]
    }
   ],
   "source": [
    "cursor.execute(\"PRAGMA table_info(routes)\")\n",
    "info = cursor.fetchall()\n",
    "print(*info, sep = \"\\n\")"
   ]
  },
  {
   "cell_type": "markdown",
   "metadata": {
    "slideshow": {
     "slide_type": "slide"
    }
   },
   "source": [
    "***\n",
    "## Goal 4: Use basic SQL commands "
   ]
  },
  {
   "cell_type": "markdown",
   "metadata": {
    "slideshow": {
     "slide_type": "slide"
    }
   },
   "source": [
    "### The Structure of a SQL Query"
   ]
  },
  {
   "cell_type": "markdown",
   "metadata": {
    "slideshow": {
     "slide_type": "slide"
    }
   },
   "source": [
    "<img src='img/sql_statement.jpg'/>"
   ]
  },
  {
   "cell_type": "markdown",
   "metadata": {
    "slideshow": {
     "slide_type": "slide"
    }
   },
   "source": [
    "### Constructing SQL queries"
   ]
  },
  {
   "cell_type": "markdown",
   "metadata": {
    "slideshow": {
     "slide_type": "fragment"
    }
   },
   "source": [
    "**`SELECT`**:  The columns you want\n",
    "  - options: `DISTINCT`, using `AS` to rename columns, single number aggregates"
   ]
  },
  {
   "cell_type": "markdown",
   "metadata": {
    "slideshow": {
     "slide_type": "fragment"
    }
   },
   "source": [
    "**`FROM`:** the source tables\n",
    "  - options: also uses aliasing with `AS`; joining with `[LEFT|INNER|RIGHT|FULL] JOIN ___ [ON|USING]`"
   ]
  },
  {
   "cell_type": "markdown",
   "metadata": {
    "slideshow": {
     "slide_type": "fragment"
    }
   },
   "source": [
    "**`WHERE`**: your filters\n",
    "  - options: comparators like `=` & `>=`; `BETWEEN`, `IN`, `LIKE` (with wildcards `%`); booleans like `AND`, `OR`, `NOT`"
   ]
  },
  {
   "cell_type": "markdown",
   "metadata": {
    "slideshow": {
     "slide_type": "fragment"
    }
   },
   "source": [
    "**`ORDER BY`**: sorting\n",
    "  - options: `ASC` (default) and `DESC`"
   ]
  },
  {
   "cell_type": "markdown",
   "metadata": {
    "slideshow": {
     "slide_type": "fragment"
    }
   },
   "source": [
    "**`LIMIT`**:  # of rows to return (pair with `OFFSET`)"
   ]
  },
  {
   "cell_type": "markdown",
   "metadata": {
    "slideshow": {
     "slide_type": "slide"
    }
   },
   "source": [
    "**Task**: \n",
    "- Select only active airlines in the UK from the airlines table\n",
    "- Select the unique list of countries with airports"
   ]
  },
  {
   "cell_type": "code",
   "execution_count": 63,
   "metadata": {},
   "outputs": [
    {
     "data": {
      "text/plain": [
       "[('AD Aviation',),\n",
       " ('Air Cudlua',),\n",
       " ('Air Foyle',),\n",
       " ('Air Southwest',),\n",
       " ('Air Wales',),\n",
       " ('All Europe',),\n",
       " ('Astraeus',),\n",
       " ('Aurigny Air Services',),\n",
       " ('BA CityFlyer',),\n",
       " ('BBN-Airways',),\n",
       " ('bmi',),\n",
       " ('bmibaby',),\n",
       " ('British Airways',),\n",
       " ('British International Helicopters',),\n",
       " ('British Mediterranean Airways',),\n",
       " ('British Midland Regional',),\n",
       " ('CB Airways UK ( Interliging Flights )',),\n",
       " ('Crest Aviation',),\n",
       " ('Eastern Airways',),\n",
       " ('easyJet',),\n",
       " ('Excel Airways',),\n",
       " ('Excel Charter',),\n",
       " ('First Choice Airways',),\n",
       " ('Flightline',),\n",
       " ('Flybe',),\n",
       " ('Flyglobespan',),\n",
       " ('GB Airways',),\n",
       " ('Highland Airways',),\n",
       " ('Jc royal.britannica',),\n",
       " ('Jet2.com',),\n",
       " ('Kinloss Flying Training Unit',),\n",
       " ('Monarch Airlines',),\n",
       " ('MyTravel Airways',),\n",
       " ('Norfolk County Flight College',),\n",
       " ('Rainbow Air Euro',),\n",
       " ('Royal European Airlines',),\n",
       " ('ScotAirways',),\n",
       " ('Thomas Cook Airlines',),\n",
       " ('Thomsonfly',),\n",
       " ('Virgin Atlantic Airways',)]"
      ]
     },
     "execution_count": 63,
     "metadata": {},
     "output_type": "execute_result"
    }
   ],
   "source": [
    "cursor.execute(\"\"\"\n",
    "SELECT name\n",
    "FROM airlines\n",
    "WHERE active = 'Y'\n",
    " AND country = 'United Kingdom'\n",
    "ORDER BY lower(name)\n",
    "\"\"\")\n",
    "cursor.fetchall()"
   ]
  },
  {
   "cell_type": "code",
   "execution_count": 64,
   "metadata": {},
   "outputs": [
    {
     "name": "stdout",
     "output_type": "stream",
     "text": [
      "('Afghanistan',)\n",
      "('Albania',)\n",
      "('Algeria',)\n",
      "('American Samoa',)\n",
      "('Angola',)\n",
      "('Anguilla',)\n",
      "('Antarctica',)\n",
      "('Antigua and Barbuda',)\n",
      "('Argentina',)\n",
      "('Armenia',)\n",
      "('Aruba',)\n",
      "('Australia',)\n",
      "('Austria',)\n",
      "('Azerbaijan',)\n",
      "('Bahamas',)\n",
      "('Bahrain',)\n",
      "('Bangladesh',)\n",
      "('Barbados',)\n",
      "('Belarus',)\n",
      "('Belgium',)\n",
      "('Belize',)\n",
      "('Benin',)\n",
      "('Bermuda',)\n",
      "('Bhutan',)\n",
      "('Bolivia',)\n",
      "('Bosnia and Herzegovina',)\n",
      "('Botswana',)\n",
      "('Brazil',)\n",
      "('British Indian Ocean Territory',)\n",
      "('British Virgin Islands',)\n",
      "('Brunei',)\n",
      "('Bulgaria',)\n",
      "('Burkina Faso',)\n",
      "('Burma',)\n",
      "('Burundi',)\n",
      "('Cambodia',)\n",
      "('Cameroon',)\n",
      "('Canada',)\n",
      "('Cape Verde',)\n",
      "('Cayman Islands',)\n",
      "('Central African Republic',)\n",
      "('Chad',)\n",
      "('Chile',)\n",
      "('China',)\n",
      "('Christmas Island',)\n",
      "('Cocos (Keeling) Islands',)\n",
      "('Colombia',)\n",
      "('Comoros',)\n",
      "('Congo (Brazzaville)',)\n",
      "('Congo (Kinshasa)',)\n",
      "('Cook Islands',)\n",
      "('Costa Rica',)\n",
      "(\"Cote d'Ivoire\",)\n",
      "('Croatia',)\n",
      "('Cuba',)\n",
      "('Cyprus',)\n",
      "('Czech Republic',)\n",
      "('Denmark',)\n",
      "('Djibouti',)\n",
      "('Dominica',)\n",
      "('Dominican Republic',)\n",
      "('East Timor',)\n",
      "('Ecuador',)\n",
      "('Egypt',)\n",
      "('El Salvador',)\n",
      "('Equatorial Guinea',)\n",
      "('Eritrea',)\n",
      "('Estonia',)\n",
      "('Ethiopia',)\n",
      "('Falkland Islands',)\n",
      "('Faroe Islands',)\n",
      "('Fiji',)\n",
      "('Finland',)\n",
      "('France',)\n",
      "('French Guiana',)\n",
      "('French Polynesia',)\n",
      "('Gabon',)\n",
      "('Gambia',)\n",
      "('Georgia',)\n",
      "('Germany',)\n",
      "('Ghana',)\n",
      "('Gibraltar',)\n",
      "('Greece',)\n",
      "('Greenland',)\n",
      "('Grenada',)\n",
      "('Guadeloupe',)\n",
      "('Guam',)\n",
      "('Guatemala',)\n",
      "('Guernsey',)\n",
      "('Guinea',)\n",
      "('Guinea-Bissau',)\n",
      "('Guyana',)\n",
      "('Haiti',)\n",
      "('Honduras',)\n",
      "('Hong Kong',)\n",
      "('Hungary',)\n",
      "('Iceland',)\n",
      "('India',)\n",
      "('Indonesia',)\n",
      "('Iran',)\n",
      "('Iraq',)\n",
      "('Ireland',)\n",
      "('Isle of Man',)\n",
      "('Israel',)\n",
      "('Italy',)\n",
      "('Jamaica',)\n",
      "('Japan',)\n",
      "('Jersey',)\n",
      "('Johnston Atoll',)\n",
      "('Jordan',)\n",
      "('Kazakhstan',)\n",
      "('Kenya',)\n",
      "('Kiribati',)\n",
      "('Korea',)\n",
      "('Kuwait',)\n",
      "('Kyrgyzstan',)\n",
      "('Laos',)\n",
      "('Latvia',)\n",
      "('Lebanon',)\n",
      "('Lesotho',)\n",
      "('Liberia',)\n",
      "('Libya',)\n",
      "('Lithuania',)\n",
      "('Luxembourg',)\n",
      "('Macau',)\n",
      "('Macedonia',)\n",
      "('Madagascar',)\n",
      "('Malawi',)\n",
      "('Malaysia',)\n",
      "('Maldives',)\n",
      "('Mali',)\n",
      "('Malta',)\n",
      "('Marshall Islands',)\n",
      "('Martinique',)\n",
      "('Mauritania',)\n",
      "('Mauritius',)\n",
      "('Mayotte',)\n",
      "('Mexico',)\n",
      "('Micronesia',)\n",
      "('Midway Islands',)\n",
      "('Moldova',)\n",
      "('Monaco',)\n",
      "('Mongolia',)\n",
      "('Montenegro',)\n",
      "('Montserrat',)\n",
      "('Morocco',)\n",
      "('Mozambique',)\n",
      "('Myanmar',)\n",
      "('Namibia',)\n",
      "('Nauru',)\n",
      "('Nepal',)\n",
      "('Netherlands',)\n",
      "('Netherlands Antilles',)\n",
      "('New Caledonia',)\n",
      "('New Zealand',)\n",
      "('Nicaragua',)\n",
      "('Niger',)\n",
      "('Nigeria',)\n",
      "('Niue',)\n",
      "('Norfolk Island',)\n",
      "('North Korea',)\n",
      "('Northern Mariana Islands',)\n",
      "('Norway',)\n",
      "('Oman',)\n",
      "('Pakistan',)\n",
      "('Palau',)\n",
      "('Palestine',)\n",
      "('Panama',)\n",
      "('Papua New Guinea',)\n",
      "('Paraguay',)\n",
      "('Peru',)\n",
      "('Philippines',)\n",
      "('Poland',)\n",
      "('Portugal',)\n",
      "('Puerto Rico',)\n",
      "('Qatar',)\n",
      "('Reunion',)\n",
      "('Romania',)\n",
      "('Russia',)\n",
      "('Rwanda',)\n",
      "('Saint Helena',)\n",
      "('Saint Kitts and Nevis',)\n",
      "('Saint Lucia',)\n",
      "('Saint Pierre and Miquelon',)\n",
      "('Saint Vincent and the Grenadines',)\n",
      "('Samoa',)\n",
      "('Sao Tome and Principe',)\n",
      "('Saudi Arabia',)\n",
      "('Senegal',)\n",
      "('Serbia',)\n",
      "('Seychelles',)\n",
      "('Sierra Leone',)\n",
      "('Singapore',)\n",
      "('Slovakia',)\n",
      "('Slovenia',)\n",
      "('Solomon Islands',)\n",
      "('Somalia',)\n",
      "('South Africa',)\n",
      "('South Georgia and the Islands',)\n",
      "('South Korea',)\n",
      "('South Sudan',)\n",
      "('Spain',)\n",
      "('Sri Lanka',)\n",
      "('Sudan',)\n",
      "('Suriname',)\n",
      "('Svalbard',)\n",
      "('Swaziland',)\n",
      "('Sweden',)\n",
      "('Switzerland',)\n",
      "('Syria',)\n",
      "('Taiwan',)\n",
      "('Tajikistan',)\n",
      "('Tanzania',)\n",
      "('Thailand',)\n",
      "('Togo',)\n",
      "('Tonga',)\n",
      "('Trinidad and Tobago',)\n",
      "('Tunisia',)\n",
      "('Turkey',)\n",
      "('Turkmenistan',)\n",
      "('Turks and Caicos Islands',)\n",
      "('Tuvalu',)\n",
      "('Uganda',)\n",
      "('Ukraine',)\n",
      "('United Arab Emirates',)\n",
      "('United Kingdom',)\n",
      "('United States',)\n",
      "('Uruguay',)\n",
      "('Uzbekistan',)\n",
      "('Vanuatu',)\n",
      "('Venezuela',)\n",
      "('Vietnam',)\n",
      "('Virgin Islands',)\n",
      "('Wake Island',)\n",
      "('Wallis and Futuna',)\n",
      "('West Bank',)\n",
      "('Western Sahara',)\n",
      "('Yemen',)\n",
      "('Zambia',)\n",
      "('Zimbabwe',)\n"
     ]
    }
   ],
   "source": [
    "cursor.execute('''SELECT DISTINCT country FROM airports ORDER BY 1''')\n",
    "print(*cursor.fetchall(), sep='\\n')"
   ]
  },
  {
   "cell_type": "code",
   "execution_count": 65,
   "metadata": {},
   "outputs": [
    {
     "name": "stdout",
     "output_type": "stream",
     "text": [
      "('Afghanistan', 21)\n",
      "('Albania', 1)\n",
      "('Algeria', 44)\n",
      "('American Samoa', 3)\n",
      "('Angola', 26)\n",
      "('Anguilla', 1)\n",
      "('Antarctica', 19)\n",
      "('Antigua and Barbuda', 2)\n",
      "('Argentina', 103)\n",
      "('Armenia', 4)\n",
      "('Aruba', 1)\n",
      "('Australia', 263)\n",
      "('Austria', 29)\n",
      "('Azerbaijan', 11)\n",
      "('Bahamas', 37)\n",
      "('Bahrain', 2)\n",
      "('Bangladesh', 13)\n",
      "('Barbados', 1)\n",
      "('Belarus', 9)\n",
      "('Belgium', 34)\n",
      "('Belize', 12)\n",
      "('Benin', 1)\n",
      "('Bermuda', 2)\n",
      "('Bhutan', 1)\n",
      "('Bolivia', 27)\n",
      "('Bosnia and Herzegovina', 4)\n",
      "('Botswana', 29)\n",
      "('Brazil', 213)\n",
      "('British Indian Ocean Territory', 1)\n",
      "('British Virgin Islands', 2)\n",
      "('Brunei', 3)\n",
      "('Bulgaria', 7)\n",
      "('Burkina Faso', 2)\n",
      "('Burma', 43)\n",
      "('Burundi', 1)\n",
      "('Cambodia', 13)\n",
      "('Cameroon', 10)\n",
      "('Canada', 435)\n",
      "('Cape Verde', 7)\n",
      "('Cayman Islands', 3)\n",
      "('Central African Republic', 3)\n",
      "('Chad', 7)\n",
      "('Chile', 38)\n",
      "('China', 219)\n",
      "('Christmas Island', 1)\n",
      "('Cocos (Keeling) Islands', 1)\n",
      "('Colombia', 72)\n",
      "('Comoros', 4)\n",
      "('Congo (Brazzaville)', 3)\n",
      "('Congo (Kinshasa)', 36)\n",
      "('Cook Islands', 8)\n",
      "('Costa Rica', 29)\n",
      "(\"Cote d'Ivoire\", 7)\n",
      "('Croatia', 14)\n",
      "('Cuba', 30)\n",
      "('Cyprus', 5)\n",
      "('Czech Republic', 27)\n",
      "('Denmark', 28)\n",
      "('Djibouti', 3)\n",
      "('Dominica', 3)\n",
      "('Dominican Republic', 14)\n",
      "('East Timor', 3)\n",
      "('Ecuador', 38)\n",
      "('Egypt', 25)\n",
      "('El Salvador', 2)\n",
      "('Equatorial Guinea', 2)\n",
      "('Eritrea', 3)\n",
      "('Estonia', 9)\n",
      "('Ethiopia', 32)\n",
      "('Falkland Islands', 5)\n",
      "('Faroe Islands', 3)\n",
      "('Fiji', 17)\n",
      "('Finland', 51)\n",
      "('France', 233)\n",
      "('French Guiana', 22)\n",
      "('French Polynesia', 36)\n",
      "('Gabon', 14)\n",
      "('Gambia', 1)\n",
      "('Georgia', 5)\n",
      "('Germany', 321)\n",
      "('Ghana', 6)\n",
      "('Gibraltar', 1)\n",
      "('Greece', 60)\n",
      "('Greenland', 29)\n",
      "('Grenada', 3)\n",
      "('Guadeloupe', 7)\n",
      "('Guam', 2)\n",
      "('Guatemala', 10)\n",
      "('Guernsey', 2)\n",
      "('Guinea', 6)\n",
      "('Guinea-Bissau', 2)\n",
      "('Guyana', 14)\n",
      "('Haiti', 14)\n",
      "('Honduras', 11)\n",
      "('Hong Kong', 13)\n",
      "('Hungary', 15)\n",
      "('Iceland', 22)\n",
      "('India', 140)\n",
      "('Indonesia', 114)\n",
      "('Iran', 81)\n",
      "('Iraq', 10)\n",
      "('Ireland', 25)\n",
      "('Isle of Man', 1)\n",
      "('Israel', 16)\n",
      "('Italy', 92)\n",
      "('Jamaica', 7)\n",
      "('Japan', 131)\n",
      "('Jersey', 1)\n",
      "('Johnston Atoll', 1)\n",
      "('Jordan', 6)\n",
      "('Kazakhstan', 28)\n",
      "('Kenya', 55)\n",
      "('Kiribati', 18)\n",
      "('Korea', 1)\n",
      "('Kuwait', 2)\n",
      "('Kyrgyzstan', 4)\n",
      "('Laos', 11)\n",
      "('Latvia', 3)\n",
      "('Lebanon', 2)\n",
      "('Lesotho', 3)\n",
      "('Liberia', 3)\n",
      "('Libya', 21)\n",
      "('Lithuania', 8)\n",
      "('Luxembourg', 1)\n",
      "('Macau', 4)\n",
      "('Macedonia', 2)\n",
      "('Madagascar', 45)\n",
      "('Malawi', 8)\n",
      "('Malaysia', 47)\n",
      "('Maldives', 42)\n",
      "('Mali', 8)\n",
      "('Malta', 8)\n",
      "('Marshall Islands', 32)\n",
      "('Martinique', 4)\n",
      "('Mauritania', 10)\n",
      "('Mauritius', 2)\n",
      "('Mayotte', 1)\n",
      "('Mexico', 94)\n",
      "('Micronesia', 5)\n",
      "('Midway Islands', 1)\n",
      "('Moldova', 3)\n",
      "('Monaco', 1)\n",
      "('Mongolia', 13)\n",
      "('Montenegro', 2)\n",
      "('Montserrat', 2)\n",
      "('Morocco', 22)\n",
      "('Mozambique', 22)\n",
      "('Myanmar', 1)\n",
      "('Namibia', 19)\n",
      "('Nauru', 1)\n",
      "('Nepal', 36)\n",
      "('Netherlands', 42)\n",
      "('Netherlands Antilles', 8)\n",
      "('New Caledonia', 11)\n",
      "('New Zealand', 56)\n",
      "('Nicaragua', 11)\n",
      "('Niger', 7)\n",
      "('Nigeria', 26)\n",
      "('Niue', 1)\n",
      "('Norfolk Island', 1)\n",
      "('North Korea', 5)\n",
      "('Northern Mariana Islands', 3)\n",
      "('Norway', 69)\n",
      "('Oman', 6)\n",
      "('Pakistan', 46)\n",
      "('Palau', 3)\n",
      "('Palestine', 1)\n",
      "('Panama', 26)\n",
      "('Papua New Guinea', 57)\n",
      "('Paraguay', 8)\n",
      "('Peru', 43)\n",
      "('Philippines', 64)\n",
      "('Poland', 34)\n",
      "('Portugal', 39)\n",
      "('Puerto Rico', 15)\n",
      "('Qatar', 3)\n",
      "('Reunion', 10)\n",
      "('Romania', 26)\n",
      "('Russia', 249)\n",
      "('Rwanda', 3)\n",
      "('Saint Helena', 1)\n",
      "('Saint Kitts and Nevis', 3)\n",
      "('Saint Lucia', 3)\n",
      "('Saint Pierre and Miquelon', 2)\n",
      "('Saint Vincent and the Grenadines', 5)\n",
      "('Samoa', 4)\n",
      "('Sao Tome and Principe', 2)\n",
      "('Saudi Arabia', 42)\n",
      "('Senegal', 9)\n",
      "('Serbia', 4)\n",
      "('Seychelles', 11)\n",
      "('Sierra Leone', 8)\n",
      "('Singapore', 6)\n",
      "('Slovakia', 10)\n",
      "('Slovenia', 5)\n",
      "('Solomon Islands', 27)\n",
      "('Somalia', 11)\n",
      "('South Africa', 103)\n",
      "('South Georgia and the Islands', 2)\n",
      "('South Korea', 31)\n",
      "('South Sudan', 2)\n",
      "('Spain', 84)\n",
      "('Sri Lanka', 15)\n",
      "('Sudan', 18)\n",
      "('Suriname', 23)\n",
      "('Svalbard', 4)\n",
      "('Swaziland', 1)\n",
      "('Sweden', 86)\n",
      "('Switzerland', 53)\n",
      "('Syria', 6)\n",
      "('Taiwan', 32)\n",
      "('Tajikistan', 5)\n",
      "('Tanzania', 27)\n",
      "('Thailand', 58)\n",
      "('Togo', 2)\n",
      "('Tonga', 6)\n",
      "('Trinidad and Tobago', 2)\n",
      "('Tunisia', 13)\n",
      "('Turkey', 77)\n",
      "('Turkmenistan', 8)\n",
      "('Turks and Caicos Islands', 6)\n",
      "('Tuvalu', 1)\n",
      "('Uganda', 9)\n",
      "('Ukraine', 33)\n",
      "('United Arab Emirates', 19)\n",
      "('United Kingdom', 210)\n",
      "('United States', 1697)\n",
      "('Uruguay', 13)\n",
      "('Uzbekistan', 12)\n",
      "('Vanuatu', 29)\n",
      "('Venezuela', 58)\n",
      "('Vietnam', 30)\n",
      "('Virgin Islands', 8)\n",
      "('Wake Island', 1)\n",
      "('Wallis and Futuna', 2)\n",
      "('West Bank', 1)\n",
      "('Western Sahara', 3)\n",
      "('Yemen', 11)\n",
      "('Zambia', 13)\n",
      "('Zimbabwe', 16)\n"
     ]
    }
   ],
   "source": [
    "cursor.execute('''\n",
    "SELECT country,\n",
    "       count(*) AS airport_count\n",
    "FROM airports\n",
    "GROUP BY country\n",
    "ORDER BY 1\n",
    "''')\n",
    "print(*cursor.fetchall(), sep='\\n')"
   ]
  },
  {
   "cell_type": "markdown",
   "metadata": {
    "slideshow": {
     "slide_type": "slide"
    }
   },
   "source": [
    "### SQL Joins"
   ]
  },
  {
   "cell_type": "markdown",
   "metadata": {
    "slideshow": {
     "slide_type": "fragment"
    }
   },
   "source": [
    "SQL joins can be used to both **add** data to a table and **remove** data from a table. "
   ]
  },
  {
   "cell_type": "markdown",
   "metadata": {
    "slideshow": {
     "slide_type": "fragment"
    }
   },
   "source": [
    "<img src=\"img/venn.png\" width=550>"
   ]
  },
  {
   "cell_type": "markdown",
   "metadata": {
    "slideshow": {
     "slide_type": "slide"
    }
   },
   "source": [
    "**Task** Write a query that will join the latitude and longitude data from the airports table to the information on the routes table"
   ]
  },
  {
   "cell_type": "code",
   "execution_count": 75,
   "metadata": {
    "slideshow": {
     "slide_type": "skip"
    }
   },
   "outputs": [],
   "source": [
    "cursor.execute(\"\"\"\n",
    "SELECT r.*,\n",
    "      source.latitude AS source_lat,\n",
    "\t  source.longitude AS source_lon,\n",
    "\t  dest.latitude AS dest_lat,\n",
    "\t  dest.longitude AS dest_lon\n",
    "\t  \n",
    "FROM routes r\n",
    "JOIN airports source ON source.id = r.source_id\n",
    "JOIN airports dest ON dest.id = r.dest_id\n",
    "\"\"\")\n",
    "df = pd.DataFrame(cursor.fetchall())"
   ]
  },
  {
   "cell_type": "code",
   "execution_count": 76,
   "metadata": {},
   "outputs": [
    {
     "data": {
      "text/plain": [
       "['index',\n",
       " 'airline',\n",
       " 'airline_id',\n",
       " 'source',\n",
       " 'source_id',\n",
       " 'dest',\n",
       " 'dest_id',\n",
       " 'codeshare',\n",
       " 'stops',\n",
       " 'equipment',\n",
       " 'source_lat',\n",
       " 'source_lon',\n",
       " 'dest_lat',\n",
       " 'dest_lon']"
      ]
     },
     "execution_count": 76,
     "metadata": {},
     "output_type": "execute_result"
    }
   ],
   "source": [
    "[x[0] for x in cursor.description]"
   ]
  },
  {
   "cell_type": "code",
   "execution_count": 77,
   "metadata": {},
   "outputs": [],
   "source": [
    "df.columns = [x[0] for x in cursor.description]"
   ]
  },
  {
   "cell_type": "code",
   "execution_count": 78,
   "metadata": {},
   "outputs": [
    {
     "data": {
      "text/html": [
       "<div>\n",
       "<style scoped>\n",
       "    .dataframe tbody tr th:only-of-type {\n",
       "        vertical-align: middle;\n",
       "    }\n",
       "\n",
       "    .dataframe tbody tr th {\n",
       "        vertical-align: top;\n",
       "    }\n",
       "\n",
       "    .dataframe thead th {\n",
       "        text-align: right;\n",
       "    }\n",
       "</style>\n",
       "<table border=\"1\" class=\"dataframe\">\n",
       "  <thead>\n",
       "    <tr style=\"text-align: right;\">\n",
       "      <th></th>\n",
       "      <th>index</th>\n",
       "      <th>airline</th>\n",
       "      <th>airline_id</th>\n",
       "      <th>source</th>\n",
       "      <th>source_id</th>\n",
       "      <th>dest</th>\n",
       "      <th>dest_id</th>\n",
       "      <th>codeshare</th>\n",
       "      <th>stops</th>\n",
       "      <th>equipment</th>\n",
       "      <th>source_lat</th>\n",
       "      <th>source_lon</th>\n",
       "      <th>dest_lat</th>\n",
       "      <th>dest_lon</th>\n",
       "    </tr>\n",
       "  </thead>\n",
       "  <tbody>\n",
       "    <tr>\n",
       "      <td>0</td>\n",
       "      <td>0</td>\n",
       "      <td>2B</td>\n",
       "      <td>410</td>\n",
       "      <td>AER</td>\n",
       "      <td>2965</td>\n",
       "      <td>KZN</td>\n",
       "      <td>2990</td>\n",
       "      <td>None</td>\n",
       "      <td>0</td>\n",
       "      <td>CR2</td>\n",
       "      <td>43.449928</td>\n",
       "      <td>39.956589</td>\n",
       "      <td>55.606186</td>\n",
       "      <td>49.278728</td>\n",
       "    </tr>\n",
       "    <tr>\n",
       "      <td>1</td>\n",
       "      <td>1</td>\n",
       "      <td>2B</td>\n",
       "      <td>410</td>\n",
       "      <td>ASF</td>\n",
       "      <td>2966</td>\n",
       "      <td>KZN</td>\n",
       "      <td>2990</td>\n",
       "      <td>None</td>\n",
       "      <td>0</td>\n",
       "      <td>CR2</td>\n",
       "      <td>46.283333</td>\n",
       "      <td>48.006278</td>\n",
       "      <td>55.606186</td>\n",
       "      <td>49.278728</td>\n",
       "    </tr>\n",
       "    <tr>\n",
       "      <td>2</td>\n",
       "      <td>2</td>\n",
       "      <td>2B</td>\n",
       "      <td>410</td>\n",
       "      <td>ASF</td>\n",
       "      <td>2966</td>\n",
       "      <td>MRV</td>\n",
       "      <td>2962</td>\n",
       "      <td>None</td>\n",
       "      <td>0</td>\n",
       "      <td>CR2</td>\n",
       "      <td>46.283333</td>\n",
       "      <td>48.006278</td>\n",
       "      <td>44.225072</td>\n",
       "      <td>43.081889</td>\n",
       "    </tr>\n",
       "    <tr>\n",
       "      <td>3</td>\n",
       "      <td>3</td>\n",
       "      <td>2B</td>\n",
       "      <td>410</td>\n",
       "      <td>CEK</td>\n",
       "      <td>2968</td>\n",
       "      <td>KZN</td>\n",
       "      <td>2990</td>\n",
       "      <td>None</td>\n",
       "      <td>0</td>\n",
       "      <td>CR2</td>\n",
       "      <td>55.305836</td>\n",
       "      <td>61.503333</td>\n",
       "      <td>55.606186</td>\n",
       "      <td>49.278728</td>\n",
       "    </tr>\n",
       "    <tr>\n",
       "      <td>4</td>\n",
       "      <td>4</td>\n",
       "      <td>2B</td>\n",
       "      <td>410</td>\n",
       "      <td>CEK</td>\n",
       "      <td>2968</td>\n",
       "      <td>OVB</td>\n",
       "      <td>4078</td>\n",
       "      <td>None</td>\n",
       "      <td>0</td>\n",
       "      <td>CR2</td>\n",
       "      <td>55.305836</td>\n",
       "      <td>61.503333</td>\n",
       "      <td>55.012622</td>\n",
       "      <td>82.650656</td>\n",
       "    </tr>\n",
       "    <tr>\n",
       "      <td>...</td>\n",
       "      <td>...</td>\n",
       "      <td>...</td>\n",
       "      <td>...</td>\n",
       "      <td>...</td>\n",
       "      <td>...</td>\n",
       "      <td>...</td>\n",
       "      <td>...</td>\n",
       "      <td>...</td>\n",
       "      <td>...</td>\n",
       "      <td>...</td>\n",
       "      <td>...</td>\n",
       "      <td>...</td>\n",
       "      <td>...</td>\n",
       "      <td>...</td>\n",
       "    </tr>\n",
       "    <tr>\n",
       "      <td>67197</td>\n",
       "      <td>67658</td>\n",
       "      <td>ZL</td>\n",
       "      <td>4178</td>\n",
       "      <td>WYA</td>\n",
       "      <td>6334</td>\n",
       "      <td>ADL</td>\n",
       "      <td>3341</td>\n",
       "      <td>None</td>\n",
       "      <td>0</td>\n",
       "      <td>SF3</td>\n",
       "      <td>-33.0589</td>\n",
       "      <td>137.514</td>\n",
       "      <td>-34.945</td>\n",
       "      <td>138.530556</td>\n",
       "    </tr>\n",
       "    <tr>\n",
       "      <td>67198</td>\n",
       "      <td>67659</td>\n",
       "      <td>ZM</td>\n",
       "      <td>19016</td>\n",
       "      <td>DME</td>\n",
       "      <td>4029</td>\n",
       "      <td>FRU</td>\n",
       "      <td>2912</td>\n",
       "      <td>None</td>\n",
       "      <td>0</td>\n",
       "      <td>734</td>\n",
       "      <td>55.408611</td>\n",
       "      <td>37.906111</td>\n",
       "      <td>43.061306</td>\n",
       "      <td>74.477556</td>\n",
       "    </tr>\n",
       "    <tr>\n",
       "      <td>67199</td>\n",
       "      <td>67660</td>\n",
       "      <td>ZM</td>\n",
       "      <td>19016</td>\n",
       "      <td>FRU</td>\n",
       "      <td>2912</td>\n",
       "      <td>DME</td>\n",
       "      <td>4029</td>\n",
       "      <td>None</td>\n",
       "      <td>0</td>\n",
       "      <td>734</td>\n",
       "      <td>43.061306</td>\n",
       "      <td>74.477556</td>\n",
       "      <td>55.408611</td>\n",
       "      <td>37.906111</td>\n",
       "    </tr>\n",
       "    <tr>\n",
       "      <td>67200</td>\n",
       "      <td>67661</td>\n",
       "      <td>ZM</td>\n",
       "      <td>19016</td>\n",
       "      <td>FRU</td>\n",
       "      <td>2912</td>\n",
       "      <td>OSS</td>\n",
       "      <td>2913</td>\n",
       "      <td>None</td>\n",
       "      <td>0</td>\n",
       "      <td>734</td>\n",
       "      <td>43.061306</td>\n",
       "      <td>74.477556</td>\n",
       "      <td>40.608989</td>\n",
       "      <td>72.793269</td>\n",
       "    </tr>\n",
       "    <tr>\n",
       "      <td>67201</td>\n",
       "      <td>67662</td>\n",
       "      <td>ZM</td>\n",
       "      <td>19016</td>\n",
       "      <td>OSS</td>\n",
       "      <td>2913</td>\n",
       "      <td>FRU</td>\n",
       "      <td>2912</td>\n",
       "      <td>None</td>\n",
       "      <td>0</td>\n",
       "      <td>734</td>\n",
       "      <td>40.608989</td>\n",
       "      <td>72.793269</td>\n",
       "      <td>43.061306</td>\n",
       "      <td>74.477556</td>\n",
       "    </tr>\n",
       "  </tbody>\n",
       "</table>\n",
       "<p>67202 rows × 14 columns</p>\n",
       "</div>"
      ],
      "text/plain": [
       "       index airline airline_id source source_id dest dest_id codeshare stops  \\\n",
       "0          0      2B        410    AER      2965  KZN    2990      None     0   \n",
       "1          1      2B        410    ASF      2966  KZN    2990      None     0   \n",
       "2          2      2B        410    ASF      2966  MRV    2962      None     0   \n",
       "3          3      2B        410    CEK      2968  KZN    2990      None     0   \n",
       "4          4      2B        410    CEK      2968  OVB    4078      None     0   \n",
       "...      ...     ...        ...    ...       ...  ...     ...       ...   ...   \n",
       "67197  67658      ZL       4178    WYA      6334  ADL    3341      None     0   \n",
       "67198  67659      ZM      19016    DME      4029  FRU    2912      None     0   \n",
       "67199  67660      ZM      19016    FRU      2912  DME    4029      None     0   \n",
       "67200  67661      ZM      19016    FRU      2912  OSS    2913      None     0   \n",
       "67201  67662      ZM      19016    OSS      2913  FRU    2912      None     0   \n",
       "\n",
       "      equipment source_lat source_lon   dest_lat    dest_lon  \n",
       "0           CR2  43.449928  39.956589  55.606186   49.278728  \n",
       "1           CR2  46.283333  48.006278  55.606186   49.278728  \n",
       "2           CR2  46.283333  48.006278  44.225072   43.081889  \n",
       "3           CR2  55.305836  61.503333  55.606186   49.278728  \n",
       "4           CR2  55.305836  61.503333  55.012622   82.650656  \n",
       "...         ...        ...        ...        ...         ...  \n",
       "67197       SF3   -33.0589    137.514    -34.945  138.530556  \n",
       "67198       734  55.408611  37.906111  43.061306   74.477556  \n",
       "67199       734  43.061306  74.477556  55.408611   37.906111  \n",
       "67200       734  43.061306  74.477556  40.608989   72.793269  \n",
       "67201       734  40.608989  72.793269  43.061306   74.477556  \n",
       "\n",
       "[67202 rows x 14 columns]"
      ]
     },
     "execution_count": 78,
     "metadata": {},
     "output_type": "execute_result"
    }
   ],
   "source": [
    "df"
   ]
  },
  {
   "cell_type": "markdown",
   "metadata": {
    "slideshow": {
     "slide_type": "slide"
    }
   },
   "source": [
    "### Grouping statements\n",
    "\n",
    "Combines `select` and `group by` when you want aggregates by values"
   ]
  },
  {
   "cell_type": "markdown",
   "metadata": {
    "slideshow": {
     "slide_type": "fragment"
    }
   },
   "source": [
    "`select` `min(x)` ... `max()`, `sum()`, etc"
   ]
  },
  {
   "cell_type": "markdown",
   "metadata": {
    "slideshow": {
     "slide_type": "fragment"
    }
   },
   "source": [
    "`group by x`"
   ]
  },
  {
   "cell_type": "markdown",
   "metadata": {
    "slideshow": {
     "slide_type": "slide"
    }
   },
   "source": [
    "**Task**<br>\n",
    "- Which countries have the highest amount of active airlines?\n",
    "- Which countries have the highest amount of inactive airlines?\n",
    "- What about airports by timezones?"
   ]
  },
  {
   "cell_type": "code",
   "execution_count": 85,
   "metadata": {
    "slideshow": {
     "slide_type": "skip"
    }
   },
   "outputs": [
    {
     "name": "stdout",
     "output_type": "stream",
     "text": [
      "('United States', 141)\n",
      "('Russia', 72)\n",
      "('United Kingdom', 40)\n",
      "('Germany', 37)\n",
      "('Canada', 34)\n",
      "('Australia', 26)\n",
      "('China', 25)\n",
      "('Spain', 24)\n",
      "('Brazil', 23)\n",
      "('France', 22)\n"
     ]
    }
   ],
   "source": [
    "# Which countries have the highest amount of active airports?\n",
    "cursor.execute(\"\"\"\n",
    "SELECT\n",
    "    country\n",
    "  , count(*) AS airline_count\n",
    "FROM airlines\n",
    "WHERE active = 'Y'\n",
    "GROUP BY 1\n",
    "ORDER BY 2 DESC\n",
    "LIMIT 10\n",
    "\"\"\")\n",
    "print(*cursor.fetchall(), sep='\\n')"
   ]
  },
  {
   "cell_type": "code",
   "execution_count": 86,
   "metadata": {
    "slideshow": {
     "slide_type": "skip"
    }
   },
   "outputs": [
    {
     "name": "stdout",
     "output_type": "stream",
     "text": [
      "('United States', 939)\n",
      "('Mexico', 427)\n",
      "('United Kingdom', 367)\n",
      "('Canada', 284)\n",
      "('Russia', 158)\n",
      "('Spain', 142)\n",
      "('France', 97)\n",
      "('Germany', 94)\n",
      "('South Africa', 81)\n",
      "('Nigeria', 80)\n"
     ]
    }
   ],
   "source": [
    "# Which countries have the highest amount of inactive airlines? -- NOTE: question change!\n",
    "cursor.execute(\"\"\"\n",
    "SELECT\n",
    "    country\n",
    "  , count(*) AS airline_count\n",
    "FROM airlines\n",
    "WHERE active = 'N'\n",
    "GROUP BY country\n",
    "ORDER BY count(*) DESC\n",
    "LIMIT 10\n",
    "\"\"\")\n",
    "print(*cursor.fetchall(), sep='\\n')"
   ]
  },
  {
   "cell_type": "code",
   "execution_count": 87,
   "metadata": {
    "slideshow": {
     "slide_type": "skip"
    }
   },
   "outputs": [
    {
     "name": "stdout",
     "output_type": "stream",
     "text": [
      "('America/New_York', 628)\n",
      "('America/Chicago', 373)\n",
      "('Europe/Berlin', 319)\n",
      "('America/Anchorage', 258)\n",
      "('Europe/Paris', 232)\n",
      "('America/Los_Angeles', 226)\n",
      "('Asia/Chongqing', 222)\n",
      "('Europe/London', 193)\n",
      "('America/Toronto', 159)\n",
      "('Asia/Calcutta', 141)\n"
     ]
    }
   ],
   "source": [
    "# What about airports by timezones?\n",
    "cursor.execute(\"\"\"\n",
    "SELECT\n",
    "    timezone AS tz\n",
    "  , count(*) AS a_cnt\n",
    "FROM airports\n",
    "GROUP BY 1\n",
    "ORDER BY 2 DESC\n",
    "LIMIT 10\n",
    "\"\"\")\n",
    "print(*cursor.fetchall(), sep='\\n')"
   ]
  },
  {
   "cell_type": "code",
   "execution_count": 88,
   "metadata": {},
   "outputs": [],
   "source": [
    "# It's always a good idea to close our connections when we're done\n",
    "cursor.close()\n",
    "con.close()"
   ]
  },
  {
   "cell_type": "markdown",
   "metadata": {
    "slideshow": {
     "slide_type": "slide"
    }
   },
   "source": [
    "## Goal 5: Transfering from sqlite to pandas"
   ]
  },
  {
   "cell_type": "code",
   "execution_count": 69,
   "metadata": {},
   "outputs": [],
   "source": [
    "import pandas as pd"
   ]
  },
  {
   "cell_type": "code",
   "execution_count": 71,
   "metadata": {
    "slideshow": {
     "slide_type": "fragment"
    }
   },
   "outputs": [
    {
     "data": {
      "text/html": [
       "<div>\n",
       "<style scoped>\n",
       "    .dataframe tbody tr th:only-of-type {\n",
       "        vertical-align: middle;\n",
       "    }\n",
       "\n",
       "    .dataframe tbody tr th {\n",
       "        vertical-align: top;\n",
       "    }\n",
       "\n",
       "    .dataframe thead th {\n",
       "        text-align: right;\n",
       "    }\n",
       "</style>\n",
       "<table border=\"1\" class=\"dataframe\">\n",
       "  <thead>\n",
       "    <tr style=\"text-align: right;\">\n",
       "      <th></th>\n",
       "      <th>index</th>\n",
       "      <th>id</th>\n",
       "      <th>name</th>\n",
       "      <th>city</th>\n",
       "      <th>country</th>\n",
       "      <th>code</th>\n",
       "      <th>icao</th>\n",
       "      <th>latitude</th>\n",
       "      <th>longitude</th>\n",
       "      <th>altitude</th>\n",
       "      <th>offset</th>\n",
       "      <th>dst</th>\n",
       "      <th>timezone</th>\n",
       "    </tr>\n",
       "  </thead>\n",
       "  <tbody>\n",
       "    <tr>\n",
       "      <td>0</td>\n",
       "      <td>0</td>\n",
       "      <td>1</td>\n",
       "      <td>Goroka</td>\n",
       "      <td>Goroka</td>\n",
       "      <td>Papua New Guinea</td>\n",
       "      <td>GKA</td>\n",
       "      <td>AYGA</td>\n",
       "      <td>-6.081689</td>\n",
       "      <td>145.391881</td>\n",
       "      <td>5282</td>\n",
       "      <td>10</td>\n",
       "      <td>U</td>\n",
       "      <td>Pacific/Port_Moresby</td>\n",
       "    </tr>\n",
       "    <tr>\n",
       "      <td>1</td>\n",
       "      <td>1</td>\n",
       "      <td>2</td>\n",
       "      <td>Madang</td>\n",
       "      <td>Madang</td>\n",
       "      <td>Papua New Guinea</td>\n",
       "      <td>MAG</td>\n",
       "      <td>AYMD</td>\n",
       "      <td>-5.207083</td>\n",
       "      <td>145.7887</td>\n",
       "      <td>20</td>\n",
       "      <td>10</td>\n",
       "      <td>U</td>\n",
       "      <td>Pacific/Port_Moresby</td>\n",
       "    </tr>\n",
       "    <tr>\n",
       "      <td>2</td>\n",
       "      <td>2</td>\n",
       "      <td>3</td>\n",
       "      <td>Mount Hagen</td>\n",
       "      <td>Mount Hagen</td>\n",
       "      <td>Papua New Guinea</td>\n",
       "      <td>HGU</td>\n",
       "      <td>AYMH</td>\n",
       "      <td>-5.826789</td>\n",
       "      <td>144.295861</td>\n",
       "      <td>5388</td>\n",
       "      <td>10</td>\n",
       "      <td>U</td>\n",
       "      <td>Pacific/Port_Moresby</td>\n",
       "    </tr>\n",
       "    <tr>\n",
       "      <td>3</td>\n",
       "      <td>3</td>\n",
       "      <td>4</td>\n",
       "      <td>Nadzab</td>\n",
       "      <td>Nadzab</td>\n",
       "      <td>Papua New Guinea</td>\n",
       "      <td>LAE</td>\n",
       "      <td>AYNZ</td>\n",
       "      <td>-6.569828</td>\n",
       "      <td>146.726242</td>\n",
       "      <td>239</td>\n",
       "      <td>10</td>\n",
       "      <td>U</td>\n",
       "      <td>Pacific/Port_Moresby</td>\n",
       "    </tr>\n",
       "    <tr>\n",
       "      <td>4</td>\n",
       "      <td>4</td>\n",
       "      <td>5</td>\n",
       "      <td>Port Moresby Jacksons Intl</td>\n",
       "      <td>Port Moresby</td>\n",
       "      <td>Papua New Guinea</td>\n",
       "      <td>POM</td>\n",
       "      <td>AYPY</td>\n",
       "      <td>-9.443383</td>\n",
       "      <td>147.22005</td>\n",
       "      <td>146</td>\n",
       "      <td>10</td>\n",
       "      <td>U</td>\n",
       "      <td>Pacific/Port_Moresby</td>\n",
       "    </tr>\n",
       "  </tbody>\n",
       "</table>\n",
       "</div>"
      ],
      "text/plain": [
       "   index id                        name          city           country code  \\\n",
       "0      0  1                      Goroka        Goroka  Papua New Guinea  GKA   \n",
       "1      1  2                      Madang        Madang  Papua New Guinea  MAG   \n",
       "2      2  3                 Mount Hagen   Mount Hagen  Papua New Guinea  HGU   \n",
       "3      3  4                      Nadzab        Nadzab  Papua New Guinea  LAE   \n",
       "4      4  5  Port Moresby Jacksons Intl  Port Moresby  Papua New Guinea  POM   \n",
       "\n",
       "   icao   latitude   longitude altitude offset dst              timezone  \n",
       "0  AYGA  -6.081689  145.391881     5282     10   U  Pacific/Port_Moresby  \n",
       "1  AYMD  -5.207083    145.7887       20     10   U  Pacific/Port_Moresby  \n",
       "2  AYMH  -5.826789  144.295861     5388     10   U  Pacific/Port_Moresby  \n",
       "3  AYNZ  -6.569828  146.726242      239     10   U  Pacific/Port_Moresby  \n",
       "4  AYPY  -9.443383   147.22005      146     10   U  Pacific/Port_Moresby  "
      ]
     },
     "execution_count": 71,
     "metadata": {},
     "output_type": "execute_result"
    }
   ],
   "source": [
    "pd_con = sqlite3.connect(\"data/flights.db\")\n",
    "df = pd.read_sql_query(\"select * from airports limit 5;\", pd_con)\n",
    "df"
   ]
  },
  {
   "cell_type": "markdown",
   "metadata": {
    "slideshow": {
     "slide_type": "slide"
    }
   },
   "source": [
    "**Task**: \n",
    "Convert one of the earlier queries in the lesson to a pandas data frame"
   ]
  },
  {
   "cell_type": "code",
   "execution_count": 72,
   "metadata": {},
   "outputs": [],
   "source": [
    "df = pd.read_sql_query(\"\"\"\n",
    "SELECT r.*,\n",
    "      source.latitude AS source_lat,\n",
    "\t  source.longitude AS source_lon,\n",
    "\t  dest.latitude AS dest_lat,\n",
    "\t  dest.longitude AS dest_lon\n",
    "\t  \n",
    "FROM routes r\n",
    "JOIN airports source ON source.id = r.source_id\n",
    "JOIN airports dest ON dest.id = r.dest_id\n",
    "\"\"\", pd_con)"
   ]
  },
  {
   "cell_type": "code",
   "execution_count": 79,
   "metadata": {},
   "outputs": [
    {
     "data": {
      "text/plain": [
       "RangeIndex(start=0, stop=67202, step=1)"
      ]
     },
     "execution_count": 79,
     "metadata": {},
     "output_type": "execute_result"
    }
   ],
   "source": [
    "df.index"
   ]
  },
  {
   "cell_type": "code",
   "execution_count": null,
   "metadata": {},
   "outputs": [],
   "source": [
    "pd_con.close()"
   ]
  },
  {
   "cell_type": "markdown",
   "metadata": {
    "slideshow": {
     "slide_type": "slide"
    }
   },
   "source": [
    "## Bonus: SQL-like querying in Pandas\n",
    "\n",
    "`.query()`\n",
    "\n",
    "[query documentation](https://pandas.pydata.org/pandas-docs/stable/reference/api/pandas.DataFrame.query.html)"
   ]
  },
  {
   "cell_type": "code",
   "execution_count": 89,
   "metadata": {
    "slideshow": {
     "slide_type": "slide"
    }
   },
   "outputs": [],
   "source": [
    "# Get data for an example\n",
    "import pandas as pd\n",
    "shelter_data=pd.read_csv('https://data.austintexas.gov/api/views/9t4d-g238/rows.csv?accessType=DOWNLOAD')"
   ]
  },
  {
   "cell_type": "code",
   "execution_count": 90,
   "metadata": {
    "slideshow": {
     "slide_type": "slide"
    }
   },
   "outputs": [
    {
     "data": {
      "text/html": [
       "<div>\n",
       "<style scoped>\n",
       "    .dataframe tbody tr th:only-of-type {\n",
       "        vertical-align: middle;\n",
       "    }\n",
       "\n",
       "    .dataframe tbody tr th {\n",
       "        vertical-align: top;\n",
       "    }\n",
       "\n",
       "    .dataframe thead th {\n",
       "        text-align: right;\n",
       "    }\n",
       "</style>\n",
       "<table border=\"1\" class=\"dataframe\">\n",
       "  <thead>\n",
       "    <tr style=\"text-align: right;\">\n",
       "      <th></th>\n",
       "      <th>Animal ID</th>\n",
       "      <th>Name</th>\n",
       "      <th>DateTime</th>\n",
       "      <th>MonthYear</th>\n",
       "      <th>Date of Birth</th>\n",
       "      <th>Outcome Type</th>\n",
       "      <th>Outcome Subtype</th>\n",
       "      <th>Animal Type</th>\n",
       "      <th>Sex upon Outcome</th>\n",
       "      <th>Age upon Outcome</th>\n",
       "      <th>Breed</th>\n",
       "      <th>Color</th>\n",
       "    </tr>\n",
       "  </thead>\n",
       "  <tbody>\n",
       "    <tr>\n",
       "      <td>50</td>\n",
       "      <td>A736717</td>\n",
       "      <td>Max</td>\n",
       "      <td>10/21/2016 02:45:00 PM</td>\n",
       "      <td>10/21/2016 02:45:00 PM</td>\n",
       "      <td>10/16/2013</td>\n",
       "      <td>Return to Owner</td>\n",
       "      <td>NaN</td>\n",
       "      <td>Dog</td>\n",
       "      <td>Neutered Male</td>\n",
       "      <td>3 years</td>\n",
       "      <td>Pug Mix</td>\n",
       "      <td>Brown Brindle</td>\n",
       "    </tr>\n",
       "    <tr>\n",
       "      <td>160</td>\n",
       "      <td>A766116</td>\n",
       "      <td>Max</td>\n",
       "      <td>02/13/2018 11:14:00 AM</td>\n",
       "      <td>02/13/2018 11:14:00 AM</td>\n",
       "      <td>02/02/2015</td>\n",
       "      <td>Return to Owner</td>\n",
       "      <td>NaN</td>\n",
       "      <td>Dog</td>\n",
       "      <td>Neutered Male</td>\n",
       "      <td>3 years</td>\n",
       "      <td>Rottweiler/Staffordshire</td>\n",
       "      <td>Blue/Tan</td>\n",
       "    </tr>\n",
       "    <tr>\n",
       "      <td>379</td>\n",
       "      <td>A688196</td>\n",
       "      <td>Max</td>\n",
       "      <td>09/16/2014 12:20:00 PM</td>\n",
       "      <td>09/16/2014 12:20:00 PM</td>\n",
       "      <td>09/16/2005</td>\n",
       "      <td>Euthanasia</td>\n",
       "      <td>Suffering</td>\n",
       "      <td>Dog</td>\n",
       "      <td>Neutered Male</td>\n",
       "      <td>9 years</td>\n",
       "      <td>Jack Russell Terrier Mix</td>\n",
       "      <td>Chocolate/White</td>\n",
       "    </tr>\n",
       "    <tr>\n",
       "      <td>501</td>\n",
       "      <td>A579608</td>\n",
       "      <td>Max</td>\n",
       "      <td>07/21/2014 12:43:00 PM</td>\n",
       "      <td>07/21/2014 12:43:00 PM</td>\n",
       "      <td>06/09/2010</td>\n",
       "      <td>Return to Owner</td>\n",
       "      <td>NaN</td>\n",
       "      <td>Dog</td>\n",
       "      <td>Neutered Male</td>\n",
       "      <td>4 years</td>\n",
       "      <td>Labrador Retriever Mix</td>\n",
       "      <td>Black/White</td>\n",
       "    </tr>\n",
       "    <tr>\n",
       "      <td>808</td>\n",
       "      <td>A745151</td>\n",
       "      <td>Max</td>\n",
       "      <td>03/13/2017 07:12:00 PM</td>\n",
       "      <td>03/13/2017 07:12:00 PM</td>\n",
       "      <td>11/13/2016</td>\n",
       "      <td>Return to Owner</td>\n",
       "      <td>NaN</td>\n",
       "      <td>Dog</td>\n",
       "      <td>Neutered Male</td>\n",
       "      <td>3 months</td>\n",
       "      <td>German Shepherd Mix</td>\n",
       "      <td>White</td>\n",
       "    </tr>\n",
       "  </tbody>\n",
       "</table>\n",
       "</div>"
      ],
      "text/plain": [
       "    Animal ID Name                DateTime               MonthYear  \\\n",
       "50    A736717  Max  10/21/2016 02:45:00 PM  10/21/2016 02:45:00 PM   \n",
       "160   A766116  Max  02/13/2018 11:14:00 AM  02/13/2018 11:14:00 AM   \n",
       "379   A688196  Max  09/16/2014 12:20:00 PM  09/16/2014 12:20:00 PM   \n",
       "501   A579608  Max  07/21/2014 12:43:00 PM  07/21/2014 12:43:00 PM   \n",
       "808   A745151  Max  03/13/2017 07:12:00 PM  03/13/2017 07:12:00 PM   \n",
       "\n",
       "    Date of Birth     Outcome Type Outcome Subtype Animal Type  \\\n",
       "50     10/16/2013  Return to Owner             NaN         Dog   \n",
       "160    02/02/2015  Return to Owner             NaN         Dog   \n",
       "379    09/16/2005       Euthanasia       Suffering         Dog   \n",
       "501    06/09/2010  Return to Owner             NaN         Dog   \n",
       "808    11/13/2016  Return to Owner             NaN         Dog   \n",
       "\n",
       "    Sex upon Outcome Age upon Outcome                     Breed  \\\n",
       "50     Neutered Male          3 years                   Pug Mix   \n",
       "160    Neutered Male          3 years  Rottweiler/Staffordshire   \n",
       "379    Neutered Male          9 years  Jack Russell Terrier Mix   \n",
       "501    Neutered Male          4 years    Labrador Retriever Mix   \n",
       "808    Neutered Male         3 months       German Shepherd Mix   \n",
       "\n",
       "               Color  \n",
       "50     Brown Brindle  \n",
       "160         Blue/Tan  \n",
       "379  Chocolate/White  \n",
       "501      Black/White  \n",
       "808            White  "
      ]
     },
     "execution_count": 90,
     "metadata": {},
     "output_type": "execute_result"
    }
   ],
   "source": [
    "max_data = shelter_data.query('Name == \"Max\"')\n",
    "max_data.head()\n"
   ]
  },
  {
   "cell_type": "code",
   "execution_count": 91,
   "metadata": {},
   "outputs": [
    {
     "data": {
      "text/html": [
       "<div>\n",
       "<style scoped>\n",
       "    .dataframe tbody tr th:only-of-type {\n",
       "        vertical-align: middle;\n",
       "    }\n",
       "\n",
       "    .dataframe tbody tr th {\n",
       "        vertical-align: top;\n",
       "    }\n",
       "\n",
       "    .dataframe thead th {\n",
       "        text-align: right;\n",
       "    }\n",
       "</style>\n",
       "<table border=\"1\" class=\"dataframe\">\n",
       "  <thead>\n",
       "    <tr style=\"text-align: right;\">\n",
       "      <th></th>\n",
       "      <th>Animal ID</th>\n",
       "      <th>Name</th>\n",
       "      <th>DateTime</th>\n",
       "      <th>MonthYear</th>\n",
       "      <th>Date of Birth</th>\n",
       "      <th>Outcome Type</th>\n",
       "      <th>Outcome Subtype</th>\n",
       "      <th>Animal Type</th>\n",
       "      <th>Sex upon Outcome</th>\n",
       "      <th>Age upon Outcome</th>\n",
       "      <th>Breed</th>\n",
       "      <th>Color</th>\n",
       "    </tr>\n",
       "  </thead>\n",
       "  <tbody>\n",
       "    <tr>\n",
       "      <td>50</td>\n",
       "      <td>A736717</td>\n",
       "      <td>Max</td>\n",
       "      <td>10/21/2016 02:45:00 PM</td>\n",
       "      <td>10/21/2016 02:45:00 PM</td>\n",
       "      <td>10/16/2013</td>\n",
       "      <td>Return to Owner</td>\n",
       "      <td>NaN</td>\n",
       "      <td>Dog</td>\n",
       "      <td>Neutered Male</td>\n",
       "      <td>3 years</td>\n",
       "      <td>Pug Mix</td>\n",
       "      <td>Brown Brindle</td>\n",
       "    </tr>\n",
       "    <tr>\n",
       "      <td>160</td>\n",
       "      <td>A766116</td>\n",
       "      <td>Max</td>\n",
       "      <td>02/13/2018 11:14:00 AM</td>\n",
       "      <td>02/13/2018 11:14:00 AM</td>\n",
       "      <td>02/02/2015</td>\n",
       "      <td>Return to Owner</td>\n",
       "      <td>NaN</td>\n",
       "      <td>Dog</td>\n",
       "      <td>Neutered Male</td>\n",
       "      <td>3 years</td>\n",
       "      <td>Rottweiler/Staffordshire</td>\n",
       "      <td>Blue/Tan</td>\n",
       "    </tr>\n",
       "    <tr>\n",
       "      <td>379</td>\n",
       "      <td>A688196</td>\n",
       "      <td>Max</td>\n",
       "      <td>09/16/2014 12:20:00 PM</td>\n",
       "      <td>09/16/2014 12:20:00 PM</td>\n",
       "      <td>09/16/2005</td>\n",
       "      <td>Euthanasia</td>\n",
       "      <td>Suffering</td>\n",
       "      <td>Dog</td>\n",
       "      <td>Neutered Male</td>\n",
       "      <td>9 years</td>\n",
       "      <td>Jack Russell Terrier Mix</td>\n",
       "      <td>Chocolate/White</td>\n",
       "    </tr>\n",
       "    <tr>\n",
       "      <td>501</td>\n",
       "      <td>A579608</td>\n",
       "      <td>Max</td>\n",
       "      <td>07/21/2014 12:43:00 PM</td>\n",
       "      <td>07/21/2014 12:43:00 PM</td>\n",
       "      <td>06/09/2010</td>\n",
       "      <td>Return to Owner</td>\n",
       "      <td>NaN</td>\n",
       "      <td>Dog</td>\n",
       "      <td>Neutered Male</td>\n",
       "      <td>4 years</td>\n",
       "      <td>Labrador Retriever Mix</td>\n",
       "      <td>Black/White</td>\n",
       "    </tr>\n",
       "    <tr>\n",
       "      <td>808</td>\n",
       "      <td>A745151</td>\n",
       "      <td>Max</td>\n",
       "      <td>03/13/2017 07:12:00 PM</td>\n",
       "      <td>03/13/2017 07:12:00 PM</td>\n",
       "      <td>11/13/2016</td>\n",
       "      <td>Return to Owner</td>\n",
       "      <td>NaN</td>\n",
       "      <td>Dog</td>\n",
       "      <td>Neutered Male</td>\n",
       "      <td>3 months</td>\n",
       "      <td>German Shepherd Mix</td>\n",
       "      <td>White</td>\n",
       "    </tr>\n",
       "  </tbody>\n",
       "</table>\n",
       "</div>"
      ],
      "text/plain": [
       "    Animal ID Name                DateTime               MonthYear  \\\n",
       "50    A736717  Max  10/21/2016 02:45:00 PM  10/21/2016 02:45:00 PM   \n",
       "160   A766116  Max  02/13/2018 11:14:00 AM  02/13/2018 11:14:00 AM   \n",
       "379   A688196  Max  09/16/2014 12:20:00 PM  09/16/2014 12:20:00 PM   \n",
       "501   A579608  Max  07/21/2014 12:43:00 PM  07/21/2014 12:43:00 PM   \n",
       "808   A745151  Max  03/13/2017 07:12:00 PM  03/13/2017 07:12:00 PM   \n",
       "\n",
       "    Date of Birth     Outcome Type Outcome Subtype Animal Type  \\\n",
       "50     10/16/2013  Return to Owner             NaN         Dog   \n",
       "160    02/02/2015  Return to Owner             NaN         Dog   \n",
       "379    09/16/2005       Euthanasia       Suffering         Dog   \n",
       "501    06/09/2010  Return to Owner             NaN         Dog   \n",
       "808    11/13/2016  Return to Owner             NaN         Dog   \n",
       "\n",
       "    Sex upon Outcome Age upon Outcome                     Breed  \\\n",
       "50     Neutered Male          3 years                   Pug Mix   \n",
       "160    Neutered Male          3 years  Rottweiler/Staffordshire   \n",
       "379    Neutered Male          9 years  Jack Russell Terrier Mix   \n",
       "501    Neutered Male          4 years    Labrador Retriever Mix   \n",
       "808    Neutered Male         3 months       German Shepherd Mix   \n",
       "\n",
       "               Color  \n",
       "50     Brown Brindle  \n",
       "160         Blue/Tan  \n",
       "379  Chocolate/White  \n",
       "501      Black/White  \n",
       "808            White  "
      ]
     },
     "execution_count": 91,
     "metadata": {},
     "output_type": "execute_result"
    }
   ],
   "source": [
    "#vs\n",
    "shelter_data[shelter_data['Name']==\"Max\"].head()"
   ]
  },
  {
   "cell_type": "code",
   "execution_count": 92,
   "metadata": {
    "slideshow": {
     "slide_type": "slide"
    }
   },
   "outputs": [
    {
     "data": {
      "text/html": [
       "<div>\n",
       "<style scoped>\n",
       "    .dataframe tbody tr th:only-of-type {\n",
       "        vertical-align: middle;\n",
       "    }\n",
       "\n",
       "    .dataframe tbody tr th {\n",
       "        vertical-align: top;\n",
       "    }\n",
       "\n",
       "    .dataframe thead th {\n",
       "        text-align: right;\n",
       "    }\n",
       "</style>\n",
       "<table border=\"1\" class=\"dataframe\">\n",
       "  <thead>\n",
       "    <tr style=\"text-align: right;\">\n",
       "      <th></th>\n",
       "      <th>Animal ID</th>\n",
       "      <th>Name</th>\n",
       "      <th>DateTime</th>\n",
       "      <th>MonthYear</th>\n",
       "      <th>Date of Birth</th>\n",
       "      <th>Outcome Type</th>\n",
       "      <th>Outcome Subtype</th>\n",
       "      <th>Animal Type</th>\n",
       "      <th>Sex upon Outcome</th>\n",
       "      <th>Age upon Outcome</th>\n",
       "      <th>Breed</th>\n",
       "      <th>Color</th>\n",
       "    </tr>\n",
       "  </thead>\n",
       "  <tbody>\n",
       "    <tr>\n",
       "      <td>1</td>\n",
       "      <td>A776359</td>\n",
       "      <td>Gizmo</td>\n",
       "      <td>07/18/2018 04:02:00 PM</td>\n",
       "      <td>07/18/2018 04:02:00 PM</td>\n",
       "      <td>07/12/2017</td>\n",
       "      <td>Adoption</td>\n",
       "      <td>NaN</td>\n",
       "      <td>Dog</td>\n",
       "      <td>Neutered Male</td>\n",
       "      <td>1 year</td>\n",
       "      <td>Chihuahua Shorthair Mix</td>\n",
       "      <td>White/Brown</td>\n",
       "    </tr>\n",
       "    <tr>\n",
       "      <td>2</td>\n",
       "      <td>A720371</td>\n",
       "      <td>Moose</td>\n",
       "      <td>02/13/2016 05:59:00 PM</td>\n",
       "      <td>02/13/2016 05:59:00 PM</td>\n",
       "      <td>10/08/2015</td>\n",
       "      <td>Adoption</td>\n",
       "      <td>NaN</td>\n",
       "      <td>Dog</td>\n",
       "      <td>Neutered Male</td>\n",
       "      <td>4 months</td>\n",
       "      <td>Anatol Shepherd/Labrador Retriever</td>\n",
       "      <td>Buff</td>\n",
       "    </tr>\n",
       "    <tr>\n",
       "      <td>14</td>\n",
       "      <td>A765349</td>\n",
       "      <td>Einstein</td>\n",
       "      <td>06/08/2018 01:04:00 PM</td>\n",
       "      <td>06/08/2018 01:04:00 PM</td>\n",
       "      <td>01/18/2009</td>\n",
       "      <td>Adoption</td>\n",
       "      <td>Foster</td>\n",
       "      <td>Dog</td>\n",
       "      <td>Neutered Male</td>\n",
       "      <td>9 years</td>\n",
       "      <td>Chihuahua Shorthair Mix</td>\n",
       "      <td>Tricolor</td>\n",
       "    </tr>\n",
       "    <tr>\n",
       "      <td>15</td>\n",
       "      <td>A760697</td>\n",
       "      <td>Star</td>\n",
       "      <td>10/26/2017 03:22:00 PM</td>\n",
       "      <td>10/26/2017 03:22:00 PM</td>\n",
       "      <td>10/23/2007</td>\n",
       "      <td>Transfer</td>\n",
       "      <td>Partner</td>\n",
       "      <td>Dog</td>\n",
       "      <td>Intact Male</td>\n",
       "      <td>10 years</td>\n",
       "      <td>Yorkshire Terrier Mix</td>\n",
       "      <td>Brown/Black</td>\n",
       "    </tr>\n",
       "    <tr>\n",
       "      <td>16</td>\n",
       "      <td>A767231</td>\n",
       "      <td>Millie</td>\n",
       "      <td>02/25/2018 05:19:00 PM</td>\n",
       "      <td>02/25/2018 05:19:00 PM</td>\n",
       "      <td>02/25/2017</td>\n",
       "      <td>Return to Owner</td>\n",
       "      <td>NaN</td>\n",
       "      <td>Dog</td>\n",
       "      <td>Spayed Female</td>\n",
       "      <td>1 year</td>\n",
       "      <td>Jack Russell Terrier/Chihuahua Shorthair</td>\n",
       "      <td>White/Tan</td>\n",
       "    </tr>\n",
       "  </tbody>\n",
       "</table>\n",
       "</div>"
      ],
      "text/plain": [
       "   Animal ID      Name                DateTime               MonthYear  \\\n",
       "1    A776359     Gizmo  07/18/2018 04:02:00 PM  07/18/2018 04:02:00 PM   \n",
       "2    A720371     Moose  02/13/2016 05:59:00 PM  02/13/2016 05:59:00 PM   \n",
       "14   A765349  Einstein  06/08/2018 01:04:00 PM  06/08/2018 01:04:00 PM   \n",
       "15   A760697      Star  10/26/2017 03:22:00 PM  10/26/2017 03:22:00 PM   \n",
       "16   A767231    Millie  02/25/2018 05:19:00 PM  02/25/2018 05:19:00 PM   \n",
       "\n",
       "   Date of Birth     Outcome Type Outcome Subtype Animal Type  \\\n",
       "1     07/12/2017         Adoption             NaN         Dog   \n",
       "2     10/08/2015         Adoption             NaN         Dog   \n",
       "14    01/18/2009         Adoption          Foster         Dog   \n",
       "15    10/23/2007         Transfer         Partner         Dog   \n",
       "16    02/25/2017  Return to Owner             NaN         Dog   \n",
       "\n",
       "   Sex upon Outcome Age upon Outcome  \\\n",
       "1     Neutered Male           1 year   \n",
       "2     Neutered Male         4 months   \n",
       "14    Neutered Male          9 years   \n",
       "15      Intact Male         10 years   \n",
       "16    Spayed Female           1 year   \n",
       "\n",
       "                                       Breed        Color  \n",
       "1                    Chihuahua Shorthair Mix  White/Brown  \n",
       "2         Anatol Shepherd/Labrador Retriever         Buff  \n",
       "14                   Chihuahua Shorthair Mix     Tricolor  \n",
       "15                     Yorkshire Terrier Mix  Brown/Black  \n",
       "16  Jack Russell Terrier/Chihuahua Shorthair    White/Tan  "
      ]
     },
     "execution_count": 92,
     "metadata": {},
     "output_type": "execute_result"
    }
   ],
   "source": [
    "# wrap columns with spaces in backticks\n",
    "shelter_data.query('`Animal Type` == \"Dog\"').head()"
   ]
  },
  {
   "cell_type": "code",
   "execution_count": null,
   "metadata": {},
   "outputs": [],
   "source": []
  }
 ],
 "metadata": {
  "kernelspec": {
   "display_name": "Python 3",
   "language": "python",
   "name": "python3"
  },
  "language_info": {
   "codemirror_mode": {
    "name": "ipython",
    "version": 3
   },
   "file_extension": ".py",
   "mimetype": "text/x-python",
   "name": "python",
   "nbconvert_exporter": "python",
   "pygments_lexer": "ipython3",
   "version": "3.7.4"
  }
 },
 "nbformat": 4,
 "nbformat_minor": 4
}
