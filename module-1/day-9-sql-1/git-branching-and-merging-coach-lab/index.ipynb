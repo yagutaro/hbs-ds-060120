{
 "cells": [
  {
   "cell_type": "markdown",
   "metadata": {},
   "source": [
    "<h1 style='text-align:center'>Project Management</h1>"
   ]
  },
  {
   "cell_type": "markdown",
   "metadata": {},
   "source": [
    "## Working Together"
   ]
  },
  {
   "cell_type": "markdown",
   "metadata": {},
   "source": [
    "<img src='images/teamwork.gif'/>"
   ]
  },
  {
   "cell_type": "markdown",
   "metadata": {},
   "source": [
    "#### Steps of a Data Science Project"
   ]
  },
  {
   "cell_type": "markdown",
   "metadata": {},
   "source": [
    "- Define the problem\n",
    "- Obtain data\n",
    "    - Dataset\n",
    "    - API\n",
    "    - Web Scraping\n",
    "- Data Cleaning\n",
    "- EDA\n",
    "- Modeling\n",
    "- Validation\n",
    "- Readme, Final notebooks\n",
    "\n",
    "<img src='images/CRISP-DM_Process.jpg'/>"
   ]
  },
  {
   "cell_type": "markdown",
   "metadata": {},
   "source": [
    "#### Guidelines for working together"
   ]
  },
  {
   "cell_type": "markdown",
   "metadata": {},
   "source": [
    "- Discuss how you each prefer to work, strengths/weaknesses, things you’re really interested in working on \n",
    "- Create a workflow that is going to work for the both of you\n",
    "- After deciding on a project topic or dataset you want to explore, break down the Data Gathering process into small steps (call data from “x” API, scrape “y” website, clean data, merge data etc.) \n",
    "    - If a particular task is complex split it even further - i.e. you have multiple pages of the same website that need to be scraped and each require different scripts then each script is a different task \n",
    "    - Each unique API and website should be a separate task\n",
    "- Assign/Pick one to two tasks (2-4 hours of work worth of tasks) for each partner.\n",
    "- After task(s) are complete, meet up and review each others code, ask/answer questions, merge code (if applicable)  \n",
    "- Repeat this process until all tasks for Data Gathering are done. \n",
    "- Continue with this process for the remainder of the major steps (EDA, Modeling, Validation, Final Cleanup/Readme) \n",
    "\n"
   ]
  },
  {
   "cell_type": "markdown",
   "metadata": {},
   "source": [
    "## Collaborating on Git"
   ]
  },
  {
   "cell_type": "markdown",
   "metadata": {},
   "source": [
    "#### Perform the following steps with partners: \n",
    "\n",
    "- One person initializes a git repository on GitHub \n",
    "- Add other person(s) as collaborators on GitHub (under settings)\n",
    "- Both partners clone down repository onto their own computers\n",
    "- Both partners create a new branch on their local repository 'git checkout -b name-wip-what-you-are-working-on'\n",
    "- Both partners create a new .ipynb file with different names\n",
    "- Git add *, git commit -m \"message\", git push (you'll see an error - follow the instruction) \n",
    "- Create a pull request \n",
    "- Marvel in your mastery of git"
   ]
  },
  {
   "cell_type": "markdown",
   "metadata": {},
   "source": [
    "We use git (and GitHub) to collaborate on a project. Many people can work on a single project simultaneously. \n",
    "\n",
    "\n",
    "## Git Branching Workflow\n",
    "\n",
    "[Git Branching Workflow](https://www.atlassian.com/git/tutorials/comparing-workflows/feature-branch-workflow)\n",
    "\n",
    "It is generally best practice to create the master branch that is always polished or \"production ready\" files branches where you are working on adding new features/analysis. In a data science project one branch might be for data cleaning and another branch might be for EDA.\n",
    "\n",
    "<img src='images/git-branches.png'/>\n",
    "\n",
    "##### How to create a new Branch off of the master\n",
    "\n",
    "`git checkout -b new-feature`\n",
    "\n",
    "Here the -b tells git to create a new branch if it does not already exist\n",
    "\n",
    "\n",
    "### Git Merging\n",
    "\n",
    "While working on your project you will also want to merge your branches to the master or merge the master to your branch. Git also has tools to help manage any conflicts that might arise in the merging process. \n",
    "\n",
    "When you are done with your feature you will want to merge this branch back into the master. You will do this with a pull request which we will discuss more later on.\n",
    "\n",
    "<img src='images/merge-to-master.png'/>\n",
    "\n",
    "\n",
    "### **Beware** \n",
    "\n",
    "When working with Jupyter Notebooks, certain considerations to be made because git cannot cleanly merge .ipynb files. Therefore, when working in pairs, use separate notebooks (different names) to test code and utilize functions in .py files for easy merging. The easiest and cleanest way of then merging the notebooks into one is to merge separate notebooks into one branch and then have one person copy and paste the cells into one notebook.  \n",
    "\n",
    "A few alternatives are below:\n",
    "\n",
    "[Making Git and Jupyter Notebooks Play Nice](http://timstaley.co.uk/posts/making-git-and-jupyter-notebooks-play-nice/)\n",
    "\n",
    "[nbdime](https://github.com/jupyter/nbdime)\n",
    "    \n",
    "     \n",
    "#### Merging the master into your branch\n",
    "\n",
    "When your partner has updated the master branch you may want to incorporate these changes into your branch.  The best way to do this is to checkout the branch you are working with and then merge the master to that one.\n",
    "\n",
    "`git checkout feature_branch\n",
    "git merge master`"
   ]
  },
  {
   "cell_type": "markdown",
   "metadata": {},
   "source": [
    "##  Merge Conflicts\n",
    "\n",
    "Merge conflicts happen when you merge branches that have competing commits, and Git needs your help to decide which changes to incorporate in the final merge.\n",
    "\n",
    "```\n",
    "$ git merge BRANCH-NAME> Auto-merging styleguide.md\n",
    "> CONFLICT (content): Merge conflict in styleguide.md\n",
    "> Automatic merge failed; fix conflicts and then commit the result\n",
    "```\n",
    "\n",
    "There are two ways to address this merge conflict:\n",
    "\n",
    "1. Edit the file that has the merge conflict directly \n",
    "- Open your favorite text editor, and navigate to the file that has merge conflicts.\n",
    "- When you open the file in your text editor, you'll see the changes from the HEAD or base branch after the line <<<<<<< HEAD. Next, you'll see =======, which divides your changes from the changes in the other branch, followed by >>>>>>> BRANCH-NAME.\n",
    "\n",
    "```\n",
    "If you have questions, please\n",
    "<<<<<<< HEAD\n",
    "open an issue\n",
    "=======\n",
    "ask your question in IRC.\n",
    ">>>>>>> branch-a\n",
    "```\n",
    "- Decide if you want to keep only your branch's changes, keep only the other branch's changes, or make a brand new change, which may incorporate changes from both branches. Delete the conflict markers <<<<<<<, =======, >>>>>>> and make the changes you want in the final merge. \n",
    "\n",
    "\n",
    "2. Tell git which file you want to keep. According to the git checkout manpage, there’s a --theirs and --ours options on the command. The former will keep the version of the file that you merged in, and the other will keep the original one we had.\n",
    "\n",
    "The following commands will keep the original file for index.html, and then use the merged in file only for _layouts/default.html.\n",
    "\n",
    "`git checkout --ours index.html\n",
    "git checkout --theirs _layouts/default.html`\n",
    "\n",
    "\n",
    "Good practice:\n",
    "- pull master into your brach before merging your changes into the master in a pull request"
   ]
  },
  {
   "cell_type": "markdown",
   "metadata": {},
   "source": [
    "## Git Pull Requests\n",
    "\n",
    "When you are ready to put your work into your master branch you will need to do a pull request to merge your work into the master branch.\n",
    "\n",
    "Pull requests are done through the Github GUI.\n",
    "\n",
    "[Github Pull Requests](https://help.github.com/en/articles/creating-a-pull-request)\n",
    "\n",
    "### Steps to a Pull Request\n",
    "\n",
    "1. On GitHub, navigate to the main page of the repository.\n",
    "\n",
    "2. In the \"Branch\" menu, choose the branch that contains your commits.\n",
    "\n",
    "<img src='images/branch-dropdown.png'/>\n",
    "\n",
    "3. To the right of the Branch menu, click New pull request.\n",
    "<img src='images/pull-request-start-review-button.png'/>\n",
    "\n",
    "4. Use the base branch dropdown menu to select the branch you'd like to merge your changes into, then use the compare branch drop-down menu to choose the topic branch you made your changes in.\n",
    "<img src='images/choose-base-and-compare-branches.png'/>\n",
    "\n",
    "5. Specify a title and write a description for your pull request\n",
    "<img src='images/pullrequest-description.png'/>\n",
    "\n",
    "6.  To create a pull request that is ready for review, click **Create Pull Request**. To create a draft pull request, use the drop-down and select **Create Draft Pull Request**, then click **Draft Pull Request**. \n",
    "<img src='images/pullrequest-send.png'/>\n",
    "\n",
    "7. Someone other than the one who submitted the pull request will now review the pull request.  After reviewing the changes they will write any comments they have about the pull request and submit.\n",
    "\n",
    "[How to review pull request](https://help.github.com/en/articles/reviewing-proposed-changes-in-a-pull-request)\n",
    "\n",
    "<img src='images/comment-field.png'/>\n",
    "\n",
    "8. This person will then submit their review of the request with a status\n",
    "\n",
    "<img src='images/pull-request-review-statuses.png'/>\n"
   ]
  },
  {
   "cell_type": "markdown",
   "metadata": {},
   "source": [
    "## Let's Practice \n",
    "\n",
    "With your Mod 1 Project partner let's follow the steps of a git project workflow:\n",
    "\n",
    "1.  One partner creates a github repo\n",
    "<p>\n",
    "<img src=\"images/New_repo1.png\" width=300>\n",
    "</p>\n",
    "\n",
    "### OR\n",
    "<p>\n",
    "<img src=\"images/New_repo2.png\" width=300>\n",
    "</p>\n",
    "\n",
    "    - Make the repo public\n",
    "    - Add a readme\n",
    "    - Add a gitignore file\n",
    "    \n",
    "<p>\n",
    "<img src=\"images/Repo_settings.png\" width=500>\n",
    "</p>\n"
   ]
  },
  {
   "cell_type": "markdown",
   "metadata": {},
   "source": [
    "2. Add your partner as a collaborator of the repo\n",
    "\n",
    "<p>\n",
    "<img src=\"images/Add_collab.png\" width=500>\n",
    "</p>"
   ]
  },
  {
   "cell_type": "markdown",
   "metadata": {},
   "source": [
    "3.  Both partners get link to clone the repo and clone to their local computers\n",
    "\n",
    "<p>\n",
    "<img src=\"images/get_clone_link.png\" width=500>\n",
    "</p>"
   ]
  },
  {
   "cell_type": "markdown",
   "metadata": {},
   "source": [
    "4.  Both partners create a branch and move to that branch\n",
    "\n",
    "`git checkout -b name-of-branch`\n"
   ]
  },
  {
   "cell_type": "markdown",
   "metadata": {},
   "source": [
    "5. View branches on your repo using \n",
    "\n",
    "`git branch`\n",
    "\n",
    "Note:  Without pushing your individual branches and then checking out your partner's branch on your computer you will only see your branches listed with this command "
   ]
  },
  {
   "cell_type": "markdown",
   "metadata": {},
   "source": [
    "6. Both partners push your branches to github\n",
    "\n",
    "`git push --set-upstream origin name-of-branch`\n",
    "\n",
    "Now you should see both partners' branches on github\n",
    "\n",
    "<p>\n",
    "<img src=\"images/view_branches.png\" width=500>\n",
    "</p>\n",
    "\n",
    "- Now to view all branches from github do\n",
    "\n",
    "`git branch -a`  and you should see both branches"
   ]
  },
  {
   "cell_type": "markdown",
   "metadata": {},
   "source": [
    "7.  Both partners create a test.py file on each of your branches"
   ]
  },
  {
   "cell_type": "markdown",
   "metadata": {},
   "source": [
    "8.  Both partners add and commit their test.py file to their branches\n",
    "\n",
    "`git add .`\n",
    "\n",
    "`git commit -m ‘meaningful message’`\n"
   ]
  },
  {
   "cell_type": "markdown",
   "metadata": {},
   "source": [
    "9.  One partner initiates a pull request\n",
    "\n",
    "10.  Other partner reviews and approves pull request to pull into master"
   ]
  },
  {
   "cell_type": "code",
   "execution_count": null,
   "metadata": {},
   "outputs": [],
   "source": []
  }
 ],
 "metadata": {
  "kernelspec": {
   "display_name": "Python 3",
   "language": "python",
   "name": "python3"
  },
  "language_info": {
   "codemirror_mode": {
    "name": "ipython",
    "version": 3
   },
   "file_extension": ".py",
   "mimetype": "text/x-python",
   "name": "python",
   "nbconvert_exporter": "python",
   "pygments_lexer": "ipython3",
   "version": "3.7.3"
  }
 },
 "nbformat": 4,
 "nbformat_minor": 4
}
