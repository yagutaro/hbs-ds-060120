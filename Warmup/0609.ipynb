{
 "cells": [
  {
   "cell_type": "code",
   "execution_count": 13,
   "metadata": {},
   "outputs": [
    {
     "name": "stdout",
     "output_type": "stream",
     "text": [
      "['Brian', 'Betty', 'Bella', 'Bruno']\n"
     ]
    }
   ],
   "source": [
    "names = [\"Benjamin\", \"Bernadette\", \"Brian\", \"Betty\", \"Bella\", \"Brunhilda\", \"Bruno\"]\n",
    "\n",
    "#normal method\n",
    "def is_short(word):\n",
    "    if len(word) < 8:\n",
    "        return True\n",
    "    else:\n",
    "        return False\n",
    "\n",
    "short_names = list(filter(is_short, names))\n",
    "print(short_names)"
   ]
  },
  {
   "cell_type": "code",
   "execution_count": 16,
   "metadata": {},
   "outputs": [
    {
     "name": "stdout",
     "output_type": "stream",
     "text": [
      "['Brian', 'Betty', 'Bella', 'Bruno']\n"
     ]
    }
   ],
   "source": [
    "#lambda method\n",
    "\n",
    "short_names = list(filter(lambda x: len(x) < 8, names))\n",
    "print(short_names)"
   ]
  },
  {
   "cell_type": "code",
   "execution_count": null,
   "metadata": {},
   "outputs": [],
   "source": []
  }
 ],
 "metadata": {
  "kernelspec": {
   "display_name": "Python 3",
   "language": "python",
   "name": "python3"
  },
  "language_info": {
   "codemirror_mode": {
    "name": "ipython",
    "version": 3
   },
   "file_extension": ".py",
   "mimetype": "text/x-python",
   "name": "python",
   "nbconvert_exporter": "python",
   "pygments_lexer": "ipython3",
   "version": "3.7.7"
  }
 },
 "nbformat": 4,
 "nbformat_minor": 4
}
