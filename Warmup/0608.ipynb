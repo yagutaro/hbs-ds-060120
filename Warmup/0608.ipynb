{
 "cells": [
  {
   "cell_type": "code",
   "execution_count": 3,
   "metadata": {},
   "outputs": [
    {
     "data": {
      "text/plain": [
       "{'Charles': [23.4, 'Darwin'],\n",
       " 'Alan': [42.5, 'Turing'],\n",
       " 'John': [25.9, 'Smith'],\n",
       " 'Ichiro': [40.2, 'Suzuki'],\n",
       " 'Masa': [31.2, 'Tanaka']}"
      ]
     },
     "execution_count": 3,
     "metadata": {},
     "output_type": "execute_result"
    }
   ],
   "source": [
    "people = {\"Charles\": [23.4, \"Darwin\"], \"Alan\": [42.5, \"Turing\"], \"John\": [25.9, \"Smith\"], \"Ichiro\": [40.2, \"Suzuki\"], \"Masa\": [31.2, \"Tanaka\"]}\n",
    "people"
   ]
  },
  {
   "cell_type": "code",
   "execution_count": 5,
   "metadata": {},
   "outputs": [
    {
     "data": {
      "text/plain": [
       "[23.4, 42.5, 25.9, 40.2, 31.2]"
      ]
     },
     "execution_count": 5,
     "metadata": {},
     "output_type": "execute_result"
    }
   ],
   "source": [
    "ages = []\n",
    "for person in people.values():\n",
    "    ages.append(person[0])\n",
    "ages"
   ]
  },
  {
   "cell_type": "code",
   "execution_count": 20,
   "metadata": {},
   "outputs": [
    {
     "name": "stdout",
     "output_type": "stream",
     "text": [
      "mean is 32.64.\n",
      "median is 31.2.\n"
     ]
    }
   ],
   "source": [
    "total = 0\n",
    "for age in ages:\n",
    "    total += age\n",
    "mean = total / len(ages)\n",
    "\n",
    "sorted_ages = sorted(ages)\n",
    "if len(sorted_ages) % 2 == 1:\n",
    "    number = int((len(sorted_ages) - 1 ) / 2)\n",
    "    median = sorted_ages[number]\n",
    "else:\n",
    "    number = int(len(sorted_ages) / 2 - 1)\n",
    "    median = (sorted_ages[number] + sorted_ages[number + 1]) / 2\n",
    "\n",
    "print(f'mean is {mean}.')\n",
    "print(f'median is {median}.')\n",
    "\n"
   ]
  },
  {
   "cell_type": "code",
   "execution_count": 12,
   "metadata": {},
   "outputs": [
    {
     "name": "stdout",
     "output_type": "stream",
     "text": [
      "32.64\n",
      "31.2\n"
     ]
    }
   ],
   "source": [
    "print(f'mean is {mean}.')\n",
    "\n",
    "\n",
    "from statistics import mean\n",
    "print(mean(ages))\n",
    "print(median(ages))"
   ]
  },
  {
   "cell_type": "code",
   "execution_count": null,
   "metadata": {},
   "outputs": [],
   "source": []
  }
 ],
 "metadata": {
  "kernelspec": {
   "display_name": "Python 3",
   "language": "python",
   "name": "python3"
  },
  "language_info": {
   "codemirror_mode": {
    "name": "ipython",
    "version": 3
   },
   "file_extension": ".py",
   "mimetype": "text/x-python",
   "name": "python",
   "nbconvert_exporter": "python",
   "pygments_lexer": "ipython3",
   "version": "3.7.7"
  }
 },
 "nbformat": 4,
 "nbformat_minor": 4
}
