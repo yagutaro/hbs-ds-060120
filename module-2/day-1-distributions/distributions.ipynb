{
 "cells": [
  {
   "cell_type": "markdown",
   "metadata": {},
   "source": [
    "# Agenda\n",
    "\n",
    "- Random Variables Definition\n",
    "    \n",
    "- Discrete Random Variables\n",
    "\n",
    "- Probability Mass Functions and Cumulative Mass Functions for Discrete Random Variables\n",
    "\n",
    "- Continuous Random Variables\n",
    "\n",
    "- Probability Density Functions and Cumulative Density Functions for Continuous Random Variables.\n"
   ]
  },
  {
   "cell_type": "markdown",
   "metadata": {},
   "source": [
    "## Random Variables\n",
    "\n",
    "Informally: \"A variable whouse values depend on outcomes of a random phenomenon\"\n",
    "\n",
    "More informally: :) \"A map from a random process's outcomes to numbers\"\"\n",
    "\n",
    "What about formally? Let's see!\n",
    "\n",
    "(You really don't want to do this but it's your choice: [Read definition part from Wikipedia](https://en.wikipedia.org/wiki/Random_variable))\n",
    "\n",
    "### Examples\n",
    "\n",
    "Let's start with a traditional one:\n",
    "\n",
    "__Example:__\n",
    "Experiment: rolling two dice: \n",
    "\n",
    "X -- (This is usually how we denote a random variable.) {Sum of numbers on the dice}\n",
    "\n",
    "Q: what are the possible values of X:\n",
    "\n",
    "__Example:__ \n",
    "\n",
    "Experiment: Tossing a coin \n",
    "\n",
    "X = 15 if it is Head and X =-10 if it is Tails.\n",
    "\n",
    "\n",
    "__Example:__ \n",
    "\n",
    "Experiment: Choosing a random person from Harvard Yard\n",
    "\n",
    "Y: This person's exact height in meters. \n",
    "\n",
    "Q: What are the possible values that Y can take?\n",
    "\n",
    "__Example:__ \n",
    "\n",
    "Experiment: Pick a random point from the unit square.\n",
    "\n",
    "Z: The x-coordinate of the point\n",
    "\n",
    "Q: What are the possible values that Z-can take?\n"
   ]
  },
  {
   "cell_type": "markdown",
   "metadata": {},
   "source": [
    "Now let's discuss the random variables in more concrete setting."
   ]
  },
  {
   "cell_type": "code",
   "execution_count": 7,
   "metadata": {},
   "outputs": [],
   "source": [
    "import itertools\n",
    "import numpy as np\n",
    "\n",
    "# let's create a deck of cards\n",
    "suits = ['diamonds', 'clubs', 'hearts', 'spades']\n",
    "\n",
    "runs = ['A', '2', '3', '4', '5', '6', '7', '8', '9', '10', 'J', 'Q', 'K']\n",
    "\n",
    "cards = list(itertools.product(suits, runs))\n",
    "\n",
    "# Find all possible 2 cards\n",
    "# Combinations\n",
    "\n",
    "\n",
    "sample_space = list(itertools.combinations(cards, 2))\n",
    "sample_space2 = list(itertools.product(cards, cards))"
   ]
  },
  {
   "cell_type": "code",
   "execution_count": 8,
   "metadata": {},
   "outputs": [
    {
     "data": {
      "text/plain": [
       "[('diamonds', 'A'),\n",
       " ('diamonds', '2'),\n",
       " ('diamonds', '3'),\n",
       " ('diamonds', '4'),\n",
       " ('diamonds', '5'),\n",
       " ('diamonds', '6'),\n",
       " ('diamonds', '7'),\n",
       " ('diamonds', '8'),\n",
       " ('diamonds', '9'),\n",
       " ('diamonds', '10')]"
      ]
     },
     "execution_count": 8,
     "metadata": {},
     "output_type": "execute_result"
    }
   ],
   "source": [
    "cards[:10]"
   ]
  },
  {
   "cell_type": "code",
   "execution_count": 9,
   "metadata": {},
   "outputs": [
    {
     "data": {
      "text/plain": [
       "[(('diamonds', 'A'), ('diamonds', '2')),\n",
       " (('diamonds', 'A'), ('diamonds', '3')),\n",
       " (('diamonds', 'A'), ('diamonds', '4')),\n",
       " (('diamonds', 'A'), ('diamonds', '5')),\n",
       " (('diamonds', 'A'), ('diamonds', '6')),\n",
       " (('diamonds', 'A'), ('diamonds', '7')),\n",
       " (('diamonds', 'A'), ('diamonds', '8')),\n",
       " (('diamonds', 'A'), ('diamonds', '9')),\n",
       " (('diamonds', 'A'), ('diamonds', '10')),\n",
       " (('diamonds', 'A'), ('diamonds', 'J'))]"
      ]
     },
     "execution_count": 9,
     "metadata": {},
     "output_type": "execute_result"
    }
   ],
   "source": [
    "sample_space[:10]"
   ]
  },
  {
   "cell_type": "code",
   "execution_count": 10,
   "metadata": {},
   "outputs": [
    {
     "data": {
      "text/plain": [
       "[(('diamonds', 'A'), ('diamonds', 'A')),\n",
       " (('diamonds', 'A'), ('diamonds', '2')),\n",
       " (('diamonds', 'A'), ('diamonds', '3')),\n",
       " (('diamonds', 'A'), ('diamonds', '4')),\n",
       " (('diamonds', 'A'), ('diamonds', '5')),\n",
       " (('diamonds', 'A'), ('diamonds', '6')),\n",
       " (('diamonds', 'A'), ('diamonds', '7')),\n",
       " (('diamonds', 'A'), ('diamonds', '8')),\n",
       " (('diamonds', 'A'), ('diamonds', '9')),\n",
       " (('diamonds', 'A'), ('diamonds', '10'))]"
      ]
     },
     "execution_count": 10,
     "metadata": {},
     "output_type": "execute_result"
    }
   ],
   "source": [
    "sample_space2[:10]"
   ]
  },
  {
   "cell_type": "markdown",
   "metadata": {},
   "source": [
    "Let's us define a function $X: S \\to \\mathbb{N}$ on this sample space such that when X(card1, card2) = card1 + card2. \n",
    "\n",
    "(J = 11, Q = 12, K=13, A = 1)\n",
    "\n",
    "Let's write this function in code:"
   ]
  },
  {
   "cell_type": "code",
   "execution_count": 12,
   "metadata": {},
   "outputs": [],
   "source": [
    "royal_num = {'A': 1, 'J': 11, 'Q': 12, 'K': 13}\n",
    "\n",
    "def random_variable(two_cards):\n",
    "    num1 = 0\n",
    "    num2 = 0\n",
    "    card1 = two_cards[0]\n",
    "    card2 = two_cards[1]\n",
    "    if card1[1] in royal_num.keys():\n",
    "        num1 = royal_num[card1[1]]\n",
    "    else:\n",
    "        num1 = int(card1[1])\n",
    "    if card2[1] in royal_num.keys():\n",
    "        num2 = royal_num[card2[1]]\n",
    "    else:\n",
    "        num2 = int(card2[1])\n",
    "    return num1 + num2\n",
    "\n",
    "\n"
   ]
  },
  {
   "cell_type": "code",
   "execution_count": 13,
   "metadata": {},
   "outputs": [
    {
     "name": "stdout",
     "output_type": "stream",
     "text": [
      "(('diamonds', '2'), ('clubs', '10'))\n"
     ]
    },
    {
     "data": {
      "text/plain": [
       "12"
      ]
     },
     "execution_count": 13,
     "metadata": {},
     "output_type": "execute_result"
    }
   ],
   "source": [
    "card_index = np.random.choice(range(1326), 1)[0]\n",
    "print(sample_space[card_index])\n",
    "random_variable(sample_space[card_index])"
   ]
  },
  {
   "cell_type": "markdown",
   "metadata": {},
   "source": [
    "### Discrete and Continuous Random Variables\n",
    "\n",
    "- Note that in the examples above we can count possible values for some random variables. These random variables are called __discrete random variables__.\n",
    "\n",
    "- In other cases, it is not possible to be able to count exact possible values of a random variables. These are called __continuous random variables__. We can also say that continuous random variables can take any value in a range.\n",
    "\n",
    "\n",
    "Q: Let's go back and decide which random variables are continuous and which ones are discrete.\n",
    "\n",
    "## Distributions\n",
    "\n",
    "Why do we study random variables?\n",
    "\n",
    "- Random variables most of the time more relevant to the problem we would like to solve. \n",
    "\n",
    "Q: What is the probability distribution of a random variable?\n",
    "\n",
    "A: It is a function from a random variables possible values to numbers again. \n",
    "\n",
    "- Exact definition of a distribution changes slightly depending on whether we are working with a discrete random variable or a continuous one. \n",
    "\n",
    "### Probability Mass Function\n",
    "\n",
    "[For formal discussion](https://www.itl.nist.gov/div898/handbook/eda/section3/eda361.htm)\n",
    "\n",
    "The probability mass function is the function which describes the probability associated with the random variable x. This function is named p(x) or P(X=x) to avoid confusion. P(X=x) corresponds to the probability that the random variable x take the value X \n",
    "\n",
    "### Simulation"
   ]
  },
  {
   "cell_type": "code",
   "execution_count": 15,
   "metadata": {},
   "outputs": [],
   "source": [
    "all_values = [random_variable(two_cards) for two_cards in sample_space]"
   ]
  },
  {
   "cell_type": "code",
   "execution_count": 16,
   "metadata": {},
   "outputs": [
    {
     "data": {
      "image/png": "[encoded data removed]",
      "text/plain": [
       "<Figure size 432x288 with 1 Axes>"
      ]
     },
     "metadata": {
      "needs_background": "light"
     },
     "output_type": "display_data"
    }
   ],
   "source": [
    "# plotting the frequencies\n",
    "\n",
    "import matplotlib.pyplot as plt\n",
    "%matplotlib inline\n",
    "n, bins, patches = plt.hist(x=all_values, bins=range(2, 28), color='#0504aa',\n",
    "                            alpha=0.5, rwidth=0.8, align='left')\n",
    "plt.grid(axis='y', alpha=0.2)\n",
    "plt.xlabel('Value')\n",
    "plt.ylabel('Frequency')\n",
    "plt.xticks(range(2, 28, 2))\n",
    "plt.title('Frequencies of the values of random variables')\n",
    "maxfreq = n.max()\n",
    "# Set a clean upper y-axis limit.\n",
    "plt.ylim(ymax=np.ceil(maxfreq / 10) * 10 if maxfreq % 10 else maxfreq + 10)\n",
    "\n",
    "plt.show()"
   ]
  },
  {
   "cell_type": "code",
   "execution_count": 17,
   "metadata": {},
   "outputs": [],
   "source": [
    "import collections\n",
    "counter = collections.Counter(all_values)"
   ]
  },
  {
   "cell_type": "code",
   "execution_count": 18,
   "metadata": {},
   "outputs": [
    {
     "data": {
      "text/plain": [
       "Counter({3: 16,\n",
       "         4: 22,\n",
       "         5: 32,\n",
       "         6: 38,\n",
       "         7: 48,\n",
       "         8: 54,\n",
       "         9: 64,\n",
       "         10: 70,\n",
       "         11: 80,\n",
       "         12: 86,\n",
       "         13: 96,\n",
       "         14: 102,\n",
       "         2: 6,\n",
       "         15: 96,\n",
       "         16: 86,\n",
       "         17: 80,\n",
       "         18: 70,\n",
       "         19: 64,\n",
       "         20: 54,\n",
       "         21: 48,\n",
       "         22: 38,\n",
       "         23: 32,\n",
       "         24: 22,\n",
       "         25: 16,\n",
       "         26: 6})"
      ]
     },
     "execution_count": 18,
     "metadata": {},
     "output_type": "execute_result"
    }
   ],
   "source": [
    "counter"
   ]
  },
  {
   "cell_type": "code",
   "execution_count": 19,
   "metadata": {},
   "outputs": [
    {
     "name": "stdout",
     "output_type": "stream",
     "text": [
      "dict_keys([3, 4, 5, 6, 7, 8, 9, 10, 11, 12, 13, 14, 2, 15, 16, 17, 18, 19, 20, 21, 22, 23, 24, 25, 26]) [0.0121, 0.0166, 0.0241, 0.0287, 0.0362, 0.0407, 0.0483, 0.0528, 0.0603, 0.0649, 0.0724, 0.0769, 0.0045, 0.0724, 0.0649, 0.0603, 0.0528, 0.0483, 0.0407, 0.0362, 0.0287, 0.0241, 0.0166, 0.0121, 0.0045]\n"
     ]
    }
   ],
   "source": [
    "# Convert frequency to probability - divide each frequency value by total number of values\n",
    "pmf = []\n",
    "for key, val in counter.items():\n",
    "    pmf.append(round(val / len(all_values), 4))\n",
    "\n",
    "print(counter.keys(), pmf)"
   ]
  },
  {
   "cell_type": "code",
   "execution_count": 20,
   "metadata": {},
   "outputs": [
    {
     "data": {
      "text/plain": [
       "Counter({3: 16,\n",
       "         4: 22,\n",
       "         5: 32,\n",
       "         6: 38,\n",
       "         7: 48,\n",
       "         8: 54,\n",
       "         9: 64,\n",
       "         10: 70,\n",
       "         11: 80,\n",
       "         12: 86,\n",
       "         13: 96,\n",
       "         14: 102,\n",
       "         2: 6,\n",
       "         15: 96,\n",
       "         16: 86,\n",
       "         17: 80,\n",
       "         18: 70,\n",
       "         19: 64,\n",
       "         20: 54,\n",
       "         21: 48,\n",
       "         22: 38,\n",
       "         23: 32,\n",
       "         24: 22,\n",
       "         25: 16,\n",
       "         26: 6})"
      ]
     },
     "execution_count": 20,
     "metadata": {},
     "output_type": "execute_result"
    }
   ],
   "source": [
    "counter"
   ]
  },
  {
   "cell_type": "code",
   "execution_count": 21,
   "metadata": {
    "scrolled": true
   },
   "outputs": [
    {
     "data": {
      "image/png": "[encoded data removed]",
      "text/plain": [
       "<Figure size 432x288 with 1 Axes>"
      ]
     },
     "metadata": {
      "needs_background": "light"
     },
     "output_type": "display_data"
    }
   ],
   "source": [
    "# we can plot the probability mass function\n",
    "plt.bar(counter.keys(), pmf)\n",
    "\n",
    "plt.xticks(range(1, 27, 2))\n",
    "\n",
    "plt.show()"
   ]
  },
  {
   "cell_type": "markdown",
   "metadata": {},
   "source": [
    "### Cumulative Mass Function\n",
    "\n",
    "\n",
    "The CDF is a function of $x$ just like a PMF or a PDF, where $x$ is any value that can possibly appear in a given distribution. To calculate the $CDF(x)$ for any value of $x$, we compute the proportion of values in the distribution less than or equal to $x$ as follows:\n",
    "\n",
    "$$\\large F(x) = P(X \\leq x)$$\n",
    "\n",
    "> The Cumulative Distribution Function, CDF, gives the probability that the variable $X$ is less than or equal to a certain possible value $x$. \n",
    "\n"
   ]
  },
  {
   "cell_type": "code",
   "execution_count": 26,
   "metadata": {},
   "outputs": [
    {
     "data": {
      "text/plain": [
       "(array([ 2,  3,  4,  5,  6,  7,  8,  9, 10, 11, 12, 13, 14, 15, 16, 17, 18,\n",
       "        19, 20, 21, 22, 23, 24, 25, 26]),\n",
       " array([  6,  16,  22,  32,  38,  48,  54,  64,  70,  80,  86,  96, 102,\n",
       "         96,  86,  80,  70,  64,  54,  48,  38,  32,  22,  16,   6],\n",
       "       dtype=int64))"
      ]
     },
     "execution_count": 26,
     "metadata": {},
     "output_type": "execute_result"
    }
   ],
   "source": [
    "x = np.unique(all_values, return_counts=True)\n",
    "x"
   ]
  },
  {
   "cell_type": "code",
   "execution_count": null,
   "metadata": {},
   "outputs": [],
   "source": [
    "x = np.unique(all_values, return_counts=True)[0]\n",
    "y = np.cumsum(np.unique(all_values, return_counts=True)[1])/len(all_values)\n",
    "plt.plot(x, y, marker='.', linestyle='none')\n",
    "plt.show()"
   ]
  },
  {
   "cell_type": "markdown",
   "metadata": {},
   "source": [
    "### Further Discussions\n",
    "\n",
    "\n",
    "- Please read the corresponding material form learn.co. Especially the definitions of expected values and variance.\n",
    "\n",
    "- Note that one of the most important discrete distribution is Bernoulli and Binomial distributions. We will discuss these in more details but make sure that you read the corresponding material in learn.co."
   ]
  },
  {
   "cell_type": "markdown",
   "metadata": {},
   "source": [
    "## Probability Density Functions\n",
    "\n",
    "- First observation: For a cont. random variable the probability of getting an exact value is always zero. (Bummer!!)\n",
    "\n",
    "- In that sense, instead of exact probabilities we will talk about density of the random variables. \n",
    "\n",
    "\n",
    "- A Probability Density Function (PDF) helps identify the regions in the distribution where observations are more likely to occur, in other words, where the observation occurrence is more dense.\n",
    "\n",
    "\n",
    "<img src=\"img/probability_for_continuous_rv.png\" width=\"650\">"
   ]
  },
  {
   "cell_type": "markdown",
   "metadata": {},
   "source": [
    "- In this case, probability is found by the following formula: \n",
    "\n",
    "$$\\large P(82 \\leq X \\leq 85) = \\int_{82}^{85} f_x(x) dx \\geq 0 $$\n",
    "\n",
    "- Let's consider the example where the random variable is the exact measure of height of a randomly chosen person from Lafayatte Park.\n",
    "\n",
    "[Normal Distribution](https://www.mathsisfun.com/data/standard-normal-distribution.html)\n",
    "\n",
    "[Normal Distribution App](https://homepage.divms.uiowa.edu/~mbognar/applets/normal.html)\n",
    "\n",
    "[Standardization](https://www.intmath.com/counting-probability/normal-distribution-graph-interactive.php)\n",
    "\n",
    "[Chi-Square App](https://homepage.divms.uiowa.edu/~mbognar/applets/chisq.html)\n"
   ]
  },
  {
   "cell_type": "code",
   "execution_count": 27,
   "metadata": {},
   "outputs": [],
   "source": [
    "from scipy import stats"
   ]
  },
  {
   "cell_type": "code",
   "execution_count": 28,
   "metadata": {},
   "outputs": [],
   "source": [
    "dist = stats.norm(loc=0, scale=1)"
   ]
  },
  {
   "cell_type": "code",
   "execution_count": 31,
   "metadata": {},
   "outputs": [
    {
     "data": {
      "text/plain": [
       "0.8413447460685429"
      ]
     },
     "execution_count": 31,
     "metadata": {},
     "output_type": "execute_result"
    }
   ],
   "source": [
    "dist.cdf(1)"
   ]
  },
  {
   "cell_type": "code",
   "execution_count": null,
   "metadata": {},
   "outputs": [],
   "source": []
  }
 ],
 "metadata": {
  "kernelspec": {
   "display_name": "Python 3",
   "language": "python",
   "name": "python3"
  },
  "language_info": {
   "codemirror_mode": {
    "name": "ipython",
    "version": 3
   },
   "file_extension": ".py",
   "mimetype": "text/x-python",
   "name": "python",
   "nbconvert_exporter": "python",
   "pygments_lexer": "ipython3",
   "version": "3.7.7"
  },
  "toc": {
   "base_numbering": 1,
   "nav_menu": {},
   "number_sections": true,
   "sideBar": true,
   "skip_h1_title": false,
   "title_cell": "Table of Contents",
   "title_sidebar": "Contents",
   "toc_cell": false,
   "toc_position": {
    "height": "calc(100% - 180px)",
    "left": "10px",
    "top": "150px",
    "width": "165px"
   },
   "toc_section_display": true,
   "toc_window_display": false
  }
 },
 "nbformat": 4,
 "nbformat_minor": 2
}
