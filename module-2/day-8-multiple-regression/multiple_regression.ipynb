{
 "cells": [
  {
   "cell_type": "markdown",
   "metadata": {},
   "source": [
    "# Multiple Linear Regression"
   ]
  },
  {
   "cell_type": "markdown",
   "metadata": {},
   "source": [
    "## Objectives\n",
    "\n",
    "- Assessing the accuracy of the coefficients \n",
    "- Feature Selection\n",
    "- Understanding the accuracy of the model\n",
    "- qq-plots and residuals"
   ]
  },
  {
   "cell_type": "code",
   "execution_count": null,
   "metadata": {},
   "outputs": [],
   "source": [
    "import matplotlib.pyplot as plt\n",
    "%matplotlib inline\n",
    "import pandas as pd\n",
    "import numpy as np\n",
    "import seaborn as sns"
   ]
  },
  {
   "cell_type": "code",
   "execution_count": null,
   "metadata": {},
   "outputs": [],
   "source": [
    "df = pd.read_csv('data/Advertising.csv', index_col=0)\n",
    "\n",
    "df.head()"
   ]
  },
  {
   "cell_type": "code",
   "execution_count": null,
   "metadata": {},
   "outputs": [],
   "source": [
    "import seaborn as sns\n",
    "sns.set(style=\"ticks\")\n",
    "\n",
    "sns.pairplot(df)\n",
    "plt.show()"
   ]
  },
  {
   "cell_type": "markdown",
   "metadata": {},
   "source": [
    "Recall that yesterday we only used one variable X = 'TV' to be able to under y= 'Sales'. Today we will use all of the variables given in the dataset."
   ]
  },
  {
   "cell_type": "markdown",
   "metadata": {},
   "source": [
    "__Your Turn__\n",
    "\n",
    "- Before we move to multiple linear regression, let's practice yesterday's skills a little bit more.\n",
    "\n",
    "- This time use X = 'Newspaper' variable and fit a simple (one variable) linear regression to y= 'Sales'\n",
    "\n",
    "- Use statsmodels package again."
   ]
  },
  {
   "cell_type": "code",
   "execution_count": null,
   "metadata": {},
   "outputs": [],
   "source": [
    "# First define X and y variables\n",
    "\n",
    "X = None\n",
    "\n",
    "y = None"
   ]
  },
  {
   "cell_type": "code",
   "execution_count": null,
   "metadata": {},
   "outputs": [],
   "source": [
    "# Import statsmodel API -- recall that we call it 'sm'\n",
    "import statsmodels.api as sm\n",
    "\n",
    "\n",
    "# Now we can add constants to X\n",
    "# recall that sm has an add_constant method\n",
    "Xconst = None"
   ]
  },
  {
   "cell_type": "code",
   "execution_count": null,
   "metadata": {},
   "outputs": [],
   "source": [
    "# Now we can instantiate OLS class in sm.\n",
    "# Don't forget to instantiate OLS with both X and y\n",
    "model = None\n",
    "\n",
    "# fit the model by calling fit() method.\n",
    "\n",
    "fitted_model = None\n",
    "\n",
    "# Let's check the model with summary method"
   ]
  },
  {
   "cell_type": "markdown",
   "metadata": {},
   "source": [
    "## Checking Correlation between Newspaper and Sales\n",
    "\n",
    "We can check correlation between two variables in a couple of different ways depending on the data types of the variables."
   ]
  },
  {
   "cell_type": "code",
   "execution_count": null,
   "metadata": {},
   "outputs": [],
   "source": [
    "## Correlation with columns of dataframes\n",
    "\n",
    "df.corr()"
   ]
  },
  {
   "cell_type": "markdown",
   "metadata": {},
   "source": [
    "Note as as we discussed yesterday (__only in one variable__) $R^{2}$ = $(\\text{pearson-r})^{2}$"
   ]
  },
  {
   "cell_type": "code",
   "execution_count": null,
   "metadata": {},
   "outputs": [],
   "source": [
    "## check the R_squared from the summary\n",
    "\n",
    "0.228299**2"
   ]
  },
  {
   "cell_type": "code",
   "execution_count": null,
   "metadata": {},
   "outputs": [],
   "source": [
    "# let's plot df\n",
    "sns.scatterplot(df['Newspaper'], df['Sales'])\n",
    "\n",
    "plt.xlabel('Newspaper ad budget')\n",
    "\n",
    "plt.ylabel('Sales')\n",
    "plt.show()"
   ]
  },
  {
   "cell_type": "code",
   "execution_count": null,
   "metadata": {},
   "outputs": [],
   "source": [
    "# seaborn has a very hand method lmplot for regression visualizations\n",
    "sns.lmplot(x='Newspaper', y='Sales', data=df, ci=0)"
   ]
  },
  {
   "cell_type": "markdown",
   "metadata": {},
   "source": [
    "# Multiple Linear Regression\n",
    "\n",
    "- When we have more than one variable our linear model will look like as:\n",
    "\n",
    "__MODEL__\n",
    "\n",
    "$$ Y = \\beta_{0} + \\beta_{1} X_{1} + \\beta_{2}X_{2} + \\cdots \\beta_{p}X_{p} + \\epsilon$$\n",
    "\n",
    "\n",
    "__Notation:__\n",
    "\n",
    "- $X_{1}, \\cdots, X_{p}$ :  Columns of the dataset (or features or predictors or independent variables)\n",
    "\n",
    "- $Y$ : target column in the dataset (or target variable or dependent variable)\n",
    "\n",
    "- $\\epsilon$ : Irreducible error.\n",
    "\n",
    "__Goal:__ Given a dataset $X$ (in our case whole advertising dataset) we would like to find estimates $\\hat{\\beta}_{1}, \\cdots, \\hat{\\beta}_{p}$ from this data (sample) for the (population) parameters $\\beta_{0}, \\cdots, \\beta_{p}$\n",
    "\n",
    "- Once $\\hat{\\beta}_{1}, \\cdots, \\hat{\\beta}_{p}$  are given, then we can make predictions for new observations:\n",
    "\n",
    "$$ \\hat{y} = \\hat{\\beta}_{0} + \\hat{\\beta}_{1} x_{1} +\\hat{\\beta}_{2}x_{2} + \\cdots \\hat{\\beta}_{p}x_{p} $$\n",
    "\n",
    "for a given observation (sample or row) $x = [x_{1}, \\cdots, x_{p}]$\n",
    "\n",
    "- Cost function (objective function) become:\n",
    "\n",
    "\\begin{align}\n",
    "RSS &= \\sum\\limits_{i=1}^{n} (y_{i} - \\hat{y}_{i})^{2} \\\\\n",
    "&= \\sum\\limits_{i=1}^{n} (y_{i} - \\hat{\\beta}_{0} - \\hat{\\beta}_{1} x_{i1}  - \\hat{\\beta}_{2}x_{i2} - \\cdots  - \\hat{\\beta}_{p}x_{ip})^{2}\n",
    "\\end{align}"
   ]
  },
  {
   "cell_type": "markdown",
   "metadata": {},
   "source": [
    "Fitting a multiple linear regression with statsmodels API is as easy as simple linear regression"
   ]
  },
  {
   "cell_type": "code",
   "execution_count": null,
   "metadata": {},
   "outputs": [],
   "source": [
    "# This time note that we are using all of the independent variables\n",
    "# 'TV', 'Newspaper', 'Radio'\n",
    "X = df.drop(columns=['Sales'])\n",
    "\n",
    "# Target variable (Dependent Variable) is still 'Sales' column\n",
    "y = df.Sales\n",
    "\n",
    "# We need to add constants for the intercept term\n",
    "Xconst = sm.add_constant(X)\n",
    "\n",
    "# Note that the rest is exactly the same with the simple linear regression\n",
    "model = sm.OLS(y, Xconst, hasconst=True)\n",
    "multiple_model_fitted = model.fit()\n",
    "multiple_model_fitted.summary()"
   ]
  },
  {
   "cell_type": "markdown",
   "metadata": {},
   "source": [
    "__Q1:__ Why do we initially get a statistically significant result for the relation between Sales and Newspaper but in the multiple case model tell us that relation is not significant?"
   ]
  },
  {
   "cell_type": "code",
   "execution_count": null,
   "metadata": {},
   "outputs": [],
   "source": [
    "## note that There is a correlation between Newspaper and Radio\n",
    "## This reveals a tendency to spend more on newspaper advertising \n",
    "## in markets where more is spent on radio advertising. \n",
    "\n",
    "df.corr()"
   ]
  },
  {
   "cell_type": "markdown",
   "metadata": {},
   "source": [
    "__Question:__ How do we choose important variables\n",
    "\n",
    "- Straight forward selection: try all possible combination with variables and use AIC, BIC etc to choose best.\n",
    "\n",
    "- Forward selection:\n",
    "\n",
    "    1. Start with null model\n",
    "    2. Then one linear model for each separate variables\n",
    "    3. Pick the variable with lowest RSS\n",
    "    4. We then add to that model the variable that results variable selection \n",
    "    in the lowest RSS for the new two-variable model.\n",
    "    5. Repeat this until a stoppage criteria is achieved.\n",
    "- Backward selection\n",
    "\n",
    "- Mixed Selection"
   ]
  },
  {
   "cell_type": "markdown",
   "metadata": {},
   "source": [
    "## Inference vs Prediction\n",
    "\n",
    "- Here let's talk a little bit about inference vs prediction"
   ]
  },
  {
   "cell_type": "markdown",
   "metadata": {},
   "source": [
    "## Diagnosis: Residuals and QQ-plots"
   ]
  },
  {
   "cell_type": "code",
   "execution_count": null,
   "metadata": {},
   "outputs": [],
   "source": [
    "# let's see the results one more time\n",
    "features = ['TV', 'Newspaper', 'Radio']\n",
    "X = df[features]\n",
    "y = df.Sales\n",
    "X = sm.add_constant(X)\n",
    "mod = sm.OLS(y, X, hasconst=True)\n",
    "res = mod.fit()\n",
    "res.summary()"
   ]
  },
  {
   "cell_type": "markdown",
   "metadata": {},
   "source": [
    "__Your Turn!__\n",
    "\n",
    "Recall that we initially assumed that the errors should be normally distributed with mean zero and fixed variance. \n",
    "\n",
    "__Q:__ Find the residuals and check their distribution."
   ]
  },
  {
   "cell_type": "code",
   "execution_count": null,
   "metadata": {},
   "outputs": [],
   "source": [
    "# %load -r 24-26 supplement.py\n",
    "plt.hist(res.resid)"
   ]
  },
  {
   "cell_type": "code",
   "execution_count": null,
   "metadata": {},
   "outputs": [],
   "source": [
    "sample_1 = np.random.normal(loc=0, scale=5, size=30)\n",
    "np.quantile(sample_1, q=0.01)"
   ]
  },
  {
   "cell_type": "code",
   "execution_count": null,
   "metadata": {},
   "outputs": [],
   "source": []
  },
  {
   "cell_type": "code",
   "execution_count": null,
   "metadata": {},
   "outputs": [],
   "source": [
    "import scipy.stats as stats\n",
    "stats.norm.ppf(loc = 0, scale = 1, q=0.01)\n",
    "np.quantile(sample_1, q= 0.02)"
   ]
  },
  {
   "cell_type": "code",
   "execution_count": null,
   "metadata": {},
   "outputs": [],
   "source": [
    "x_list = []\n",
    "y_list = []\n",
    "for q in np.linspace(0.001,1, 100):\n",
    "        x_list.append(np.quantile(sample_1, q = q))\n",
    "        y_list.append(stats.norm.ppf(loc = 0, scale = 1, q=q))"
   ]
  },
  {
   "cell_type": "code",
   "execution_count": null,
   "metadata": {},
   "outputs": [],
   "source": [
    "import matplotlib.pyplot as plt"
   ]
  },
  {
   "cell_type": "code",
   "execution_count": null,
   "metadata": {},
   "outputs": [],
   "source": [
    "plt.scatter(x_list, y_list)"
   ]
  },
  {
   "cell_type": "code",
   "execution_count": null,
   "metadata": {},
   "outputs": [],
   "source": [
    "stats.normaltest(residuals)"
   ]
  },
  {
   "cell_type": "code",
   "execution_count": null,
   "metadata": {},
   "outputs": [],
   "source": [
    "fig = sm.qqplot(residuals, line = 'r')\n",
    "plt.show()"
   ]
  },
  {
   "cell_type": "code",
   "execution_count": null,
   "metadata": {
    "scrolled": true
   },
   "outputs": [],
   "source": [
    "y_pred = res.predict(X)\n",
    "plt.scatter(y_pred, residuals)\n",
    "plt.axhline(y=0, color = 'red', label = '0')\n",
    "\n",
    "plt.xlabel('predicted values')\n",
    "\n",
    "plt.ylabel('residuals')\n",
    "\n",
    "plt.tight_layout()"
   ]
  },
  {
   "cell_type": "markdown",
   "metadata": {},
   "source": [
    "- Correlation with numpy\n",
    "\n",
    "[Documentation](https://docs.scipy.org/doc/scipy-0.14.0/reference/generated/scipy.stats.pearsonr.html)"
   ]
  },
  {
   "cell_type": "code",
   "execution_count": null,
   "metadata": {},
   "outputs": [],
   "source": [
    "# for numpy ndarrays\n",
    "from scipy.stats.stats import pearsonr\n",
    "X = df.Newspaper.values\n",
    "y = df.Sales.values\n",
    "\n",
    "pearsonr(X, y)\n",
    "\n",
    "# The first one is the pearson-r coefficient and the other one is the p-value related to this coefficient."
   ]
  },
  {
   "cell_type": "markdown",
   "metadata": {},
   "source": [
    "## Using sklearn\n",
    "Fit a multiple linear regression model to this dataset:\n",
    "\n",
    "First try to solve this own your own - then you can check the answer below.\n",
    "\n",
    "[Sklearn Docs](https://scikit-learn.org/stable/modules/generated/sklearn.linear_model.LinearRegression.html)"
   ]
  },
  {
   "cell_type": "markdown",
   "metadata": {},
   "source": [
    "- Questions related to the F-statistics"
   ]
  },
  {
   "cell_type": "markdown",
   "metadata": {},
   "source": [
    "### Additional Reading\n",
    "[page 75 of ISLR](https://faculty.marshall.usc.edu/gareth-james/ISL/)\n",
    "\n",
    "[check F-distribution](https://en.wikipedia.org/wiki/F-distribution#/media/File:F-distribution_pdf.svg)"
   ]
  },
  {
   "cell_type": "code",
   "execution_count": null,
   "metadata": {},
   "outputs": [],
   "source": []
  }
 ],
 "metadata": {
  "kernelspec": {
   "display_name": "Python 3",
   "language": "python",
   "name": "python3"
  },
  "language_info": {
   "codemirror_mode": {
    "name": "ipython",
    "version": 3
   },
   "file_extension": ".py",
   "mimetype": "text/x-python",
   "name": "python",
   "nbconvert_exporter": "python",
   "pygments_lexer": "ipython3",
   "version": "3.7.4"
  },
  "toc": {
   "base_numbering": 1,
   "nav_menu": {},
   "number_sections": true,
   "sideBar": true,
   "skip_h1_title": false,
   "title_cell": "Table of Contents",
   "title_sidebar": "Contents",
   "toc_cell": false,
   "toc_position": {},
   "toc_section_display": true,
   "toc_window_display": false
  }
 },
 "nbformat": 4,
 "nbformat_minor": 2
}
