{
 "cells": [
  {
   "cell_type": "markdown",
   "metadata": {},
   "source": [
    "# Introduction to Simple Linear Regression: Evaluation\n",
    "\n",
    "## Learning Objectives and outcomes\n",
    "\n",
    "- $R^{2}$ - score for a linear regression\n",
    "\n",
    "- Discussion of statsmodel output for a linear regression.\n",
    "\n",
    "- Assumptions of linear regression\n",
    "\n",
    "- Interpretting significance and p_values."
   ]
  },
  {
   "cell_type": "code",
   "execution_count": 38,
   "metadata": {},
   "outputs": [
    {
     "name": "stdout",
     "output_type": "stream",
     "text": [
      "(200, 2)\n"
     ]
    },
    {
     "data": {
      "text/html": [
       "<div>\n",
       "<style scoped>\n",
       "    .dataframe tbody tr th:only-of-type {\n",
       "        vertical-align: middle;\n",
       "    }\n",
       "\n",
       "    .dataframe tbody tr th {\n",
       "        vertical-align: top;\n",
       "    }\n",
       "\n",
       "    .dataframe thead th {\n",
       "        text-align: right;\n",
       "    }\n",
       "</style>\n",
       "<table border=\"1\" class=\"dataframe\">\n",
       "  <thead>\n",
       "    <tr style=\"text-align: right;\">\n",
       "      <th></th>\n",
       "      <th>TV</th>\n",
       "      <th>Sales</th>\n",
       "    </tr>\n",
       "  </thead>\n",
       "  <tbody>\n",
       "    <tr>\n",
       "      <td>1</td>\n",
       "      <td>230.1</td>\n",
       "      <td>22.1</td>\n",
       "    </tr>\n",
       "    <tr>\n",
       "      <td>2</td>\n",
       "      <td>44.5</td>\n",
       "      <td>10.4</td>\n",
       "    </tr>\n",
       "    <tr>\n",
       "      <td>3</td>\n",
       "      <td>17.2</td>\n",
       "      <td>9.3</td>\n",
       "    </tr>\n",
       "    <tr>\n",
       "      <td>4</td>\n",
       "      <td>151.5</td>\n",
       "      <td>18.5</td>\n",
       "    </tr>\n",
       "    <tr>\n",
       "      <td>5</td>\n",
       "      <td>180.8</td>\n",
       "      <td>12.9</td>\n",
       "    </tr>\n",
       "  </tbody>\n",
       "</table>\n",
       "</div>"
      ],
      "text/plain": [
       "      TV  Sales\n",
       "1  230.1   22.1\n",
       "2   44.5   10.4\n",
       "3   17.2    9.3\n",
       "4  151.5   18.5\n",
       "5  180.8   12.9"
      ]
     },
     "execution_count": 38,
     "metadata": {},
     "output_type": "execute_result"
    }
   ],
   "source": [
    "import pandas as pd\n",
    "import numpy as np\n",
    "import matplotlib.pyplot as plt\n",
    "%matplotlib inline\n",
    "\n",
    "# read data to a dataframe\n",
    "data = pd.read_csv('data/Advertising.csv', index_col=0)[['TV', 'Sales']]\n",
    "\n",
    "print(data.shape)\n",
    "data.head()"
   ]
  },
  {
   "cell_type": "markdown",
   "metadata": {},
   "source": [
    "## (From this morning) Linear Regression with `statsmodels`\n",
    "\n",
    "There is another library that we can use for linear models which is `statsmodels`.  `statsmodels` is much more robust than `sklearn` for linear models, but is much less extensible.\n",
    "\n",
    "- [check the documentation](http://www.statsmodels.org/devel/generated/statsmodels.regression.linear_model.OLS.html#statsmodels.regression.linear_model.OLS)\n",
    "\n",
    "- Now let's use statsmodel to fit a linear model to our data."
   ]
  },
  {
   "cell_type": "code",
   "execution_count": 3,
   "metadata": {},
   "outputs": [],
   "source": [
    "import statsmodels.api as sm"
   ]
  },
  {
   "cell_type": "markdown",
   "metadata": {},
   "source": [
    "__Your Turn__\n",
    "\n",
    "- Try to use statsmodel library to fit a line to the advertising dataset."
   ]
  },
  {
   "cell_type": "code",
   "execution_count": 2,
   "metadata": {},
   "outputs": [
    {
     "data": {
      "text/html": [
       "<div>\n",
       "<style scoped>\n",
       "    .dataframe tbody tr th:only-of-type {\n",
       "        vertical-align: middle;\n",
       "    }\n",
       "\n",
       "    .dataframe tbody tr th {\n",
       "        vertical-align: top;\n",
       "    }\n",
       "\n",
       "    .dataframe thead th {\n",
       "        text-align: right;\n",
       "    }\n",
       "</style>\n",
       "<table border=\"1\" class=\"dataframe\">\n",
       "  <thead>\n",
       "    <tr style=\"text-align: right;\">\n",
       "      <th></th>\n",
       "      <th>TV</th>\n",
       "      <th>Sales</th>\n",
       "    </tr>\n",
       "  </thead>\n",
       "  <tbody>\n",
       "    <tr>\n",
       "      <td>1</td>\n",
       "      <td>230.1</td>\n",
       "      <td>22.1</td>\n",
       "    </tr>\n",
       "    <tr>\n",
       "      <td>2</td>\n",
       "      <td>44.5</td>\n",
       "      <td>10.4</td>\n",
       "    </tr>\n",
       "    <tr>\n",
       "      <td>3</td>\n",
       "      <td>17.2</td>\n",
       "      <td>9.3</td>\n",
       "    </tr>\n",
       "    <tr>\n",
       "      <td>4</td>\n",
       "      <td>151.5</td>\n",
       "      <td>18.5</td>\n",
       "    </tr>\n",
       "    <tr>\n",
       "      <td>5</td>\n",
       "      <td>180.8</td>\n",
       "      <td>12.9</td>\n",
       "    </tr>\n",
       "    <tr>\n",
       "      <td>...</td>\n",
       "      <td>...</td>\n",
       "      <td>...</td>\n",
       "    </tr>\n",
       "    <tr>\n",
       "      <td>196</td>\n",
       "      <td>38.2</td>\n",
       "      <td>7.6</td>\n",
       "    </tr>\n",
       "    <tr>\n",
       "      <td>197</td>\n",
       "      <td>94.2</td>\n",
       "      <td>9.7</td>\n",
       "    </tr>\n",
       "    <tr>\n",
       "      <td>198</td>\n",
       "      <td>177.0</td>\n",
       "      <td>12.8</td>\n",
       "    </tr>\n",
       "    <tr>\n",
       "      <td>199</td>\n",
       "      <td>283.6</td>\n",
       "      <td>25.5</td>\n",
       "    </tr>\n",
       "    <tr>\n",
       "      <td>200</td>\n",
       "      <td>232.1</td>\n",
       "      <td>13.4</td>\n",
       "    </tr>\n",
       "  </tbody>\n",
       "</table>\n",
       "<p>200 rows × 2 columns</p>\n",
       "</div>"
      ],
      "text/plain": [
       "        TV  Sales\n",
       "1    230.1   22.1\n",
       "2     44.5   10.4\n",
       "3     17.2    9.3\n",
       "4    151.5   18.5\n",
       "5    180.8   12.9\n",
       "..     ...    ...\n",
       "196   38.2    7.6\n",
       "197   94.2    9.7\n",
       "198  177.0   12.8\n",
       "199  283.6   25.5\n",
       "200  232.1   13.4\n",
       "\n",
       "[200 rows x 2 columns]"
      ]
     },
     "execution_count": 2,
     "metadata": {},
     "output_type": "execute_result"
    }
   ],
   "source": [
    "data"
   ]
  },
  {
   "cell_type": "code",
   "execution_count": 39,
   "metadata": {},
   "outputs": [],
   "source": [
    "X = data[['TV']].values\n",
    "y = data.Sales.values"
   ]
  },
  {
   "cell_type": "code",
   "execution_count": 40,
   "metadata": {},
   "outputs": [
    {
     "data": {
      "text/plain": [
       "(200, 1)"
      ]
     },
     "execution_count": 40,
     "metadata": {},
     "output_type": "execute_result"
    }
   ],
   "source": [
    "X.shape"
   ]
  },
  {
   "cell_type": "code",
   "execution_count": 16,
   "metadata": {},
   "outputs": [],
   "source": [
    "model = sm.OLS(y, X, hasconst=False)"
   ]
  },
  {
   "cell_type": "code",
   "execution_count": 17,
   "metadata": {},
   "outputs": [],
   "source": [
    "results = model.fit()"
   ]
  },
  {
   "cell_type": "code",
   "execution_count": 18,
   "metadata": {},
   "outputs": [
    {
     "data": {
      "text/plain": [
       "array([0.08324961])"
      ]
     },
     "execution_count": 18,
     "metadata": {},
     "output_type": "execute_result"
    }
   ],
   "source": [
    "results.params"
   ]
  },
  {
   "cell_type": "code",
   "execution_count": 22,
   "metadata": {},
   "outputs": [
    {
     "data": {
      "text/plain": [
       "array([12.48744131,  0.16649922,  0.24974883])"
      ]
     },
     "execution_count": 22,
     "metadata": {},
     "output_type": "execute_result"
    }
   ],
   "source": [
    "results.predict([150, 2, 3])"
   ]
  },
  {
   "cell_type": "code",
   "execution_count": 24,
   "metadata": {},
   "outputs": [
    {
     "data": {
      "text/plain": [
       "[<matplotlib.lines.Line2D at 0x1312f97d0>]"
      ]
     },
     "execution_count": 24,
     "metadata": {},
     "output_type": "execute_result"
    },
    {
     "data": {
      "image/png": "[encoded data removed]",
      "text/plain": [
       "<Figure size 432x288 with 1 Axes>"
      ]
     },
     "metadata": {
      "needs_background": "light"
     },
     "output_type": "display_data"
    }
   ],
   "source": [
    "data.plot(x='TV', y='Sales', kind='scatter')\n",
    "x_pred = np.linspace(0, 300, 300)\n",
    "plt.plot(x_pred, results.predict(x_pred))"
   ]
  },
  {
   "cell_type": "code",
   "execution_count": 30,
   "metadata": {},
   "outputs": [
    {
     "data": {
      "text/plain": [
       "array([[  1. , 230.1],\n",
       "       [  1. ,  44.5],\n",
       "       [  1. ,  17.2],\n",
       "       [  1. , 151.5],\n",
       "       [  1. , 180.8],\n",
       "       [  1. ,   8.7],\n",
       "       [  1. ,  57.5],\n",
       "       [  1. , 120.2],\n",
       "       [  1. ,   8.6],\n",
       "       [  1. , 199.8],\n",
       "       [  1. ,  66.1],\n",
       "       [  1. , 214.7],\n",
       "       [  1. ,  23.8],\n",
       "       [  1. ,  97.5],\n",
       "       [  1. , 204.1],\n",
       "       [  1. , 195.4],\n",
       "       [  1. ,  67.8],\n",
       "       [  1. , 281.4],\n",
       "       [  1. ,  69.2],\n",
       "       [  1. , 147.3],\n",
       "       [  1. , 218.4],\n",
       "       [  1. , 237.4],\n",
       "       [  1. ,  13.2],\n",
       "       [  1. , 228.3],\n",
       "       [  1. ,  62.3],\n",
       "       [  1. , 262.9],\n",
       "       [  1. , 142.9],\n",
       "       [  1. , 240.1],\n",
       "       [  1. , 248.8],\n",
       "       [  1. ,  70.6],\n",
       "       [  1. , 292.9],\n",
       "       [  1. , 112.9],\n",
       "       [  1. ,  97.2],\n",
       "       [  1. , 265.6],\n",
       "       [  1. ,  95.7],\n",
       "       [  1. , 290.7],\n",
       "       [  1. , 266.9],\n",
       "       [  1. ,  74.7],\n",
       "       [  1. ,  43.1],\n",
       "       [  1. , 228. ],\n",
       "       [  1. , 202.5],\n",
       "       [  1. , 177. ],\n",
       "       [  1. , 293.6],\n",
       "       [  1. , 206.9],\n",
       "       [  1. ,  25.1],\n",
       "       [  1. , 175.1],\n",
       "       [  1. ,  89.7],\n",
       "       [  1. , 239.9],\n",
       "       [  1. , 227.2],\n",
       "       [  1. ,  66.9],\n",
       "       [  1. , 199.8],\n",
       "       [  1. , 100.4],\n",
       "       [  1. , 216.4],\n",
       "       [  1. , 182.6],\n",
       "       [  1. , 262.7],\n",
       "       [  1. , 198.9],\n",
       "       [  1. ,   7.3],\n",
       "       [  1. , 136.2],\n",
       "       [  1. , 210.8],\n",
       "       [  1. , 210.7],\n",
       "       [  1. ,  53.5],\n",
       "       [  1. , 261.3],\n",
       "       [  1. , 239.3],\n",
       "       [  1. , 102.7],\n",
       "       [  1. , 131.1],\n",
       "       [  1. ,  69. ],\n",
       "       [  1. ,  31.5],\n",
       "       [  1. , 139.3],\n",
       "       [  1. , 237.4],\n",
       "       [  1. , 216.8],\n",
       "       [  1. , 199.1],\n",
       "       [  1. , 109.8],\n",
       "       [  1. ,  26.8],\n",
       "       [  1. , 129.4],\n",
       "       [  1. , 213.4],\n",
       "       [  1. ,  16.9],\n",
       "       [  1. ,  27.5],\n",
       "       [  1. , 120.5],\n",
       "       [  1. ,   5.4],\n",
       "       [  1. , 116. ],\n",
       "       [  1. ,  76.4],\n",
       "       [  1. , 239.8],\n",
       "       [  1. ,  75.3],\n",
       "       [  1. ,  68.4],\n",
       "       [  1. , 213.5],\n",
       "       [  1. , 193.2],\n",
       "       [  1. ,  76.3],\n",
       "       [  1. , 110.7],\n",
       "       [  1. ,  88.3],\n",
       "       [  1. , 109.8],\n",
       "       [  1. , 134.3],\n",
       "       [  1. ,  28.6],\n",
       "       [  1. , 217.7],\n",
       "       [  1. , 250.9],\n",
       "       [  1. , 107.4],\n",
       "       [  1. , 163.3],\n",
       "       [  1. , 197.6],\n",
       "       [  1. , 184.9],\n",
       "       [  1. , 289.7],\n",
       "       [  1. , 135.2],\n",
       "       [  1. , 222.4],\n",
       "       [  1. , 296.4],\n",
       "       [  1. , 280.2],\n",
       "       [  1. , 187.9],\n",
       "       [  1. , 238.2],\n",
       "       [  1. , 137.9],\n",
       "       [  1. ,  25. ],\n",
       "       [  1. ,  90.4],\n",
       "       [  1. ,  13.1],\n",
       "       [  1. , 255.4],\n",
       "       [  1. , 225.8],\n",
       "       [  1. , 241.7],\n",
       "       [  1. , 175.7],\n",
       "       [  1. , 209.6],\n",
       "       [  1. ,  78.2],\n",
       "       [  1. ,  75.1],\n",
       "       [  1. , 139.2],\n",
       "       [  1. ,  76.4],\n",
       "       [  1. , 125.7],\n",
       "       [  1. ,  19.4],\n",
       "       [  1. , 141.3],\n",
       "       [  1. ,  18.8],\n",
       "       [  1. , 224. ],\n",
       "       [  1. , 123.1],\n",
       "       [  1. , 229.5],\n",
       "       [  1. ,  87.2],\n",
       "       [  1. ,   7.8],\n",
       "       [  1. ,  80.2],\n",
       "       [  1. , 220.3],\n",
       "       [  1. ,  59.6],\n",
       "       [  1. ,   0.7],\n",
       "       [  1. , 265.2],\n",
       "       [  1. ,   8.4],\n",
       "       [  1. , 219.8],\n",
       "       [  1. ,  36.9],\n",
       "       [  1. ,  48.3],\n",
       "       [  1. ,  25.6],\n",
       "       [  1. , 273.7],\n",
       "       [  1. ,  43. ],\n",
       "       [  1. , 184.9],\n",
       "       [  1. ,  73.4],\n",
       "       [  1. , 193.7],\n",
       "       [  1. , 220.5],\n",
       "       [  1. , 104.6],\n",
       "       [  1. ,  96.2],\n",
       "       [  1. , 140.3],\n",
       "       [  1. , 240.1],\n",
       "       [  1. , 243.2],\n",
       "       [  1. ,  38. ],\n",
       "       [  1. ,  44.7],\n",
       "       [  1. , 280.7],\n",
       "       [  1. , 121. ],\n",
       "       [  1. , 197.6],\n",
       "       [  1. , 171.3],\n",
       "       [  1. , 187.8],\n",
       "       [  1. ,   4.1],\n",
       "       [  1. ,  93.9],\n",
       "       [  1. , 149.8],\n",
       "       [  1. ,  11.7],\n",
       "       [  1. , 131.7],\n",
       "       [  1. , 172.5],\n",
       "       [  1. ,  85.7],\n",
       "       [  1. , 188.4],\n",
       "       [  1. , 163.5],\n",
       "       [  1. , 117.2],\n",
       "       [  1. , 234.5],\n",
       "       [  1. ,  17.9],\n",
       "       [  1. , 206.8],\n",
       "       [  1. , 215.4],\n",
       "       [  1. , 284.3],\n",
       "       [  1. ,  50. ],\n",
       "       [  1. , 164.5],\n",
       "       [  1. ,  19.6],\n",
       "       [  1. , 168.4],\n",
       "       [  1. , 222.4],\n",
       "       [  1. , 276.9],\n",
       "       [  1. , 248.4],\n",
       "       [  1. , 170.2],\n",
       "       [  1. , 276.7],\n",
       "       [  1. , 165.6],\n",
       "       [  1. , 156.6],\n",
       "       [  1. , 218.5],\n",
       "       [  1. ,  56.2],\n",
       "       [  1. , 287.6],\n",
       "       [  1. , 253.8],\n",
       "       [  1. , 205. ],\n",
       "       [  1. , 139.5],\n",
       "       [  1. , 191.1],\n",
       "       [  1. , 286. ],\n",
       "       [  1. ,  18.7],\n",
       "       [  1. ,  39.5],\n",
       "       [  1. ,  75.5],\n",
       "       [  1. ,  17.2],\n",
       "       [  1. , 166.8],\n",
       "       [  1. , 149.7],\n",
       "       [  1. ,  38.2],\n",
       "       [  1. ,  94.2],\n",
       "       [  1. , 177. ],\n",
       "       [  1. , 283.6],\n",
       "       [  1. , 232.1]])"
      ]
     },
     "execution_count": 30,
     "metadata": {},
     "output_type": "execute_result"
    }
   ],
   "source": [
    "data['ones'] = 1\n",
    "data[['ones', 'TV']].values"
   ]
  },
  {
   "cell_type": "code",
   "execution_count": 26,
   "metadata": {
    "scrolled": false
   },
   "outputs": [
    {
     "data": {
      "text/plain": [
       "array([[  1. , 230.1],\n",
       "       [  1. ,  44.5],\n",
       "       [  1. ,  17.2],\n",
       "       [  1. , 151.5],\n",
       "       [  1. , 180.8],\n",
       "       [  1. ,   8.7],\n",
       "       [  1. ,  57.5],\n",
       "       [  1. , 120.2],\n",
       "       [  1. ,   8.6],\n",
       "       [  1. , 199.8],\n",
       "       [  1. ,  66.1],\n",
       "       [  1. , 214.7],\n",
       "       [  1. ,  23.8],\n",
       "       [  1. ,  97.5],\n",
       "       [  1. , 204.1],\n",
       "       [  1. , 195.4],\n",
       "       [  1. ,  67.8],\n",
       "       [  1. , 281.4],\n",
       "       [  1. ,  69.2],\n",
       "       [  1. , 147.3],\n",
       "       [  1. , 218.4],\n",
       "       [  1. , 237.4],\n",
       "       [  1. ,  13.2],\n",
       "       [  1. , 228.3],\n",
       "       [  1. ,  62.3],\n",
       "       [  1. , 262.9],\n",
       "       [  1. , 142.9],\n",
       "       [  1. , 240.1],\n",
       "       [  1. , 248.8],\n",
       "       [  1. ,  70.6],\n",
       "       [  1. , 292.9],\n",
       "       [  1. , 112.9],\n",
       "       [  1. ,  97.2],\n",
       "       [  1. , 265.6],\n",
       "       [  1. ,  95.7],\n",
       "       [  1. , 290.7],\n",
       "       [  1. , 266.9],\n",
       "       [  1. ,  74.7],\n",
       "       [  1. ,  43.1],\n",
       "       [  1. , 228. ],\n",
       "       [  1. , 202.5],\n",
       "       [  1. , 177. ],\n",
       "       [  1. , 293.6],\n",
       "       [  1. , 206.9],\n",
       "       [  1. ,  25.1],\n",
       "       [  1. , 175.1],\n",
       "       [  1. ,  89.7],\n",
       "       [  1. , 239.9],\n",
       "       [  1. , 227.2],\n",
       "       [  1. ,  66.9],\n",
       "       [  1. , 199.8],\n",
       "       [  1. , 100.4],\n",
       "       [  1. , 216.4],\n",
       "       [  1. , 182.6],\n",
       "       [  1. , 262.7],\n",
       "       [  1. , 198.9],\n",
       "       [  1. ,   7.3],\n",
       "       [  1. , 136.2],\n",
       "       [  1. , 210.8],\n",
       "       [  1. , 210.7],\n",
       "       [  1. ,  53.5],\n",
       "       [  1. , 261.3],\n",
       "       [  1. , 239.3],\n",
       "       [  1. , 102.7],\n",
       "       [  1. , 131.1],\n",
       "       [  1. ,  69. ],\n",
       "       [  1. ,  31.5],\n",
       "       [  1. , 139.3],\n",
       "       [  1. , 237.4],\n",
       "       [  1. , 216.8],\n",
       "       [  1. , 199.1],\n",
       "       [  1. , 109.8],\n",
       "       [  1. ,  26.8],\n",
       "       [  1. , 129.4],\n",
       "       [  1. , 213.4],\n",
       "       [  1. ,  16.9],\n",
       "       [  1. ,  27.5],\n",
       "       [  1. , 120.5],\n",
       "       [  1. ,   5.4],\n",
       "       [  1. , 116. ],\n",
       "       [  1. ,  76.4],\n",
       "       [  1. , 239.8],\n",
       "       [  1. ,  75.3],\n",
       "       [  1. ,  68.4],\n",
       "       [  1. , 213.5],\n",
       "       [  1. , 193.2],\n",
       "       [  1. ,  76.3],\n",
       "       [  1. , 110.7],\n",
       "       [  1. ,  88.3],\n",
       "       [  1. , 109.8],\n",
       "       [  1. , 134.3],\n",
       "       [  1. ,  28.6],\n",
       "       [  1. , 217.7],\n",
       "       [  1. , 250.9],\n",
       "       [  1. , 107.4],\n",
       "       [  1. , 163.3],\n",
       "       [  1. , 197.6],\n",
       "       [  1. , 184.9],\n",
       "       [  1. , 289.7],\n",
       "       [  1. , 135.2],\n",
       "       [  1. , 222.4],\n",
       "       [  1. , 296.4],\n",
       "       [  1. , 280.2],\n",
       "       [  1. , 187.9],\n",
       "       [  1. , 238.2],\n",
       "       [  1. , 137.9],\n",
       "       [  1. ,  25. ],\n",
       "       [  1. ,  90.4],\n",
       "       [  1. ,  13.1],\n",
       "       [  1. , 255.4],\n",
       "       [  1. , 225.8],\n",
       "       [  1. , 241.7],\n",
       "       [  1. , 175.7],\n",
       "       [  1. , 209.6],\n",
       "       [  1. ,  78.2],\n",
       "       [  1. ,  75.1],\n",
       "       [  1. , 139.2],\n",
       "       [  1. ,  76.4],\n",
       "       [  1. , 125.7],\n",
       "       [  1. ,  19.4],\n",
       "       [  1. , 141.3],\n",
       "       [  1. ,  18.8],\n",
       "       [  1. , 224. ],\n",
       "       [  1. , 123.1],\n",
       "       [  1. , 229.5],\n",
       "       [  1. ,  87.2],\n",
       "       [  1. ,   7.8],\n",
       "       [  1. ,  80.2],\n",
       "       [  1. , 220.3],\n",
       "       [  1. ,  59.6],\n",
       "       [  1. ,   0.7],\n",
       "       [  1. , 265.2],\n",
       "       [  1. ,   8.4],\n",
       "       [  1. , 219.8],\n",
       "       [  1. ,  36.9],\n",
       "       [  1. ,  48.3],\n",
       "       [  1. ,  25.6],\n",
       "       [  1. , 273.7],\n",
       "       [  1. ,  43. ],\n",
       "       [  1. , 184.9],\n",
       "       [  1. ,  73.4],\n",
       "       [  1. , 193.7],\n",
       "       [  1. , 220.5],\n",
       "       [  1. , 104.6],\n",
       "       [  1. ,  96.2],\n",
       "       [  1. , 140.3],\n",
       "       [  1. , 240.1],\n",
       "       [  1. , 243.2],\n",
       "       [  1. ,  38. ],\n",
       "       [  1. ,  44.7],\n",
       "       [  1. , 280.7],\n",
       "       [  1. , 121. ],\n",
       "       [  1. , 197.6],\n",
       "       [  1. , 171.3],\n",
       "       [  1. , 187.8],\n",
       "       [  1. ,   4.1],\n",
       "       [  1. ,  93.9],\n",
       "       [  1. , 149.8],\n",
       "       [  1. ,  11.7],\n",
       "       [  1. , 131.7],\n",
       "       [  1. , 172.5],\n",
       "       [  1. ,  85.7],\n",
       "       [  1. , 188.4],\n",
       "       [  1. , 163.5],\n",
       "       [  1. , 117.2],\n",
       "       [  1. , 234.5],\n",
       "       [  1. ,  17.9],\n",
       "       [  1. , 206.8],\n",
       "       [  1. , 215.4],\n",
       "       [  1. , 284.3],\n",
       "       [  1. ,  50. ],\n",
       "       [  1. , 164.5],\n",
       "       [  1. ,  19.6],\n",
       "       [  1. , 168.4],\n",
       "       [  1. , 222.4],\n",
       "       [  1. , 276.9],\n",
       "       [  1. , 248.4],\n",
       "       [  1. , 170.2],\n",
       "       [  1. , 276.7],\n",
       "       [  1. , 165.6],\n",
       "       [  1. , 156.6],\n",
       "       [  1. , 218.5],\n",
       "       [  1. ,  56.2],\n",
       "       [  1. , 287.6],\n",
       "       [  1. , 253.8],\n",
       "       [  1. , 205. ],\n",
       "       [  1. , 139.5],\n",
       "       [  1. , 191.1],\n",
       "       [  1. , 286. ],\n",
       "       [  1. ,  18.7],\n",
       "       [  1. ,  39.5],\n",
       "       [  1. ,  75.5],\n",
       "       [  1. ,  17.2],\n",
       "       [  1. , 166.8],\n",
       "       [  1. , 149.7],\n",
       "       [  1. ,  38.2],\n",
       "       [  1. ,  94.2],\n",
       "       [  1. , 177. ],\n",
       "       [  1. , 283.6],\n",
       "       [  1. , 232.1]])"
      ]
     },
     "execution_count": 26,
     "metadata": {},
     "output_type": "execute_result"
    }
   ],
   "source": [
    "X = sm.add_constant(X)\n",
    "X"
   ]
  },
  {
   "cell_type": "code",
   "execution_count": 31,
   "metadata": {},
   "outputs": [
    {
     "data": {
      "text/plain": [
       "array([7.03259355, 0.04753664])"
      ]
     },
     "execution_count": 31,
     "metadata": {},
     "output_type": "execute_result"
    }
   ],
   "source": [
    "model = sm.OLS(y, X, hasconst=True)\n",
    "results = model.fit()\n",
    "results.params"
   ]
  },
  {
   "cell_type": "code",
   "execution_count": 32,
   "metadata": {},
   "outputs": [
    {
     "data": {
      "text/html": [
       "<table class=\"simpletable\">\n",
       "<caption>OLS Regression Results</caption>\n",
       "<tr>\n",
       "  <th>Dep. Variable:</th>            <td>y</td>        <th>  R-squared:         </th> <td>   0.612</td>\n",
       "</tr>\n",
       "<tr>\n",
       "  <th>Model:</th>                   <td>OLS</td>       <th>  Adj. R-squared:    </th> <td>   0.610</td>\n",
       "</tr>\n",
       "<tr>\n",
       "  <th>Method:</th>             <td>Least Squares</td>  <th>  F-statistic:       </th> <td>   312.1</td>\n",
       "</tr>\n",
       "<tr>\n",
       "  <th>Date:</th>             <td>Tue, 23 Jun 2020</td> <th>  Prob (F-statistic):</th> <td>1.47e-42</td>\n",
       "</tr>\n",
       "<tr>\n",
       "  <th>Time:</th>                 <td>13:53:30</td>     <th>  Log-Likelihood:    </th> <td> -519.05</td>\n",
       "</tr>\n",
       "<tr>\n",
       "  <th>No. Observations:</th>      <td>   200</td>      <th>  AIC:               </th> <td>   1042.</td>\n",
       "</tr>\n",
       "<tr>\n",
       "  <th>Df Residuals:</th>          <td>   198</td>      <th>  BIC:               </th> <td>   1049.</td>\n",
       "</tr>\n",
       "<tr>\n",
       "  <th>Df Model:</th>              <td>     1</td>      <th>                     </th>     <td> </td>   \n",
       "</tr>\n",
       "<tr>\n",
       "  <th>Covariance Type:</th>      <td>nonrobust</td>    <th>                     </th>     <td> </td>   \n",
       "</tr>\n",
       "</table>\n",
       "<table class=\"simpletable\">\n",
       "<tr>\n",
       "    <td></td>       <th>coef</th>     <th>std err</th>      <th>t</th>      <th>P>|t|</th>  <th>[0.025</th>    <th>0.975]</th>  \n",
       "</tr>\n",
       "<tr>\n",
       "  <th>const</th> <td>    7.0326</td> <td>    0.458</td> <td>   15.360</td> <td> 0.000</td> <td>    6.130</td> <td>    7.935</td>\n",
       "</tr>\n",
       "<tr>\n",
       "  <th>x1</th>    <td>    0.0475</td> <td>    0.003</td> <td>   17.668</td> <td> 0.000</td> <td>    0.042</td> <td>    0.053</td>\n",
       "</tr>\n",
       "</table>\n",
       "<table class=\"simpletable\">\n",
       "<tr>\n",
       "  <th>Omnibus:</th>       <td> 0.531</td> <th>  Durbin-Watson:     </th> <td>   1.935</td>\n",
       "</tr>\n",
       "<tr>\n",
       "  <th>Prob(Omnibus):</th> <td> 0.767</td> <th>  Jarque-Bera (JB):  </th> <td>   0.669</td>\n",
       "</tr>\n",
       "<tr>\n",
       "  <th>Skew:</th>          <td>-0.089</td> <th>  Prob(JB):          </th> <td>   0.716</td>\n",
       "</tr>\n",
       "<tr>\n",
       "  <th>Kurtosis:</th>      <td> 2.779</td> <th>  Cond. No.          </th> <td>    338.</td>\n",
       "</tr>\n",
       "</table><br/><br/>Warnings:<br/>[1] Standard Errors assume that the covariance matrix of the errors is correctly specified."
      ],
      "text/plain": [
       "<class 'statsmodels.iolib.summary.Summary'>\n",
       "\"\"\"\n",
       "                            OLS Regression Results                            \n",
       "==============================================================================\n",
       "Dep. Variable:                      y   R-squared:                       0.612\n",
       "Model:                            OLS   Adj. R-squared:                  0.610\n",
       "Method:                 Least Squares   F-statistic:                     312.1\n",
       "Date:                Tue, 23 Jun 2020   Prob (F-statistic):           1.47e-42\n",
       "Time:                        13:53:30   Log-Likelihood:                -519.05\n",
       "No. Observations:                 200   AIC:                             1042.\n",
       "Df Residuals:                     198   BIC:                             1049.\n",
       "Df Model:                           1                                         \n",
       "Covariance Type:            nonrobust                                         \n",
       "==============================================================================\n",
       "                 coef    std err          t      P>|t|      [0.025      0.975]\n",
       "------------------------------------------------------------------------------\n",
       "const          7.0326      0.458     15.360      0.000       6.130       7.935\n",
       "x1             0.0475      0.003     17.668      0.000       0.042       0.053\n",
       "==============================================================================\n",
       "Omnibus:                        0.531   Durbin-Watson:                   1.935\n",
       "Prob(Omnibus):                  0.767   Jarque-Bera (JB):                0.669\n",
       "Skew:                          -0.089   Prob(JB):                        0.716\n",
       "Kurtosis:                       2.779   Cond. No.                         338.\n",
       "==============================================================================\n",
       "\n",
       "Warnings:\n",
       "[1] Standard Errors assume that the covariance matrix of the errors is correctly specified.\n",
       "\"\"\""
      ]
     },
     "execution_count": 32,
     "metadata": {},
     "output_type": "execute_result"
    }
   ],
   "source": [
    "results.summary()"
   ]
  },
  {
   "cell_type": "code",
   "execution_count": 34,
   "metadata": {},
   "outputs": [
    {
     "data": {
      "text/plain": [
       "array([7.03259355, 0.04753664])"
      ]
     },
     "execution_count": 34,
     "metadata": {},
     "output_type": "execute_result"
    }
   ],
   "source": [
    "from sklearn.linear_model import LinearRegression\n",
    "\n",
    "lr = LinearRegression(fit_intercept=False)\n",
    "lr.fit(X, y)\n",
    "lr.coef_"
   ]
  },
  {
   "cell_type": "markdown",
   "metadata": {},
   "source": [
    "## Understanding $R^{2}$\n",
    "\n",
    "Note that if we want to predict sales naively a good choice could be the means sales."
   ]
  },
  {
   "cell_type": "code",
   "execution_count": 41,
   "metadata": {},
   "outputs": [],
   "source": [
    "X = X.reshape(-1)"
   ]
  },
  {
   "cell_type": "code",
   "execution_count": 42,
   "metadata": {},
   "outputs": [
    {
     "data": {
      "text/plain": [
       "(200,)"
      ]
     },
     "execution_count": 42,
     "metadata": {},
     "output_type": "execute_result"
    }
   ],
   "source": [
    "X.shape"
   ]
  },
  {
   "cell_type": "code",
   "execution_count": 43,
   "metadata": {},
   "outputs": [
    {
     "data": {
      "image/png": "[encoded data removed]",
      "text/plain": [
       "<Figure size 432x288 with 1 Axes>"
      ]
     },
     "metadata": {
      "needs_background": "light"
     },
     "output_type": "display_data"
    }
   ],
   "source": [
    "plt.scatter(X, y)\n",
    "xmin, xmax = plt.xlim()\n",
    "\n",
    "plt.hlines(y=y.mean(),\n",
    "           xmin=xmin, xmax=xmax,\n",
    "           label='Mean Sales Across Cities is %.2f' % y.mean(), color='green')\n",
    "\n",
    "plt.title('Predicting Sales from Mean')\n",
    "\n",
    "plt.legend()\n",
    "\n",
    "plt.tight_layout()"
   ]
  },
  {
   "cell_type": "markdown",
   "metadata": {},
   "source": [
    "But as we can see this is not explaining what is going on in the data very well. We know this amount of errors as Total Sum of Squares.\n",
    "\n",
    "\n",
    "$$ \\text{Total Sum of Squares} = \\sum\\limits_{i=1}^{200} (y_{i} - \\bar{y})^{2} $$"
   ]
  },
  {
   "cell_type": "code",
   "execution_count": 44,
   "metadata": {},
   "outputs": [
    {
     "name": "stdout",
     "output_type": "stream",
     "text": [
      "5417.148749999997\n"
     ]
    }
   ],
   "source": [
    "y_bar = y.mean()\n",
    "\n",
    "TSS = sum((y - y_bar)**2)\n",
    "\n",
    "print(TSS)"
   ]
  },
  {
   "cell_type": "markdown",
   "metadata": {},
   "source": [
    "But after we fit a linear regression line we have a better fit than just \"mean\""
   ]
  },
  {
   "cell_type": "code",
   "execution_count": 45,
   "metadata": {},
   "outputs": [],
   "source": [
    "y_pred = results.predict(sm.add_constant(X))"
   ]
  },
  {
   "cell_type": "code",
   "execution_count": 47,
   "metadata": {},
   "outputs": [
    {
     "data": {
      "text/plain": [
       "[<matplotlib.lines.Line2D at 0x1330fd850>]"
      ]
     },
     "execution_count": 47,
     "metadata": {},
     "output_type": "execute_result"
    },
    {
     "data": {
      "image/png": "[encoded data removed]",
      "text/plain": [
       "<Figure size 432x288 with 1 Axes>"
      ]
     },
     "metadata": {
      "needs_background": "light"
     },
     "output_type": "display_data"
    }
   ],
   "source": [
    "# this plots the actual data.\n",
    "plt.scatter(X, y)\n",
    "\n",
    "# this plots the 'best' line\n",
    "plt.plot(X, y_pred)"
   ]
  },
  {
   "cell_type": "markdown",
   "metadata": {},
   "source": [
    "As we can see this line is also not 'perfect' from prediction point of view. Let's see how much is the total amount of error this time.\n",
    "\n",
    "$$ \\text{Squared Sum of Residuals} = \\sum\\limits_{i=1}^{200} (y_i - \\text{y_pred}_{i})^{2}$$"
   ]
  },
  {
   "cell_type": "code",
   "execution_count": 48,
   "metadata": {},
   "outputs": [
    {
     "data": {
      "text/plain": [
       "2102.530583131351"
      ]
     },
     "execution_count": 48,
     "metadata": {},
     "output_type": "execute_result"
    }
   ],
   "source": [
    "residuals = y - y_pred\n",
    "\n",
    "## We will be \n",
    "RSS = sum(residuals**2)\n",
    "\n",
    "RSS"
   ]
  },
  {
   "cell_type": "code",
   "execution_count": 49,
   "metadata": {},
   "outputs": [
    {
     "name": "stdout",
     "output_type": "stream",
     "text": [
      "Total Squared Sum  is 5417.149 \n",
      "Residual Squared Sum is 2102.531\n"
     ]
    }
   ],
   "source": [
    "print('Total Squared Sum  is %.3f '%TSS)\n",
    "print('Residual Squared Sum is %.3f'%RSS)"
   ]
  },
  {
   "cell_type": "markdown",
   "metadata": {},
   "source": [
    "$R^{2}$ measurement is just their ratio:\n",
    "\n",
    " $$ R^{2} = \\frac{TSS - RSS}{TSS} $$"
   ]
  },
  {
   "cell_type": "code",
   "execution_count": 50,
   "metadata": {},
   "outputs": [
    {
     "data": {
      "text/plain": [
       "0.6118750508500709"
      ]
     },
     "execution_count": 50,
     "metadata": {},
     "output_type": "execute_result"
    }
   ],
   "source": [
    "R_squared = (TSS - RSS)/TSS\n",
    "\n",
    "R_squared"
   ]
  },
  {
   "cell_type": "markdown",
   "metadata": {},
   "source": [
    "## Using `statsmodels.api`  - $R^2$ and Making Predictions"
   ]
  },
  {
   "cell_type": "code",
   "execution_count": 55,
   "metadata": {},
   "outputs": [],
   "source": [
    "X = data.drop(columns='Sales')\n",
    "X['intercept'] = 1\n",
    "y = data.Sales"
   ]
  },
  {
   "cell_type": "code",
   "execution_count": 56,
   "metadata": {},
   "outputs": [
    {
     "data": {
      "text/html": [
       "<table class=\"simpletable\">\n",
       "<caption>OLS Regression Results</caption>\n",
       "<tr>\n",
       "  <th>Dep. Variable:</th>          <td>Sales</td>      <th>  R-squared:         </th> <td>   0.612</td>\n",
       "</tr>\n",
       "<tr>\n",
       "  <th>Model:</th>                   <td>OLS</td>       <th>  Adj. R-squared:    </th> <td>   0.610</td>\n",
       "</tr>\n",
       "<tr>\n",
       "  <th>Method:</th>             <td>Least Squares</td>  <th>  F-statistic:       </th> <td>   312.1</td>\n",
       "</tr>\n",
       "<tr>\n",
       "  <th>Date:</th>             <td>Tue, 23 Jun 2020</td> <th>  Prob (F-statistic):</th> <td>1.47e-42</td>\n",
       "</tr>\n",
       "<tr>\n",
       "  <th>Time:</th>                 <td>14:21:29</td>     <th>  Log-Likelihood:    </th> <td> -519.05</td>\n",
       "</tr>\n",
       "<tr>\n",
       "  <th>No. Observations:</th>      <td>   200</td>      <th>  AIC:               </th> <td>   1042.</td>\n",
       "</tr>\n",
       "<tr>\n",
       "  <th>Df Residuals:</th>          <td>   198</td>      <th>  BIC:               </th> <td>   1049.</td>\n",
       "</tr>\n",
       "<tr>\n",
       "  <th>Df Model:</th>              <td>     1</td>      <th>                     </th>     <td> </td>   \n",
       "</tr>\n",
       "<tr>\n",
       "  <th>Covariance Type:</th>      <td>nonrobust</td>    <th>                     </th>     <td> </td>   \n",
       "</tr>\n",
       "</table>\n",
       "<table class=\"simpletable\">\n",
       "<tr>\n",
       "    <td></td>      <th>coef</th>     <th>std err</th>      <th>t</th>      <th>P>|t|</th>  <th>[0.025</th>    <th>0.975]</th>  \n",
       "</tr>\n",
       "<tr>\n",
       "  <th>TV</th>   <td>    0.0475</td> <td>    0.003</td> <td>   17.668</td> <td> 0.000</td> <td>    0.042</td> <td>    0.053</td>\n",
       "</tr>\n",
       "<tr>\n",
       "  <th>ones</th> <td>    7.0326</td> <td>    0.458</td> <td>   15.360</td> <td> 0.000</td> <td>    6.130</td> <td>    7.935</td>\n",
       "</tr>\n",
       "</table>\n",
       "<table class=\"simpletable\">\n",
       "<tr>\n",
       "  <th>Omnibus:</th>       <td> 0.531</td> <th>  Durbin-Watson:     </th> <td>   1.935</td>\n",
       "</tr>\n",
       "<tr>\n",
       "  <th>Prob(Omnibus):</th> <td> 0.767</td> <th>  Jarque-Bera (JB):  </th> <td>   0.669</td>\n",
       "</tr>\n",
       "<tr>\n",
       "  <th>Skew:</th>          <td>-0.089</td> <th>  Prob(JB):          </th> <td>   0.716</td>\n",
       "</tr>\n",
       "<tr>\n",
       "  <th>Kurtosis:</th>      <td> 2.779</td> <th>  Cond. No.          </th> <td>    338.</td>\n",
       "</tr>\n",
       "</table><br/><br/>Warnings:<br/>[1] Standard Errors assume that the covariance matrix of the errors is correctly specified."
      ],
      "text/plain": [
       "<class 'statsmodels.iolib.summary.Summary'>\n",
       "\"\"\"\n",
       "                            OLS Regression Results                            \n",
       "==============================================================================\n",
       "Dep. Variable:                  Sales   R-squared:                       0.612\n",
       "Model:                            OLS   Adj. R-squared:                  0.610\n",
       "Method:                 Least Squares   F-statistic:                     312.1\n",
       "Date:                Tue, 23 Jun 2020   Prob (F-statistic):           1.47e-42\n",
       "Time:                        14:21:29   Log-Likelihood:                -519.05\n",
       "No. Observations:                 200   AIC:                             1042.\n",
       "Df Residuals:                     198   BIC:                             1049.\n",
       "Df Model:                           1                                         \n",
       "Covariance Type:            nonrobust                                         \n",
       "==============================================================================\n",
       "                 coef    std err          t      P>|t|      [0.025      0.975]\n",
       "------------------------------------------------------------------------------\n",
       "TV             0.0475      0.003     17.668      0.000       0.042       0.053\n",
       "ones           7.0326      0.458     15.360      0.000       6.130       7.935\n",
       "==============================================================================\n",
       "Omnibus:                        0.531   Durbin-Watson:                   1.935\n",
       "Prob(Omnibus):                  0.767   Jarque-Bera (JB):                0.669\n",
       "Skew:                          -0.089   Prob(JB):                        0.716\n",
       "Kurtosis:                       2.779   Cond. No.                         338.\n",
       "==============================================================================\n",
       "\n",
       "Warnings:\n",
       "[1] Standard Errors assume that the covariance matrix of the errors is correctly specified.\n",
       "\"\"\""
      ]
     },
     "execution_count": 56,
     "metadata": {},
     "output_type": "execute_result"
    }
   ],
   "source": [
    "# we first construct our model\n",
    "model = sm.OLS(y, X, hasconst=True)\n",
    "\n",
    "# by fitting we learn 'best' coefficients for intercept and slope\n",
    "fitted_model = model.fit()\n",
    "\n",
    "\n",
    "# with summary method we can see all the relevant statistics.\n",
    "fitted_model.summary()"
   ]
  },
  {
   "cell_type": "code",
   "execution_count": 57,
   "metadata": {},
   "outputs": [
    {
     "data": {
      "text/plain": [
       "array([7.03259355, 0.04753664])"
      ]
     },
     "execution_count": 57,
     "metadata": {},
     "output_type": "execute_result"
    }
   ],
   "source": [
    "results.params"
   ]
  },
  {
   "cell_type": "markdown",
   "metadata": {},
   "source": [
    "Suppose our company wants to invest $230K in TV ads in a city, how much sales would you expect on average for this city?"
   ]
  },
  {
   "cell_type": "code",
   "execution_count": 59,
   "metadata": {},
   "outputs": [
    {
     "data": {
      "text/plain": [
       "array([17.96602085])"
      ]
     },
     "execution_count": 59,
     "metadata": {},
     "output_type": "execute_result"
    }
   ],
   "source": [
    "fitted_model.predict([230, 1])"
   ]
  },
  {
   "cell_type": "code",
   "execution_count": 62,
   "metadata": {},
   "outputs": [],
   "source": [
    "intercept = fitted_model.params[1]\n",
    "\n",
    "slope = fitted_model.params[0]"
   ]
  },
  {
   "cell_type": "markdown",
   "metadata": {},
   "source": [
    "Note that this prediction is noting but \n",
    "\n",
    "$$ \\text{Sales} = 0.0475 \\times 230 + 7.0326 $$"
   ]
  },
  {
   "cell_type": "code",
   "execution_count": 64,
   "metadata": {},
   "outputs": [
    {
     "data": {
      "text/plain": [
       "17.966020848722238"
      ]
     },
     "execution_count": 64,
     "metadata": {},
     "output_type": "execute_result"
    }
   ],
   "source": [
    "our_prediction = slope * 230 + intercept * 1\n",
    "our_prediction"
   ]
  },
  {
   "cell_type": "code",
   "execution_count": 65,
   "metadata": {},
   "outputs": [
    {
     "data": {
      "text/plain": [
       "0.611875050850071"
      ]
     },
     "execution_count": 65,
     "metadata": {},
     "output_type": "execute_result"
    }
   ],
   "source": [
    "results.rsquared"
   ]
  },
  {
   "cell_type": "markdown",
   "metadata": {},
   "source": [
    "## Now with `sklearn`"
   ]
  },
  {
   "cell_type": "code",
   "execution_count": 66,
   "metadata": {},
   "outputs": [],
   "source": [
    "from sklearn.linear_model import LinearRegression"
   ]
  },
  {
   "cell_type": "code",
   "execution_count": 67,
   "metadata": {},
   "outputs": [],
   "source": [
    "lr = LinearRegression()"
   ]
  },
  {
   "cell_type": "code",
   "execution_count": 69,
   "metadata": {},
   "outputs": [
    {
     "data": {
      "text/plain": [
       "LinearRegression()"
      ]
     },
     "execution_count": 69,
     "metadata": {},
     "output_type": "execute_result"
    }
   ],
   "source": [
    "lr.fit(X.drop(columns='ones'), y)"
   ]
  },
  {
   "cell_type": "code",
   "execution_count": 70,
   "metadata": {},
   "outputs": [],
   "source": [
    "# best slope value slope\n",
    "m = lr.coef_"
   ]
  },
  {
   "cell_type": "code",
   "execution_count": 71,
   "metadata": {},
   "outputs": [
    {
     "data": {
      "text/plain": [
       "array([0.04753664])"
      ]
     },
     "execution_count": 71,
     "metadata": {},
     "output_type": "execute_result"
    }
   ],
   "source": [
    "m"
   ]
  },
  {
   "cell_type": "code",
   "execution_count": 73,
   "metadata": {},
   "outputs": [
    {
     "data": {
      "text/plain": [
       "7.032593549127695"
      ]
     },
     "execution_count": 73,
     "metadata": {},
     "output_type": "execute_result"
    }
   ],
   "source": [
    "## best intercept value\n",
    "b = lr.intercept_\n",
    "b"
   ]
  },
  {
   "cell_type": "code",
   "execution_count": 79,
   "metadata": {},
   "outputs": [],
   "source": [
    "y_pred = m*X.drop(columns='ones') + b\n",
    "y_pred = lr.predict(X.drop(columns='ones'))"
   ]
  },
  {
   "cell_type": "code",
   "execution_count": 80,
   "metadata": {},
   "outputs": [
    {
     "data": {
      "text/plain": [
       "array([17.97077451,  9.14797405,  7.85022376, 14.23439457, 15.62721814,\n",
       "        7.44616232,  9.76595037, 12.74649773,  7.44140866, 16.53041431,\n",
       "       10.17476548, 17.23871025,  8.16396559, 11.66741599, 16.73482186,\n",
       "       16.32125309, 10.25557777, 20.40940417, 10.32212907, 14.03474068,\n",
       "       17.41459582, 18.31779199,  7.6600772 , 17.88520856,  9.99412625,\n",
       "       19.52997632, 13.82557947, 18.44614092, 18.85970969, 10.38868036,\n",
       "       20.95607553, 12.39948025, 11.653155  , 19.65832525, 11.58185004,\n",
       "       20.85149492, 19.72012288, 10.58358059,  9.08142275, 17.87094757,\n",
       "       16.65876324, 15.44657891, 20.98935118, 16.86792445,  8.22576322,\n",
       "       15.35625929, 11.2966302 , 18.43663359, 17.83291826, 10.21279479,\n",
       "       16.53041431, 11.80527225, 17.31952254, 15.71278409, 19.52046899,\n",
       "       16.48763133,  7.37961102, 13.50708398, 17.05331735, 17.04856369,\n",
       "        9.57580381, 19.45391769, 18.4081116 , 11.91460652, 13.26464711,\n",
       "       10.31262174,  8.52999772, 13.65444756, 18.31779199, 17.3385372 ,\n",
       "       16.49713866, 12.25211667,  8.30657551, 13.18383482, 17.17691262,\n",
       "        7.83596277,  8.33985116, 12.76075872,  7.28929141, 12.54684384,\n",
       "       10.66439288, 18.43187992, 10.61210257, 10.28409975, 17.18166628,\n",
       "       16.21667248, 10.65963921, 12.29489965, 11.2300789 , 12.25211667,\n",
       "       13.41676436,  8.39214147, 17.38132017, 18.95953663, 12.13802873,\n",
       "       14.79532693, 16.4258337 , 15.82211837, 20.80395828, 13.45954734,\n",
       "       17.60474238, 21.12245377, 20.3523602 , 15.96472829, 18.3558213 ,\n",
       "       13.58789626,  8.22100956, 11.32990584,  7.65532354, 19.17345152,\n",
       "       17.76636696, 18.52219954, 15.38478127, 16.99627338, 10.74995883,\n",
       "       10.60259525, 13.6496939 , 10.66439288, 13.00794925,  7.95480437,\n",
       "       13.74952084,  7.92628239, 17.68080101, 12.88435399, 17.94225253,\n",
       "       11.17778859,  7.40337934, 10.84503211, 17.50491544,  9.86577732,\n",
       "        7.0658692 , 19.63931059,  7.43190133, 17.48114712,  8.78669558,\n",
       "        9.32861328,  8.24953154, 20.04337204,  9.07666909, 15.82211837,\n",
       "       10.52178296, 16.2404408 , 17.51442276, 12.00492614, 11.60561836,\n",
       "       13.7019842 , 18.44614092, 18.5935045 ,  8.83898589,  9.15748138,\n",
       "       20.37612852, 12.78452704, 16.4258337 , 15.17562006, 15.95997462,\n",
       "        7.22749377, 11.49628409, 14.15358229,  7.58877224, 13.29316909,\n",
       "       15.23266402, 11.10648363, 15.98849661, 14.80483426, 12.60388781,\n",
       "       18.17993573,  7.88349941, 16.86317079, 17.2719859 , 20.54726042,\n",
       "        9.40942557, 14.8523709 ,  7.9643117 , 15.0377638 , 17.60474238,\n",
       "       20.19548929, 18.84069503, 15.12332975, 20.18598196, 14.9046612 ,\n",
       "       14.47683144, 17.41934948,  9.70415274, 20.70413134, 19.09739289,\n",
       "       16.77760484, 13.66395489, 16.11684554, 20.62807271,  7.92152873,\n",
       "        8.91029085, 10.6216099 ,  7.85022376, 14.96170517, 14.14882862,\n",
       "        8.84849321, 11.51054508, 15.44657891, 20.51398478, 18.06584779])"
      ]
     },
     "execution_count": 80,
     "metadata": {},
     "output_type": "execute_result"
    }
   ],
   "source": [
    "y_pred"
   ]
  },
  {
   "cell_type": "code",
   "execution_count": 81,
   "metadata": {},
   "outputs": [
    {
     "data": {
      "text/plain": [
       "Text(0, 0.5, 'Sales in thosands of units')"
      ]
     },
     "execution_count": 81,
     "metadata": {},
     "output_type": "execute_result"
    },
    {
     "data": {
      "image/png": "[encoded data removed]",
      "text/plain": [
       "<Figure size 432x288 with 1 Axes>"
      ]
     },
     "metadata": {
      "needs_background": "light"
     },
     "output_type": "display_data"
    }
   ],
   "source": [
    "plt.scatter(X.drop(columns='ones'), y)\n",
    "plt.scatter(X.drop(columns='ones'), y_pred)\n",
    "\n",
    "plt.xlabel('TV_ads')\n",
    "\n",
    "plt.ylabel('Sales in thosands of units')"
   ]
  },
  {
   "cell_type": "code",
   "execution_count": 82,
   "metadata": {},
   "outputs": [],
   "source": [
    "from sklearn.metrics import r2_score"
   ]
  },
  {
   "cell_type": "code",
   "execution_count": 83,
   "metadata": {},
   "outputs": [
    {
     "data": {
      "text/plain": [
       "0.611875050850071"
      ]
     },
     "execution_count": 83,
     "metadata": {},
     "output_type": "execute_result"
    }
   ],
   "source": [
    "r2_score(y, y_pred)"
   ]
  },
  {
   "cell_type": "markdown",
   "metadata": {},
   "source": [
    "## P values and Significance\n",
    "\n",
    "- To clarify the difference between population parameters and the estimates from data we will work with simulated data in this section."
   ]
  },
  {
   "cell_type": "code",
   "execution_count": 84,
   "metadata": {},
   "outputs": [],
   "source": [
    "# Here we will work with a toy case\n",
    "# note that y ≈ 3X + 5 so we know population parameters in this case.\n",
    "# irr_error is random error due to some measurement errors.\n",
    "\n",
    "X = np.random.uniform(low=0, high=10, size=100)\n",
    "irr_error = np.random.normal(loc=0, scale=1, size=100)\n",
    "\n",
    "y = 3*X + 5 + irr_error"
   ]
  },
  {
   "cell_type": "code",
   "execution_count": 85,
   "metadata": {},
   "outputs": [
    {
     "data": {
      "image/png": "[encoded data removed]",
      "text/plain": [
       "<Figure size 432x288 with 1 Axes>"
      ]
     },
     "metadata": {
      "needs_background": "light"
     },
     "output_type": "display_data"
    }
   ],
   "source": [
    "plt.scatter(X,y)\n",
    "plt.title('A Hypothetical Case: We know that $y = 3 \\cdot X + 5 + \\epsilon$')\n",
    "plt.show()"
   ]
  },
  {
   "cell_type": "markdown",
   "metadata": {},
   "source": [
    "__Your Turn!__ Use sklearn to fit 100 linear models for the data X, y above. Don't forget to add random error each time. The idea is each time we sample from a population we will have some variation inevitably."
   ]
  },
  {
   "cell_type": "code",
   "execution_count": 100,
   "metadata": {},
   "outputs": [],
   "source": [
    "coef_list_b0 = []\n",
    "coef_list_b1 = []\n",
    "for i in range(1000):\n",
    "    X = np.random.uniform(low=0, high=10, size=100)\n",
    "    irr_error = np.random.normal(loc=0, scale=1, size=100)\n",
    "    y = 3*X + 5 + irr_error\n",
    "    X = X.reshape(-1, 1)\n",
    "    lr = LinearRegression()\n",
    "    lr.fit(X, y)\n",
    "    coef_list_b0.append(lr.intercept_)\n",
    "    coef_list_b1.append(lr.coef_[0])"
   ]
  },
  {
   "cell_type": "code",
   "execution_count": 101,
   "metadata": {},
   "outputs": [
    {
     "data": {
      "text/plain": [
       "1000"
      ]
     },
     "execution_count": 101,
     "metadata": {},
     "output_type": "execute_result"
    }
   ],
   "source": [
    "len(coef_list_b1)"
   ]
  },
  {
   "cell_type": "code",
   "execution_count": 102,
   "metadata": {},
   "outputs": [
    {
     "data": {
      "text/plain": [
       "[3.0610822952008037,\n",
       " 3.008435775397851,\n",
       " 2.9648511971013236,\n",
       " 2.9887997610240267,\n",
       " 3.0113911175668036,\n",
       " 3.0061178275638203,\n",
       " 3.040872302607764,\n",
       " 3.0221686769702254,\n",
       " 3.053788046001197,\n",
       " 2.940245912330287]"
      ]
     },
     "execution_count": 102,
     "metadata": {},
     "output_type": "execute_result"
    }
   ],
   "source": [
    "coef_list_b1[:10]"
   ]
  },
  {
   "cell_type": "markdown",
   "metadata": {},
   "source": [
    "Now let's look at distributions of $\\hat{b}_{0}$ and $\\hat{b}_{1}$:"
   ]
  },
  {
   "cell_type": "code",
   "execution_count": 103,
   "metadata": {},
   "outputs": [
    {
     "data": {
      "image/png": "[encoded data removed]",
      "text/plain": [
       "<Figure size 432x288 with 1 Axes>"
      ]
     },
     "metadata": {
      "needs_background": "light"
     },
     "output_type": "display_data"
    }
   ],
   "source": [
    "plt.hist(coef_list_b0)\n",
    "plt.title(\"Histogram for the distribution of $\\widehat{b}_{0}$\")\n",
    "plt.xlabel(\"Value of $\\widehat{b}_{0}$ for each different sample of size 100\")\n",
    "plt.show()"
   ]
  },
  {
   "cell_type": "code",
   "execution_count": 104,
   "metadata": {},
   "outputs": [
    {
     "data": {
      "text/plain": [
       "4.99071784742465"
      ]
     },
     "execution_count": 104,
     "metadata": {},
     "output_type": "execute_result"
    }
   ],
   "source": [
    "np.mean(coef_list_b0)"
   ]
  },
  {
   "cell_type": "code",
   "execution_count": 105,
   "metadata": {},
   "outputs": [
    {
     "data": {
      "image/png": "[encoded data removed]",
      "text/plain": [
       "<Figure size 432x288 with 1 Axes>"
      ]
     },
     "metadata": {
      "needs_background": "light"
     },
     "output_type": "display_data"
    }
   ],
   "source": [
    "plt.hist(coef_list_b1)\n",
    "plt.title(\"Histogram for the distribution of $\\widehat{b}_{1}$\")\n",
    "plt.xlabel(\"Value of $\\widehat{b}_{1}$ for each different sample of size 100\")\n",
    "plt.show()"
   ]
  },
  {
   "cell_type": "code",
   "execution_count": 106,
   "metadata": {},
   "outputs": [
    {
     "data": {
      "text/plain": [
       "3.0012645073437088"
      ]
     },
     "execution_count": 106,
     "metadata": {},
     "output_type": "execute_result"
    }
   ],
   "source": [
    "np.mean(coef_list_b1)"
   ]
  },
  {
   "cell_type": "markdown",
   "metadata": {},
   "source": [
    "## Further Reading <a name='further_reading'></a>\n",
    "\n",
    "- [What is the parameter copy_X in sklearn](https://stackoverflow.com/questions/52541717/what-is-the-parameter-copy-x-in-sklearn-linear-regression)\n",
    "\n",
    "- https://newonlinecourses.science.psu.edu/stat501/node/252/\n",
    "\n",
    "- https://towardsdatascience.com/simple-and-multiple-linear-regression-in-python-c928425168f9\n",
    "\n",
    "- https://www.statsmodels.org/stable/examples/notebooks/generated/ols.html\n",
    "\n",
    "- https://lagunita.stanford.edu/assets/courseware/v1/e4f2f4823252ead8c1a68722e3415c28/c4x/HumanitiesSciences/StatLearning/asset/linear_regression-handout.pdf"
   ]
  }
 ],
 "metadata": {
  "kernelspec": {
   "display_name": "Python 3",
   "language": "python",
   "name": "python3"
  },
  "language_info": {
   "codemirror_mode": {
    "name": "ipython",
    "version": 3
   },
   "file_extension": ".py",
   "mimetype": "text/x-python",
   "name": "python",
   "nbconvert_exporter": "python",
   "pygments_lexer": "ipython3",
   "version": "3.7.4"
  },
  "toc": {
   "base_numbering": 1,
   "nav_menu": {},
   "number_sections": true,
   "sideBar": true,
   "skip_h1_title": false,
   "title_cell": "Table of Contents",
   "title_sidebar": "Contents",
   "toc_cell": false,
   "toc_position": {},
   "toc_section_display": true,
   "toc_window_display": false
  }
 },
 "nbformat": 4,
 "nbformat_minor": 2
}
