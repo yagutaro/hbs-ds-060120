{
 "cells": [
  {
   "cell_type": "markdown",
   "metadata": {
    "slideshow": {
     "slide_type": "slide"
    }
   },
   "source": [
    "# Hypothesis Testing"
   ]
  },
  {
   "cell_type": "markdown",
   "metadata": {
    "slideshow": {
     "slide_type": "slide"
    }
   },
   "source": [
    "## Scenarios\n",
    "\n",
    "- Chemistry - do inputs from two different barley fields produce different\n",
    "yields?\n",
    "- Astrophysics - do star systems with near-orbiting gas giants have hotter\n",
    "stars?\n",
    "- Economics - demography, surveys, etc.\n",
    "- Medicine - BMI vs. Hypertension, etc.\n",
    "- Business - which ad is more effective given engagement?"
   ]
  },
  {
   "cell_type": "markdown",
   "metadata": {
    "slideshow": {
     "slide_type": "slide"
    }
   },
   "source": [
    "![img1](./img/img1.png)"
   ]
  },
  {
   "cell_type": "markdown",
   "metadata": {
    "slideshow": {
     "slide_type": "slide"
    }
   },
   "source": [
    "![img2](./img/img2.png)"
   ]
  },
  {
   "cell_type": "markdown",
   "metadata": {
    "slideshow": {
     "slide_type": "slide"
    }
   },
   "source": [
    "### Null Hypothesis / Alternative Hypothesis Structure\n",
    "\n",
    "<img src=\"img/img3.png\" width=350>"
   ]
  },
  {
   "cell_type": "markdown",
   "metadata": {
    "slideshow": {
     "slide_type": "slide"
    }
   },
   "source": [
    "### The Null Hypothesis\n",
    "\n",
    "![gmork](https://vignette.wikia.nocookie.net/villains/images/2/2f/Ogmork.jpg/revision/latest?cb=20120217040244)  \n",
    "There is NOTHING, **no** difference."
   ]
  },
  {
   "cell_type": "markdown",
   "metadata": {
    "slideshow": {
     "slide_type": "slide"
    }
   },
   "source": [
    "### The Alternative hypothesis\n",
    "\n",
    "![difference](./img/giphy.gif)"
   ]
  },
  {
   "cell_type": "markdown",
   "metadata": {
    "slideshow": {
     "slide_type": "slide"
    }
   },
   "source": [
    "### Error\n",
    "\n",
    "- TYPE I: False positive rate (incorrectly reject)\n",
    "- TYPE II: False negative rate (incorrectly fail to reject)"
   ]
  },
  {
   "cell_type": "markdown",
   "metadata": {
    "slideshow": {
     "slide_type": "slide"
    }
   },
   "source": [
    "### Choosing the right error rate\n",
    "\n",
    "- Alpha, α\n",
    "- Sigma, σ\n",
    "- Depends on field of study, 0.00001 ≤ α ≤ 0.2"
   ]
  },
  {
   "cell_type": "markdown",
   "metadata": {
    "slideshow": {
     "slide_type": "slide"
    }
   },
   "source": [
    "### T-test\n",
    "\n",
    "Why use it?\n",
    "- Sometimes the population standard deviation is irrelevant, and sometimes it’s\n",
    "unknown. (we’ll get to the different types of t-test later)\n",
    "- Sometimes a sample is too small to be confident that it’s an accurate representation of reality"
   ]
  },
  {
   "cell_type": "markdown",
   "metadata": {
    "slideshow": {
     "slide_type": "slide"
    }
   },
   "source": [
    "### T vs Z (again)\n",
    "\n",
    "A t-test is like a modified z-test:\n",
    "- Penalize for small sample size - “degrees of freedom”\n",
    "- Use sample std. dev. s to estimate population σ\n",
    "\n",
    "<img src=\"img/img5.png\" width=500>"
   ]
  },
  {
   "cell_type": "markdown",
   "metadata": {
    "slideshow": {
     "slide_type": "slide"
    }
   },
   "source": [
    "### T and Z in detail\n",
    "<img src=\"img/img4.png\" width=500>"
   ]
  },
  {
   "cell_type": "markdown",
   "metadata": {
    "slideshow": {
     "slide_type": "slide"
    }
   },
   "source": [
    "### T-value table\n",
    "\n",
    "<img src=\"img/img6.png\" width=500>"
   ]
  },
  {
   "cell_type": "markdown",
   "metadata": {
    "slideshow": {
     "slide_type": "slide"
    }
   },
   "source": [
    "### P-Values\n",
    "<img src=\"https://imgs.xkcd.com/comics/significant.png\" width=500>\n",
    "\n",
    "[Source](https://xkcd.com/882/)"
   ]
  },
  {
   "cell_type": "markdown",
   "metadata": {
    "slideshow": {
     "slide_type": "slide"
    }
   },
   "source": [
    "### Language of Hypothesis Testing\n",
    "\n",
    "If p < α : we *reject* the null hypothesis<br>\n",
    "If p > α : we *fail to reject* the null hypothesis\n",
    "\n",
    "\n",
    "Language is **important**"
   ]
  },
  {
   "cell_type": "markdown",
   "metadata": {
    "slideshow": {
     "slide_type": "slide"
    }
   },
   "source": [
    "### What if the experiment fails?\n",
    "\n",
    "- Don’t throw out failed experiments\n",
    "- This methodology, with this data, does not produce significant results\n",
    " - More data\n",
    " - More time\n",
    " - More details"
   ]
  },
  {
   "cell_type": "markdown",
   "metadata": {
    "slideshow": {
     "slide_type": "slide"
    }
   },
   "source": [
    "### T-test success recipe\n",
    "\n",
    "Regardless of the type of t-test you are performing, there are 5 main steps to executing them:\n",
    "\n",
    "- Set up null and alternative hypotheses\n",
    "\n",
    "- Choose a significance level\n",
    "\n",
    "- Calculate the test statistic\n",
    "\n",
    "- Determine the critical or p-value (find the rejection region)\n",
    "\n",
    "- Compare t-value with critical t-value to accept or reject the Null hypothesis."
   ]
  },
  {
   "cell_type": "markdown",
   "metadata": {
    "slideshow": {
     "slide_type": "slide"
    }
   },
   "source": [
    "# Question 1\n",
    "Is this any different from population?\n",
    "- Population mean = 85\n",
    "- Sample = [90,100,110]"
   ]
  },
  {
   "cell_type": "markdown",
   "metadata": {
    "slideshow": {
     "slide_type": "slide"
    }
   },
   "source": [
    "#### Using `scipi`"
   ]
  },
  {
   "cell_type": "code",
   "execution_count": null,
   "metadata": {},
   "outputs": [],
   "source": [
    "# H0 = there is no difference in our sample vs. population\n",
    "# Ha = our sample mean is greater than the population mean\n",
    "# alpha = .05"
   ]
  },
  {
   "cell_type": "code",
   "execution_count": 1,
   "metadata": {
    "scrolled": true
   },
   "outputs": [
    {
     "data": {
      "text/plain": [
       "Ttest_1sampResult(statistic=2.5980762113533156, pvalue=0.12168993434632014)"
      ]
     },
     "execution_count": 1,
     "metadata": {},
     "output_type": "execute_result"
    }
   ],
   "source": [
    "from scipy.stats import ttest_1samp\n",
    "data = [90, 100, 110]\n",
    "ttest_1samp(data, 85)"
   ]
  },
  {
   "cell_type": "code",
   "execution_count": 7,
   "metadata": {},
   "outputs": [],
   "source": [
    "result = Out[1]"
   ]
  },
  {
   "cell_type": "code",
   "execution_count": 12,
   "metadata": {},
   "outputs": [
    {
     "data": {
      "text/plain": [
       "2.5980762113533156"
      ]
     },
     "execution_count": 12,
     "metadata": {},
     "output_type": "execute_result"
    }
   ],
   "source": [
    "result.statistic"
   ]
  },
  {
   "cell_type": "code",
   "execution_count": 10,
   "metadata": {},
   "outputs": [
    {
     "data": {
      "text/plain": [
       "0.06084496717316007"
      ]
     },
     "execution_count": 10,
     "metadata": {},
     "output_type": "execute_result"
    }
   ],
   "source": [
    "result.pvalue / 2"
   ]
  },
  {
   "cell_type": "markdown",
   "metadata": {
    "slideshow": {
     "slide_type": "slide"
    }
   },
   "source": [
    "#### Manual implementation"
   ]
  },
  {
   "cell_type": "code",
   "execution_count": 3,
   "metadata": {},
   "outputs": [],
   "source": [
    "import numpy as np"
   ]
  },
  {
   "cell_type": "code",
   "execution_count": 4,
   "metadata": {},
   "outputs": [],
   "source": [
    "from statistics import stdev\n",
    "\n",
    "data = [90,100,110]\n",
    "mu = 85\n",
    "n = len(data)\n",
    "s = stdev(data)\n",
    "df = n-1\n",
    "\n",
    "t = (100-85)/(s/(np.sqrt(n)))"
   ]
  },
  {
   "cell_type": "code",
   "execution_count": 5,
   "metadata": {},
   "outputs": [
    {
     "name": "stdout",
     "output_type": "stream",
     "text": [
      "2.5980762113533156\n",
      "2\n"
     ]
    }
   ],
   "source": [
    "print(t)\n",
    "print(df)"
   ]
  },
  {
   "cell_type": "markdown",
   "metadata": {
    "slideshow": {
     "slide_type": "slide"
    }
   },
   "source": [
    "# Question 2\n",
    "\n",
    "I'm buying jeans from store A and store B.  I know nothing about their inventory other than prices. Should I go just one store for a less expensive pair of jeans?\n",
    "I'm pretty apprehensive about this big decision so alpha = 0.10\n",
    "\n",
    "Try this both manually and with scipy\n",
    "\n",
    "- [20,30,30,50,75,25,30,30,40,80]\n",
    "- [60,30,70,90,60,40,70,40]"
   ]
  },
  {
   "cell_type": "code",
   "execution_count": 13,
   "metadata": {},
   "outputs": [],
   "source": [
    "from scipy.stats import ttest_ind"
   ]
  },
  {
   "cell_type": "code",
   "execution_count": 14,
   "metadata": {
    "slideshow": {
     "slide_type": "slide"
    }
   },
   "outputs": [],
   "source": [
    "store1 = [20,30,30,50,75,25,30,30,40,80]\n",
    "store2 = [60,30,70,90,60,40,70,40]"
   ]
  },
  {
   "cell_type": "code",
   "execution_count": 23,
   "metadata": {},
   "outputs": [
    {
     "data": {
      "text/plain": [
       "41.0"
      ]
     },
     "execution_count": 23,
     "metadata": {},
     "output_type": "execute_result"
    }
   ],
   "source": [
    "np.mean(store1)"
   ]
  },
  {
   "cell_type": "code",
   "execution_count": 24,
   "metadata": {},
   "outputs": [
    {
     "data": {
      "text/plain": [
       "57.5"
      ]
     },
     "execution_count": 24,
     "metadata": {},
     "output_type": "execute_result"
    }
   ],
   "source": [
    "np.mean(store2)"
   ]
  },
  {
   "cell_type": "code",
   "execution_count": 20,
   "metadata": {},
   "outputs": [],
   "source": [
    "import matplotlib.pyplot as plt\n",
    "%matplotlib inline"
   ]
  },
  {
   "cell_type": "code",
   "execution_count": 21,
   "metadata": {},
   "outputs": [
    {
     "data": {
      "text/plain": [
       "<BarContainer object of 10 artists>"
      ]
     },
     "execution_count": 21,
     "metadata": {},
     "output_type": "execute_result"
    },
    {
     "data": {
      "image/png": "[encoded data removed]",
      "text/plain": [
       "<Figure size 432x288 with 1 Axes>"
      ]
     },
     "metadata": {
      "needs_background": "light"
     },
     "output_type": "display_data"
    }
   ],
   "source": [
    "plt.bar(range(len(store1)), store1)"
   ]
  },
  {
   "cell_type": "code",
   "execution_count": 22,
   "metadata": {},
   "outputs": [
    {
     "data": {
      "text/plain": [
       "<BarContainer object of 8 artists>"
      ]
     },
     "execution_count": 22,
     "metadata": {},
     "output_type": "execute_result"
    },
    {
     "data": {
      "image/png": "[encoded data removed]",
      "text/plain": [
       "<Figure size 432x288 with 1 Axes>"
      ]
     },
     "metadata": {
      "needs_background": "light"
     },
     "output_type": "display_data"
    }
   ],
   "source": [
    "plt.bar(range(len(store2)), store2)"
   ]
  },
  {
   "cell_type": "code",
   "execution_count": 26,
   "metadata": {},
   "outputs": [
    {
     "data": {
      "text/plain": [
       "0.05342518984181651"
      ]
     },
     "execution_count": 26,
     "metadata": {},
     "output_type": "execute_result"
    }
   ],
   "source": [
    "ttest_ind(store1, store2, equal_var=False).pvalue / 2"
   ]
  },
  {
   "cell_type": "code",
   "execution_count": null,
   "metadata": {},
   "outputs": [],
   "source": []
  },
  {
   "cell_type": "code",
   "execution_count": null,
   "metadata": {},
   "outputs": [],
   "source": [
    "import numpy as np"
   ]
  },
  {
   "cell_type": "code",
   "execution_count": 58,
   "metadata": {},
   "outputs": [
    {
     "data": {
      "text/plain": [
       "Ttest_indResult(statistic=-2.0399562678358034, pvalue=0.04161755563145291)"
      ]
     },
     "execution_count": 58,
     "metadata": {},
     "output_type": "execute_result"
    }
   ],
   "source": [
    "from scipy import stats\n",
    "# np.random.seed(12345678)\n",
    "# Test with sample with identical means:\n",
    "rvs1 = stats.norm.rvs(loc=5, scale=10, size=500)\n",
    "rvs2 = stats.norm.rvs(loc=5, scale=10, size=500)\n",
    "stats.ttest_ind(rvs1, rvs2)"
   ]
  },
  {
   "cell_type": "code",
   "execution_count": 59,
   "metadata": {},
   "outputs": [
    {
     "data": {
      "text/plain": [
       "5.2491765350484805"
      ]
     },
     "execution_count": 59,
     "metadata": {},
     "output_type": "execute_result"
    }
   ],
   "source": [
    "np.mean(rvs1)"
   ]
  },
  {
   "cell_type": "code",
   "execution_count": 60,
   "metadata": {},
   "outputs": [
    {
     "data": {
      "text/plain": [
       "6.530355246120527"
      ]
     },
     "execution_count": 60,
     "metadata": {},
     "output_type": "execute_result"
    }
   ],
   "source": [
    "np.mean(rvs2)"
   ]
  },
  {
   "cell_type": "markdown",
   "metadata": {
    "slideshow": {
     "slide_type": "slide"
    }
   },
   "source": [
    "# Question 3\n",
    "Given the same data 1, how many more samples would you need to achieve p = 0.01, assuming sample mean and sample std. dev. do not change."
   ]
  },
  {
   "cell_type": "code",
   "execution_count": 61,
   "metadata": {
    "slideshow": {
     "slide_type": "slide"
    }
   },
   "outputs": [],
   "source": [
    "data = [90,100,110]\n",
    "mu = 85\n",
    "n = len(data)\n",
    "s = stdev(data)\n",
    "df = n-1\n",
    "\n",
    "t = (100-85)/(s/(n**.5))"
   ]
  },
  {
   "cell_type": "code",
   "execution_count": 62,
   "metadata": {},
   "outputs": [
    {
     "name": "stdout",
     "output_type": "stream",
     "text": [
      "2.5980762113533156\n"
     ]
    }
   ],
   "source": [
    "print(t)"
   ]
  },
  {
   "cell_type": "code",
   "execution_count": 63,
   "metadata": {
    "slideshow": {
     "slide_type": "slide"
    }
   },
   "outputs": [
    {
     "name": "stdout",
     "output_type": "stream",
     "text": [
      "2 2.5980762113533156\n",
      "3 3.0\n",
      "4 3.3541019662496843\n",
      "5 3.674234614174767\n",
      "6 3.968626966596886\n",
      "7 4.242640687119286\n",
      "8 4.5\n"
     ]
    }
   ],
   "source": [
    "for n in range(3,10):\n",
    "    df = n-1\n",
    "    t = (100-85)/(s/(n**.5))\n",
    "    print (df,t)"
   ]
  },
  {
   "cell_type": "markdown",
   "metadata": {},
   "source": [
    "# Using T-tests for hypothesis testing for the means"
   ]
  },
  {
   "cell_type": "code",
   "execution_count": 65,
   "metadata": {},
   "outputs": [],
   "source": [
    "import pandas as pd"
   ]
  },
  {
   "cell_type": "code",
   "execution_count": 67,
   "metadata": {},
   "outputs": [],
   "source": []
  },
  {
   "cell_type": "code",
   "execution_count": 68,
   "metadata": {},
   "outputs": [],
   "source": [
    "df = pd.read_csv('../day-2-hypothesis-testing/data/WA_Fn-UseC_-Telco-Customer-Churn.csv')"
   ]
  },
  {
   "cell_type": "markdown",
   "metadata": {},
   "source": [
    "[Link to the dataset](https://www.kaggle.com/blastchar/telco-customer-churn)"
   ]
  },
  {
   "cell_type": "markdown",
   "metadata": {},
   "source": [
    "__Your Turn__\n",
    "\n",
    "1. Find how many different values are there in the PaymentMethod column.\n"
   ]
  },
  {
   "cell_type": "code",
   "execution_count": 72,
   "metadata": {},
   "outputs": [
    {
     "data": {
      "text/plain": [
       "Electronic check             2365\n",
       "Mailed check                 1612\n",
       "Bank transfer (automatic)    1544\n",
       "Credit card (automatic)      1522\n",
       "Name: PaymentMethod, dtype: int64"
      ]
     },
     "execution_count": 72,
     "metadata": {},
     "output_type": "execute_result"
    }
   ],
   "source": [
    "df.PaymentMethod.value_counts()"
   ]
  },
  {
   "cell_type": "markdown",
   "metadata": {},
   "source": [
    "__Your Turn__\n",
    "\n",
    "1. Select one of the categories above in PaymentMethod and we will investigate whether this data is statistically significantly different from the national data or not.\n",
    "\n",
    "2. Suppose we know that nationwide the average monthly average spendings for the service is $70 but we don't know the standard deviation for this data. Construct a hypothesis testing for the case, the certain PaymentMethod is different than the national data.\n",
    "  - hint: use `scipy.stats.ttest_1samp`\n",
    "\n",
    "3. In our case we will focus on Payment Method == `'Mailed check'` but you can work with others too."
   ]
  },
  {
   "cell_type": "markdown",
   "metadata": {},
   "source": [
    "$H_{a}$: Spending by mailed check is different than national average spending\n",
    "\n",
    "$H_{0}$: There is no difference in the average spending between Mailed check and national average\n",
    "\n",
    "$\\alpha$: 0.05\n"
   ]
  },
  {
   "cell_type": "code",
   "execution_count": 75,
   "metadata": {},
   "outputs": [],
   "source": [
    "sample = df.loc[df.PaymentMethod == 'Mailed check'].MonthlyCharges"
   ]
  },
  {
   "cell_type": "code",
   "execution_count": 77,
   "metadata": {},
   "outputs": [
    {
     "data": {
      "text/plain": [
       "43.917059553349915"
      ]
     },
     "execution_count": 77,
     "metadata": {},
     "output_type": "execute_result"
    }
   ],
   "source": [
    "sample.mean()"
   ]
  },
  {
   "cell_type": "code",
   "execution_count": 82,
   "metadata": {},
   "outputs": [
    {
     "data": {
      "text/plain": [
       "Ttest_1sampResult(statistic=-3.3492545253168986, pvalue=0.010091462627723707)"
      ]
     },
     "execution_count": 82,
     "metadata": {},
     "output_type": "execute_result"
    }
   ],
   "source": [
    "ttest_1samp(sample.sample(9), 70)"
   ]
  },
  {
   "cell_type": "markdown",
   "metadata": {},
   "source": [
    "__Your Turn__\n",
    "\n",
    "1. From the data set 'df' get the rows with SeniorCitizen ==1 and keep them in a variable called seniors\n",
    "\n",
    "2. Keep other records in a variable called 'others'\n",
    "\n",
    "3. Check how many observations do we have in each sample"
   ]
  },
  {
   "cell_type": "code",
   "execution_count": 83,
   "metadata": {},
   "outputs": [
    {
     "name": "stdout",
     "output_type": "stream",
     "text": [
      "(1142, 21)\n",
      "(5901, 21)\n"
     ]
    }
   ],
   "source": [
    "seniors = df[df['SeniorCitizen'] == 1]\n",
    "others = df[df['SeniorCitizen'] == 0]\n",
    "\n",
    "print(seniors.shape)\n",
    "print(others.shape)"
   ]
  },
  {
   "cell_type": "markdown",
   "metadata": {},
   "source": [
    "__Your Turn__\n",
    "\n",
    "1. Now we would like to compare the MonthlyCharges for Seniors and others. \n",
    "\n",
    "I hypothesize that seniors should have lower Monthlycharges average than others. \n",
    "\n",
    "2. Write a hypothesis test that checks this claim.\n"
   ]
  },
  {
   "cell_type": "markdown",
   "metadata": {},
   "source": [
    "$H_{a}:$ average MonthlyCharges for Senior customers is different than the average of MonthlyCharges for non-senior customers.\n",
    "\n",
    "$H_{0}:$ The avg monthly charges for 'senior' customers should be equal to the average 'other' customer mothly charges.\n",
    "\n",
    "$\\alpha:$ 0.05"
   ]
  },
  {
   "cell_type": "markdown",
   "metadata": {},
   "source": [
    "Now we will test our results by using two sample t_test (`scipy.stats.ttest_ind`)."
   ]
  },
  {
   "cell_type": "code",
   "execution_count": 85,
   "metadata": {},
   "outputs": [
    {
     "name": "stdout",
     "output_type": "stream",
     "text": [
      "79.82035901926453\n",
      "61.84744111167598\n"
     ]
    }
   ],
   "source": [
    "print(seniors.MonthlyCharges.mean())\n",
    "print(others.MonthlyCharges.mean())"
   ]
  },
  {
   "cell_type": "code",
   "execution_count": 86,
   "metadata": {},
   "outputs": [
    {
     "data": {
      "text/plain": [
       "Ttest_indResult(statistic=22.288279118400933, pvalue=3.826212668910673e-98)"
      ]
     },
     "execution_count": 86,
     "metadata": {},
     "output_type": "execute_result"
    }
   ],
   "source": [
    "stats.ttest_ind(seniors.MonthlyCharges,\n",
    "                others.MonthlyCharges,\n",
    "                equal_var= False)"
   ]
  },
  {
   "cell_type": "code",
   "execution_count": null,
   "metadata": {},
   "outputs": [],
   "source": []
  }
 ],
 "metadata": {
  "kernelspec": {
   "display_name": "Python 3",
   "language": "python",
   "name": "python3"
  },
  "language_info": {
   "codemirror_mode": {
    "name": "ipython",
    "version": 3
   },
   "file_extension": ".py",
   "mimetype": "text/x-python",
   "name": "python",
   "nbconvert_exporter": "python",
   "pygments_lexer": "ipython3",
   "version": "3.7.4"
  }
 },
 "nbformat": 4,
 "nbformat_minor": 2
}
